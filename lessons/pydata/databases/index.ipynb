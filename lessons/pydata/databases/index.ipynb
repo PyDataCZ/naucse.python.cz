{
 "cells": [
  {
   "cell_type": "markdown",
   "metadata": {},
   "source": [
    "# Databáze"
   ]
  },
  {
   "cell_type": "markdown",
   "metadata": {},
   "source": [
    "\n"
   ]
  },
  {
   "cell_type": "markdown",
   "metadata": {},
   "source": []
  },
  {
   "cell_type": "code",
   "execution_count": 1,
   "metadata": {},
   "outputs": [],
   "source": [
    "import pandas as pd"
   ]
  },
  {
   "cell_type": "markdown",
   "metadata": {},
   "source": [
    "## Instalace a import SQLAlchemy"
   ]
  },
  {
   "cell_type": "markdown",
   "metadata": {},
   "source": [
    "Instalaci knihovny [SQLAlchemy](https://www.sqlalchemy.org/) provedeme přes pip (nezapomeňte mít aktivovaný venv, do kterého to chcete instalovat):\n",
    "\n",
    "```\n",
    "pip install sqlalchemy\n",
    "```"
   ]
  },
  {
   "cell_type": "code",
   "execution_count": 2,
   "metadata": {},
   "outputs": [],
   "source": [
    "import sqlalchemy"
   ]
  },
  {
   "cell_type": "markdown",
   "metadata": {},
   "source": [
    "## Stažení filmové databáze\n",
    "\n",
    "Pro ukázku práce s databází použijeme data od Míry Brabence.\n",
    "Jde o databázi typu SQLite - skládá se z jediného souboru, ve kterém jsou všecha data.\n",
    "Soubor stáhneme knihovnou Requests, kterou už máte nainstalovanou (instrukce byly v první hodině)\n",
    "a uložíme ho do souboru na disku (v pracovním adresáři, tj. tam, odkud jste spustili Jupyter Notebook)."
   ]
  },
  {
   "cell_type": "code",
   "execution_count": 3,
   "metadata": {},
   "outputs": [],
   "source": [
    "from pathlib import Path\n",
    "import requests"
   ]
  },
  {
   "cell_type": "code",
   "execution_count": 4,
   "metadata": {},
   "outputs": [
    {
     "data": {
      "text/plain": [
       "995328"
      ]
     },
     "execution_count": 4,
     "metadata": {},
     "output_type": "execute_result"
    }
   ],
   "source": [
    "db_data = requests.get('https://github.com/brabemi/imper-ukol/raw/master/app.db').content\n",
    "Path('filmy.db').write_bytes(db_data)"
   ]
  },
  {
   "cell_type": "markdown",
   "metadata": {},
   "source": [
    "## Otevření databáze, průzkum struktury"
   ]
  },
  {
   "cell_type": "code",
   "execution_count": 5,
   "metadata": {},
   "outputs": [],
   "source": [
    "engine = sqlalchemy.create_engine('sqlite:///filmy.db')"
   ]
  },
  {
   "cell_type": "markdown",
   "metadata": {},
   "source": [
    "Objekt `engine` obsahuje připojení do databáze a skrz něj budeme provádět operace s danou databází.\n",
    "\n",
    "Začneme tím, že se podíváme, jaká je struktura té databáze - jaké tabulky obsahuje a co obsahují ty tabulky. Každá databáze na to má jiné finty, jak toto zjistit (někdy funguje SQL příkaz `SHOW TABLES`, jindy je zase potřeba `SELECT` z metadat), naštěstí SQLAlchemy nám s tím pomůže."
   ]
  },
  {
   "cell_type": "code",
   "execution_count": 6,
   "metadata": {},
   "outputs": [
    {
     "data": {
      "text/plain": [
       "['actor', 'alembic_version', 'movie', 'movie_to_actor']"
      ]
     },
     "execution_count": 6,
     "metadata": {},
     "output_type": "execute_result"
    }
   ],
   "source": [
    "sqlalchemy.inspect(engine).get_table_names()"
   ]
  },
  {
   "cell_type": "code",
   "execution_count": 7,
   "metadata": {},
   "outputs": [],
   "source": [
    "def prozkoumat(engine):\n",
    "    inspector = sqlalchemy.inspect(engine)\n",
    "    for schema in inspector.get_schema_names():\n",
    "        print('Schema:', schema)\n",
    "        for table_name in inspector.get_table_names(schema=schema):\n",
    "            print()\n",
    "            print('  Table:', table_name)\n",
    "            print()\n",
    "            for column in inspector.get_columns(table_name, schema=schema):\n",
    "                print('      Column:', column['name'].ljust(12), column['type'])"
   ]
  },
  {
   "cell_type": "code",
   "execution_count": 8,
   "metadata": {},
   "outputs": [
    {
     "name": "stdout",
     "output_type": "stream",
     "text": [
      "Schema: main\n",
      "\n",
      "  Table: actor\n",
      "\n",
      "      Column: id           INTEGER\n",
      "      Column: name         TEXT\n",
      "      Column: simple_name  TEXT\n",
      "      Column: csfd_id      INTEGER\n",
      "\n",
      "  Table: alembic_version\n",
      "\n",
      "      Column: version_num  VARCHAR(32)\n",
      "\n",
      "  Table: movie\n",
      "\n",
      "      Column: id           INTEGER\n",
      "      Column: name         TEXT\n",
      "      Column: simple_name  TEXT\n",
      "      Column: csfd_id      INTEGER\n",
      "\n",
      "  Table: movie_to_actor\n",
      "\n",
      "      Column: movie_id     INTEGER\n",
      "      Column: actor_id     INTEGER\n"
     ]
    }
   ],
   "source": [
    "prozkoumat(engine)"
   ]
  },
  {
   "cell_type": "markdown",
   "metadata": {},
   "source": [
    "## SELECT"
   ]
  },
  {
   "cell_type": "code",
   "execution_count": 9,
   "metadata": {},
   "outputs": [
    {
     "data": {
      "text/plain": [
       "<sqlalchemy.engine.result.ResultProxy at 0x1141c5a90>"
      ]
     },
     "execution_count": 9,
     "metadata": {},
     "output_type": "execute_result"
    }
   ],
   "source": [
    "engine.execute('SELECT id, name, csfd_id FROM actor')"
   ]
  },
  {
   "cell_type": "code",
   "execution_count": 10,
   "metadata": {},
   "outputs": [
    {
     "name": "stdout",
     "output_type": "stream",
     "text": [
      "(1, 'Tim Robbins', 103)\n",
      "(2, 'Morgan Freeman', 92)\n",
      "(3, 'Bob Gunton', 202)\n",
      "(4, 'William Sadler', 203)\n",
      "(5, 'Clancy Brown', 204)\n"
     ]
    }
   ],
   "source": [
    "result = engine.execute('SELECT id, name, csfd_id FROM actor LIMIT 5')\n",
    "for row in result:\n",
    "    print(row)"
   ]
  },
  {
   "cell_type": "code",
   "execution_count": 11,
   "metadata": {},
   "outputs": [
    {
     "data": {
      "text/plain": [
       "[(1, 'Tim Robbins', 103),\n",
       " (2, 'Morgan Freeman', 92),\n",
       " (3, 'Bob Gunton', 202),\n",
       " (4, 'William Sadler', 203),\n",
       " (5, 'Clancy Brown', 204)]"
      ]
     },
     "execution_count": 11,
     "metadata": {},
     "output_type": "execute_result"
    }
   ],
   "source": [
    "list(engine.execute('SELECT id, name, csfd_id FROM actor LIMIT 5'))"
   ]
  },
  {
   "cell_type": "code",
   "execution_count": 12,
   "metadata": {},
   "outputs": [
    {
     "name": "stdout",
     "output_type": "stream",
     "text": [
      "1 Tim Robbins\n",
      "2 Morgan Freeman\n",
      "3 Bob Gunton\n",
      "4 William Sadler\n",
      "5 Clancy Brown\n"
     ]
    }
   ],
   "source": [
    "result = engine.execute('SELECT id, name, csfd_id FROM actor LIMIT 5')\n",
    "for row in result:\n",
    "    print(row[0], row[1])"
   ]
  },
  {
   "cell_type": "code",
   "execution_count": 13,
   "metadata": {},
   "outputs": [
    {
     "name": "stdout",
     "output_type": "stream",
     "text": [
      "1 Tim Robbins\n",
      "2 Morgan Freeman\n",
      "3 Bob Gunton\n",
      "4 William Sadler\n",
      "5 Clancy Brown\n"
     ]
    }
   ],
   "source": [
    "result = engine.execute('SELECT id, name, csfd_id FROM actor LIMIT 5')\n",
    "for row in result:\n",
    "    print(row['id'], row['name'])"
   ]
  },
  {
   "cell_type": "code",
   "execution_count": 14,
   "metadata": {},
   "outputs": [
    {
     "name": "stdout",
     "output_type": "stream",
     "text": [
      "{'id': 1, 'name': 'Tim Robbins', 'csfd_id': 103}\n",
      "{'id': 2, 'name': 'Morgan Freeman', 'csfd_id': 92}\n",
      "{'id': 3, 'name': 'Bob Gunton', 'csfd_id': 202}\n",
      "{'id': 4, 'name': 'William Sadler', 'csfd_id': 203}\n",
      "{'id': 5, 'name': 'Clancy Brown', 'csfd_id': 204}\n"
     ]
    }
   ],
   "source": [
    "result = engine.execute('SELECT id, name, csfd_id FROM actor LIMIT 5')\n",
    "for row in result:\n",
    "    print(dict(row))"
   ]
  },
  {
   "cell_type": "code",
   "execution_count": 15,
   "metadata": {},
   "outputs": [
    {
     "name": "stdout",
     "output_type": "stream",
     "text": [
      "{'id': 1, 'name': 'Tim Robbins', 'simple_name': 'timrobbins', 'csfd_id': 103}\n",
      "{'id': 2, 'name': 'Morgan Freeman', 'simple_name': 'morganfreeman', 'csfd_id': 92}\n",
      "{'id': 3, 'name': 'Bob Gunton', 'simple_name': 'bobgunton', 'csfd_id': 202}\n",
      "{'id': 4, 'name': 'William Sadler', 'simple_name': 'williamsadler', 'csfd_id': 203}\n",
      "{'id': 5, 'name': 'Clancy Brown', 'simple_name': 'clancybrown', 'csfd_id': 204}\n"
     ]
    }
   ],
   "source": [
    "result = engine.execute('SELECT * FROM actor LIMIT 5')\n",
    "for row in result:\n",
    "    print(dict(row))"
   ]
  },
  {
   "cell_type": "code",
   "execution_count": 16,
   "metadata": {},
   "outputs": [
    {
     "data": {
      "text/html": [
       "<div>\n",
       "<style scoped>\n",
       "    .dataframe tbody tr th:only-of-type {\n",
       "        vertical-align: middle;\n",
       "    }\n",
       "\n",
       "    .dataframe tbody tr th {\n",
       "        vertical-align: top;\n",
       "    }\n",
       "\n",
       "    .dataframe thead th {\n",
       "        text-align: right;\n",
       "    }\n",
       "</style>\n",
       "<table border=\"1\" class=\"dataframe\">\n",
       "  <thead>\n",
       "    <tr style=\"text-align: right;\">\n",
       "      <th></th>\n",
       "      <th>id</th>\n",
       "      <th>name</th>\n",
       "    </tr>\n",
       "  </thead>\n",
       "  <tbody>\n",
       "    <tr>\n",
       "      <th>0</th>\n",
       "      <td>1</td>\n",
       "      <td>Tim Robbins</td>\n",
       "    </tr>\n",
       "    <tr>\n",
       "      <th>1</th>\n",
       "      <td>2</td>\n",
       "      <td>Morgan Freeman</td>\n",
       "    </tr>\n",
       "    <tr>\n",
       "      <th>2</th>\n",
       "      <td>3</td>\n",
       "      <td>Bob Gunton</td>\n",
       "    </tr>\n",
       "    <tr>\n",
       "      <th>3</th>\n",
       "      <td>4</td>\n",
       "      <td>William Sadler</td>\n",
       "    </tr>\n",
       "    <tr>\n",
       "      <th>4</th>\n",
       "      <td>5</td>\n",
       "      <td>Clancy Brown</td>\n",
       "    </tr>\n",
       "  </tbody>\n",
       "</table>\n",
       "</div>"
      ],
      "text/plain": [
       "   id            name\n",
       "0   1     Tim Robbins\n",
       "1   2  Morgan Freeman\n",
       "2   3      Bob Gunton\n",
       "3   4  William Sadler\n",
       "4   5    Clancy Brown"
      ]
     },
     "execution_count": 16,
     "metadata": {},
     "output_type": "execute_result"
    }
   ],
   "source": [
    "pd.read_sql_query('SELECT id, name FROM actor LIMIT 5', engine)"
   ]
  },
  {
   "cell_type": "code",
   "execution_count": 17,
   "metadata": {},
   "outputs": [
    {
     "data": {
      "text/html": [
       "<div>\n",
       "<style scoped>\n",
       "    .dataframe tbody tr th:only-of-type {\n",
       "        vertical-align: middle;\n",
       "    }\n",
       "\n",
       "    .dataframe tbody tr th {\n",
       "        vertical-align: top;\n",
       "    }\n",
       "\n",
       "    .dataframe thead th {\n",
       "        text-align: right;\n",
       "    }\n",
       "</style>\n",
       "<table border=\"1\" class=\"dataframe\">\n",
       "  <thead>\n",
       "    <tr style=\"text-align: right;\">\n",
       "      <th></th>\n",
       "      <th>id</th>\n",
       "      <th>name</th>\n",
       "      <th>simple_name</th>\n",
       "      <th>csfd_id</th>\n",
       "    </tr>\n",
       "  </thead>\n",
       "  <tbody>\n",
       "    <tr>\n",
       "      <th>0</th>\n",
       "      <td>1</td>\n",
       "      <td>Tim Robbins</td>\n",
       "      <td>timrobbins</td>\n",
       "      <td>103</td>\n",
       "    </tr>\n",
       "    <tr>\n",
       "      <th>1</th>\n",
       "      <td>2</td>\n",
       "      <td>Morgan Freeman</td>\n",
       "      <td>morganfreeman</td>\n",
       "      <td>92</td>\n",
       "    </tr>\n",
       "    <tr>\n",
       "      <th>2</th>\n",
       "      <td>3</td>\n",
       "      <td>Bob Gunton</td>\n",
       "      <td>bobgunton</td>\n",
       "      <td>202</td>\n",
       "    </tr>\n",
       "    <tr>\n",
       "      <th>3</th>\n",
       "      <td>4</td>\n",
       "      <td>William Sadler</td>\n",
       "      <td>williamsadler</td>\n",
       "      <td>203</td>\n",
       "    </tr>\n",
       "    <tr>\n",
       "      <th>4</th>\n",
       "      <td>5</td>\n",
       "      <td>Clancy Brown</td>\n",
       "      <td>clancybrown</td>\n",
       "      <td>204</td>\n",
       "    </tr>\n",
       "    <tr>\n",
       "      <th>...</th>\n",
       "      <td>...</td>\n",
       "      <td>...</td>\n",
       "      <td>...</td>\n",
       "      <td>...</td>\n",
       "    </tr>\n",
       "    <tr>\n",
       "      <th>7377</th>\n",
       "      <td>7378</td>\n",
       "      <td>Aaron Lustig</td>\n",
       "      <td>aaronlustig</td>\n",
       "      <td>93843</td>\n",
       "    </tr>\n",
       "    <tr>\n",
       "      <th>7378</th>\n",
       "      <td>7379</td>\n",
       "      <td>Alan Fudge</td>\n",
       "      <td>alanfudge</td>\n",
       "      <td>144251</td>\n",
       "    </tr>\n",
       "    <tr>\n",
       "      <th>7379</th>\n",
       "      <td>7380</td>\n",
       "      <td>Stuart Lancaster</td>\n",
       "      <td>stuartlancaster</td>\n",
       "      <td>374381</td>\n",
       "    </tr>\n",
       "    <tr>\n",
       "      <th>7380</th>\n",
       "      <td>7381</td>\n",
       "      <td>Mary Jane Heath</td>\n",
       "      <td>maryjaneheath</td>\n",
       "      <td>393710</td>\n",
       "    </tr>\n",
       "    <tr>\n",
       "      <th>7381</th>\n",
       "      <td>7382</td>\n",
       "      <td>Peter Palmer</td>\n",
       "      <td>peterpalmer</td>\n",
       "      <td>440673</td>\n",
       "    </tr>\n",
       "  </tbody>\n",
       "</table>\n",
       "<p>7382 rows × 4 columns</p>\n",
       "</div>"
      ],
      "text/plain": [
       "        id              name      simple_name  csfd_id\n",
       "0        1       Tim Robbins       timrobbins      103\n",
       "1        2    Morgan Freeman    morganfreeman       92\n",
       "2        3        Bob Gunton        bobgunton      202\n",
       "3        4    William Sadler    williamsadler      203\n",
       "4        5      Clancy Brown      clancybrown      204\n",
       "...    ...               ...              ...      ...\n",
       "7377  7378      Aaron Lustig      aaronlustig    93843\n",
       "7378  7379        Alan Fudge        alanfudge   144251\n",
       "7379  7380  Stuart Lancaster  stuartlancaster   374381\n",
       "7380  7381   Mary Jane Heath    maryjaneheath   393710\n",
       "7381  7382      Peter Palmer      peterpalmer   440673\n",
       "\n",
       "[7382 rows x 4 columns]"
      ]
     },
     "execution_count": 17,
     "metadata": {},
     "output_type": "execute_result"
    }
   ],
   "source": [
    "pd.read_sql_table('actor', engine)"
   ]
  },
  {
   "cell_type": "markdown",
   "metadata": {},
   "source": [
    "## Průzkum dat ve filmové databázi"
   ]
  },
  {
   "cell_type": "code",
   "execution_count": 18,
   "metadata": {},
   "outputs": [
    {
     "data": {
      "text/plain": [
       "['actor', 'alembic_version', 'movie', 'movie_to_actor']"
      ]
     },
     "execution_count": 18,
     "metadata": {},
     "output_type": "execute_result"
    }
   ],
   "source": [
    "sqlalchemy.inspect(engine).get_table_names()"
   ]
  },
  {
   "cell_type": "code",
   "execution_count": 19,
   "metadata": {},
   "outputs": [],
   "source": [
    "actor = pd.read_sql_table('actor', engine)\n",
    "movie = pd.read_sql_table('movie', engine)\n",
    "mta = pd.read_sql_table('movie_to_actor', engine)"
   ]
  },
  {
   "cell_type": "code",
   "execution_count": 20,
   "metadata": {},
   "outputs": [
    {
     "data": {
      "text/html": [
       "<div>\n",
       "<style scoped>\n",
       "    .dataframe tbody tr th:only-of-type {\n",
       "        vertical-align: middle;\n",
       "    }\n",
       "\n",
       "    .dataframe tbody tr th {\n",
       "        vertical-align: top;\n",
       "    }\n",
       "\n",
       "    .dataframe thead th {\n",
       "        text-align: right;\n",
       "    }\n",
       "</style>\n",
       "<table border=\"1\" class=\"dataframe\">\n",
       "  <thead>\n",
       "    <tr style=\"text-align: right;\">\n",
       "      <th></th>\n",
       "      <th>id</th>\n",
       "      <th>name</th>\n",
       "      <th>simple_name</th>\n",
       "      <th>csfd_id</th>\n",
       "    </tr>\n",
       "  </thead>\n",
       "  <tbody>\n",
       "    <tr>\n",
       "      <th>0</th>\n",
       "      <td>1</td>\n",
       "      <td>Tim Robbins</td>\n",
       "      <td>timrobbins</td>\n",
       "      <td>103</td>\n",
       "    </tr>\n",
       "    <tr>\n",
       "      <th>1</th>\n",
       "      <td>2</td>\n",
       "      <td>Morgan Freeman</td>\n",
       "      <td>morganfreeman</td>\n",
       "      <td>92</td>\n",
       "    </tr>\n",
       "    <tr>\n",
       "      <th>2</th>\n",
       "      <td>3</td>\n",
       "      <td>Bob Gunton</td>\n",
       "      <td>bobgunton</td>\n",
       "      <td>202</td>\n",
       "    </tr>\n",
       "    <tr>\n",
       "      <th>3</th>\n",
       "      <td>4</td>\n",
       "      <td>William Sadler</td>\n",
       "      <td>williamsadler</td>\n",
       "      <td>203</td>\n",
       "    </tr>\n",
       "    <tr>\n",
       "      <th>4</th>\n",
       "      <td>5</td>\n",
       "      <td>Clancy Brown</td>\n",
       "      <td>clancybrown</td>\n",
       "      <td>204</td>\n",
       "    </tr>\n",
       "  </tbody>\n",
       "</table>\n",
       "</div>"
      ],
      "text/plain": [
       "   id            name    simple_name  csfd_id\n",
       "0   1     Tim Robbins     timrobbins      103\n",
       "1   2  Morgan Freeman  morganfreeman       92\n",
       "2   3      Bob Gunton      bobgunton      202\n",
       "3   4  William Sadler  williamsadler      203\n",
       "4   5    Clancy Brown    clancybrown      204"
      ]
     },
     "execution_count": 20,
     "metadata": {},
     "output_type": "execute_result"
    }
   ],
   "source": [
    "actor.head()"
   ]
  },
  {
   "cell_type": "code",
   "execution_count": 21,
   "metadata": {},
   "outputs": [
    {
     "data": {
      "text/html": [
       "<div>\n",
       "<style scoped>\n",
       "    .dataframe tbody tr th:only-of-type {\n",
       "        vertical-align: middle;\n",
       "    }\n",
       "\n",
       "    .dataframe tbody tr th {\n",
       "        vertical-align: top;\n",
       "    }\n",
       "\n",
       "    .dataframe thead th {\n",
       "        text-align: right;\n",
       "    }\n",
       "</style>\n",
       "<table border=\"1\" class=\"dataframe\">\n",
       "  <thead>\n",
       "    <tr style=\"text-align: right;\">\n",
       "      <th></th>\n",
       "      <th>id</th>\n",
       "      <th>name</th>\n",
       "      <th>simple_name</th>\n",
       "      <th>csfd_id</th>\n",
       "    </tr>\n",
       "  </thead>\n",
       "  <tbody>\n",
       "    <tr>\n",
       "      <th>0</th>\n",
       "      <td>1</td>\n",
       "      <td>Vykoupení z věznice Shawshank</td>\n",
       "      <td>vykoupenizvezniceshawshank</td>\n",
       "      <td>2294</td>\n",
       "    </tr>\n",
       "    <tr>\n",
       "      <th>1</th>\n",
       "      <td>2</td>\n",
       "      <td>Forrest Gump</td>\n",
       "      <td>forrestgump</td>\n",
       "      <td>10135</td>\n",
       "    </tr>\n",
       "    <tr>\n",
       "      <th>2</th>\n",
       "      <td>3</td>\n",
       "      <td>Zelená míle</td>\n",
       "      <td>zelenamile</td>\n",
       "      <td>2292</td>\n",
       "    </tr>\n",
       "    <tr>\n",
       "      <th>3</th>\n",
       "      <td>4</td>\n",
       "      <td>Přelet nad kukaččím hnízdem</td>\n",
       "      <td>preletnadkukaccimhnizdem</td>\n",
       "      <td>2982</td>\n",
       "    </tr>\n",
       "    <tr>\n",
       "      <th>4</th>\n",
       "      <td>5</td>\n",
       "      <td>Schindlerův seznam</td>\n",
       "      <td>schindleruvseznam</td>\n",
       "      <td>8653</td>\n",
       "    </tr>\n",
       "  </tbody>\n",
       "</table>\n",
       "</div>"
      ],
      "text/plain": [
       "   id                           name                 simple_name  csfd_id\n",
       "0   1  Vykoupení z věznice Shawshank  vykoupenizvezniceshawshank     2294\n",
       "1   2                   Forrest Gump                 forrestgump    10135\n",
       "2   3                    Zelená míle                  zelenamile     2292\n",
       "3   4    Přelet nad kukaččím hnízdem    preletnadkukaccimhnizdem     2982\n",
       "4   5             Schindlerův seznam           schindleruvseznam     8653"
      ]
     },
     "execution_count": 21,
     "metadata": {},
     "output_type": "execute_result"
    }
   ],
   "source": [
    "movie.head()"
   ]
  },
  {
   "cell_type": "code",
   "execution_count": 22,
   "metadata": {},
   "outputs": [
    {
     "data": {
      "text/html": [
       "<div>\n",
       "<style scoped>\n",
       "    .dataframe tbody tr th:only-of-type {\n",
       "        vertical-align: middle;\n",
       "    }\n",
       "\n",
       "    .dataframe tbody tr th {\n",
       "        vertical-align: top;\n",
       "    }\n",
       "\n",
       "    .dataframe thead th {\n",
       "        text-align: right;\n",
       "    }\n",
       "</style>\n",
       "<table border=\"1\" class=\"dataframe\">\n",
       "  <thead>\n",
       "    <tr style=\"text-align: right;\">\n",
       "      <th></th>\n",
       "      <th>movie_id</th>\n",
       "      <th>actor_id</th>\n",
       "    </tr>\n",
       "  </thead>\n",
       "  <tbody>\n",
       "    <tr>\n",
       "      <th>0</th>\n",
       "      <td>225</td>\n",
       "      <td>1944</td>\n",
       "    </tr>\n",
       "    <tr>\n",
       "      <th>1</th>\n",
       "      <td>225</td>\n",
       "      <td>1468</td>\n",
       "    </tr>\n",
       "    <tr>\n",
       "      <th>2</th>\n",
       "      <td>225</td>\n",
       "      <td>5830</td>\n",
       "    </tr>\n",
       "    <tr>\n",
       "      <th>3</th>\n",
       "      <td>225</td>\n",
       "      <td>3422</td>\n",
       "    </tr>\n",
       "    <tr>\n",
       "      <th>4</th>\n",
       "      <td>225</td>\n",
       "      <td>5831</td>\n",
       "    </tr>\n",
       "  </tbody>\n",
       "</table>\n",
       "</div>"
      ],
      "text/plain": [
       "   movie_id  actor_id\n",
       "0       225      1944\n",
       "1       225      1468\n",
       "2       225      5830\n",
       "3       225      3422\n",
       "4       225      5831"
      ]
     },
     "execution_count": 22,
     "metadata": {},
     "output_type": "execute_result"
    }
   ],
   "source": [
    "mta.head()"
   ]
  },
  {
   "cell_type": "code",
   "execution_count": null,
   "metadata": {},
   "outputs": [],
   "source": []
  }
 ],
 "metadata": {
  "kernelspec": {
   "display_name": "Python 3",
   "language": "python",
   "name": "python3"
  },
  "language_info": {
   "codemirror_mode": {
    "name": "ipython",
    "version": 3
   },
   "file_extension": ".py",
   "mimetype": "text/x-python",
   "name": "python",
   "nbconvert_exporter": "python",
   "pygments_lexer": "ipython3",
   "version": "3.7.6"
  }
 },
 "nbformat": 4,
 "nbformat_minor": 4
}
