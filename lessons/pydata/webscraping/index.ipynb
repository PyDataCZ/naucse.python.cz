{
 "cells": [
  {
   "cell_type": "markdown",
   "metadata": {},
   "source": [
    "# Web scraping"
   ]
  },
  {
   "cell_type": "markdown",
   "metadata": {},
   "source": [
    "## Co je web scraping?\n",
    "- Strojové čtení nestrukturovaných dat z webových stránek"
   ]
  },
  {
   "cell_type": "markdown",
   "metadata": {},
   "source": [
    "## Co není web scraping?\n",
    "- Stahování dat přes API\n",
    "- Stahování strukturovaných dat (JSON, CSV,...)\n",
    "- Crawling - procházení a indexování celé webové stránky pomocí jejích vnitřních hypertextových odkazů\n"
   ]
  },
  {
   "cell_type": "markdown",
   "metadata": {},
   "source": [
    "## Příklady web scrapingu"
   ]
  },
  {
   "cell_type": "markdown",
   "metadata": {
    "heading_collapsed": true
   },
   "source": [
    "### Analýza cen na českých e-shopech\n",
    "\n",
    "\n",
    "<div>\n",
    "    <img src=\"static/hlidacshopu.png\", width=\"50%\"/>\n",
    "</div>\n",
    "\n",
    "https://medium.com/@jakubbalada/black-friday-2019-s-hl%C3%ADda%C4%8Dem-shop%C5%AF-9a3ddd352a8c"
   ]
  },
  {
   "cell_type": "markdown",
   "metadata": {},
   "source": [
    "### Jak hodnotila filmy Mirka Spáčilová\n",
    "\n",
    "\n",
    "<div>\n",
    "<img src=\"static/spacilova.png\", width=\"50%\"/>\n",
    "</div>\n",
    "\n",
    "https://www.michalblaha.cz/2017/10/filmova-kriticka-mirka-spacilova-v-cislech/"
   ]
  },
  {
   "cell_type": "markdown",
   "metadata": {},
   "source": [
    "## Etika web scrapingu\n",
    "\n",
    "- Než začneš s web scrapingem, podívej se, jestli stránka nenabízí strukturovaná data ke stažení nebo neposkytuje API. \n",
    "    - **Příklady:** \n",
    "    - https://data.gov.cz/datov%C3%A9-sady?poskytovatel=%C4%8Cesk%C3%BD%20statistick%C3%BD%20%C3%BA%C5%99ad\n",
    "    - https://www.ncdc.noaa.gov/data-access\n",
    "    - https://www.mapakriminality.cz/data/\n",
    "    - http://opendata.praha.eu/dataset/meteostanice-chmi-api\n",
    "- Zjisti si, jaká máš práva k datům, nepublikuj získaná data nelegálně\n",
    "- Přistupuj ke stránce k rozumné míře, nesnažíš se stránku shodit, ale získat data :-) "
   ]
  },
  {
   "cell_type": "markdown",
   "metadata": {},
   "source": [
    "## Z čeho se skládá webová stránka\n",
    "- **HTML** (HyperText Markup Language): strukturovaný obsah stránky (text a obrázky)\n",
    "- **CSS** (Cascading Style Sheets): úprava vzhledu stránky\n",
    "- **JavaScript**: interaktivita obsahu a vzhledu stránky"
   ]
  },
  {
   "cell_type": "markdown",
   "metadata": {},
   "source": [
    "### HTML \n",
    "<div>\n",
    "    <img src=\"static/html.png\", width=\"80%\">\n",
    "</div>"
   ]
  },
  {
   "cell_type": "markdown",
   "metadata": {},
   "source": [
    "- Je tvořen HTML značkami / tagy, např.  ``<img>``\n",
    "- Většina HTML tagů je párová, např. ``<h2>`` a ``</h2>``\n",
    "- Tagy mohou mít atributy, které dále specifikují, co a jak bude tag zobrazovat\n",
    "- Atribut class se obvykle používá k stylování stránky a často podle něj můžeme při webscrapingu odlišit různé části stránky"
   ]
  },
  {
   "cell_type": "markdown",
   "metadata": {},
   "source": [
    "### CSS\n",
    "\n",
    "- Popisuje způsob zobrazení html elementů\n",
    "- Obsahuje 2 části: selektor elementu a blok deklarace:\n",
    "\n",
    "```\n",
    "p.error {\n",
    "  color: red;\n",
    "}\n",
    "```\n"
   ]
  },
  {
   "cell_type": "markdown",
   "metadata": {},
   "source": [
    "## Pandas: read_html()"
   ]
  },
  {
   "cell_type": "markdown",
   "metadata": {},
   "source": [
    "Pokud nám stačí stáhnout tabulky z html dokumentu, můžeme použít knihovnu [Pandas](https://pandas.pydata.org/pandas-docs/version/0.25/reference/api/pandas.read_html.html):"
   ]
  },
  {
   "cell_type": "code",
   "execution_count": 1,
   "metadata": {},
   "outputs": [],
   "source": [
    "import pandas as pd"
   ]
  },
  {
   "cell_type": "code",
   "execution_count": 2,
   "metadata": {},
   "outputs": [],
   "source": [
    "tables = pd.read_html('https://cs.wikipedia.org/wiki/Seznam_st%C3%A1t%C5%AF_sv%C4%9Bta_podle_spot%C5%99eby_alkoholu')"
   ]
  },
  {
   "cell_type": "code",
   "execution_count": 3,
   "metadata": {},
   "outputs": [
    {
     "data": {
      "text/plain": [
       "2"
      ]
     },
     "execution_count": 3,
     "metadata": {},
     "output_type": "execute_result"
    }
   ],
   "source": [
    "len(tables)"
   ]
  },
  {
   "cell_type": "code",
   "execution_count": 4,
   "metadata": {},
   "outputs": [
    {
     "data": {
      "text/html": [
       "<div>\n",
       "<style scoped>\n",
       "    .dataframe tbody tr th:only-of-type {\n",
       "        vertical-align: middle;\n",
       "    }\n",
       "\n",
       "    .dataframe tbody tr th {\n",
       "        vertical-align: top;\n",
       "    }\n",
       "\n",
       "    .dataframe thead th {\n",
       "        text-align: right;\n",
       "    }\n",
       "</style>\n",
       "<table border=\"1\" class=\"dataframe\">\n",
       "  <thead>\n",
       "    <tr style=\"text-align: right;\">\n",
       "      <th></th>\n",
       "      <th>stát</th>\n",
       "      <th>evidováno</th>\n",
       "      <th>neevidováno</th>\n",
       "      <th>celkem</th>\n",
       "      <th>pivo</th>\n",
       "      <th>víno</th>\n",
       "      <th>destiláty</th>\n",
       "      <th>ostatní</th>\n",
       "    </tr>\n",
       "  </thead>\n",
       "  <tbody>\n",
       "    <tr>\n",
       "      <td>0</td>\n",
       "      <td>Česko</td>\n",
       "      <td>14.97</td>\n",
       "      <td>1.48</td>\n",
       "      <td>16.45</td>\n",
       "      <td>8.51</td>\n",
       "      <td>2.33</td>\n",
       "      <td>3.59</td>\n",
       "      <td>0.39</td>\n",
       "    </tr>\n",
       "    <tr>\n",
       "      <td>1</td>\n",
       "      <td>Maďarsko</td>\n",
       "      <td>12.27</td>\n",
       "      <td>4.00</td>\n",
       "      <td>16.27</td>\n",
       "      <td>4.42</td>\n",
       "      <td>4.94</td>\n",
       "      <td>3.02</td>\n",
       "      <td>0.14</td>\n",
       "    </tr>\n",
       "    <tr>\n",
       "      <td>2</td>\n",
       "      <td>Rusko</td>\n",
       "      <td>11.03</td>\n",
       "      <td>4.73</td>\n",
       "      <td>15.76</td>\n",
       "      <td>3.65</td>\n",
       "      <td>0.10</td>\n",
       "      <td>6.88</td>\n",
       "      <td>0.34</td>\n",
       "    </tr>\n",
       "    <tr>\n",
       "      <td>3</td>\n",
       "      <td>Ukrajina</td>\n",
       "      <td>8.10</td>\n",
       "      <td>7.50</td>\n",
       "      <td>15.60</td>\n",
       "      <td>2.69</td>\n",
       "      <td>0.58</td>\n",
       "      <td>5.21</td>\n",
       "      <td>0.02</td>\n",
       "    </tr>\n",
       "    <tr>\n",
       "      <td>4</td>\n",
       "      <td>Estonsko</td>\n",
       "      <td>13.77</td>\n",
       "      <td>1.80</td>\n",
       "      <td>15.57</td>\n",
       "      <td>5.53</td>\n",
       "      <td>1.09</td>\n",
       "      <td>9.19</td>\n",
       "      <td>0.43</td>\n",
       "    </tr>\n",
       "  </tbody>\n",
       "</table>\n",
       "</div>"
      ],
      "text/plain": [
       "       stát  evidováno  neevidováno  celkem  pivo  víno  destiláty  ostatní\n",
       "0     Česko      14.97         1.48   16.45  8.51  2.33       3.59     0.39\n",
       "1  Maďarsko      12.27         4.00   16.27  4.42  4.94       3.02     0.14\n",
       "2     Rusko      11.03         4.73   15.76  3.65  0.10       6.88     0.34\n",
       "3  Ukrajina       8.10         7.50   15.60  2.69  0.58       5.21     0.02\n",
       "4  Estonsko      13.77         1.80   15.57  5.53  1.09       9.19     0.43"
      ]
     },
     "execution_count": 4,
     "metadata": {},
     "output_type": "execute_result"
    }
   ],
   "source": [
    "tables[0].head()"
   ]
  },
  {
   "cell_type": "code",
   "execution_count": 5,
   "metadata": {},
   "outputs": [
    {
     "data": {
      "text/html": [
       "<div>\n",
       "<style scoped>\n",
       "    .dataframe tbody tr th:only-of-type {\n",
       "        vertical-align: middle;\n",
       "    }\n",
       "\n",
       "    .dataframe tbody tr th {\n",
       "        vertical-align: top;\n",
       "    }\n",
       "\n",
       "    .dataframe thead th {\n",
       "        text-align: right;\n",
       "    }\n",
       "</style>\n",
       "<table border=\"1\" class=\"dataframe\">\n",
       "  <thead>\n",
       "    <tr style=\"text-align: right;\">\n",
       "      <th></th>\n",
       "      <th>Pořadí</th>\n",
       "      <th>Stát</th>\n",
       "      <th>Spotřeba v litrech</th>\n",
       "      <th>Rok</th>\n",
       "    </tr>\n",
       "  </thead>\n",
       "  <tbody>\n",
       "    <tr>\n",
       "      <td>0</td>\n",
       "      <td>1</td>\n",
       "      <td>Francie</td>\n",
       "      <td>12.6</td>\n",
       "      <td>2011</td>\n",
       "    </tr>\n",
       "    <tr>\n",
       "      <td>1</td>\n",
       "      <td>2</td>\n",
       "      <td>Rakousko</td>\n",
       "      <td>12.2</td>\n",
       "      <td>2009</td>\n",
       "    </tr>\n",
       "    <tr>\n",
       "      <td>2</td>\n",
       "      <td>3</td>\n",
       "      <td>Estonsko</td>\n",
       "      <td>12.0</td>\n",
       "      <td>2011</td>\n",
       "    </tr>\n",
       "    <tr>\n",
       "      <td>3</td>\n",
       "      <td>4</td>\n",
       "      <td>Německo</td>\n",
       "      <td>11.7</td>\n",
       "      <td>2009</td>\n",
       "    </tr>\n",
       "    <tr>\n",
       "      <td>4</td>\n",
       "      <td>5</td>\n",
       "      <td>Irsko</td>\n",
       "      <td>11.6</td>\n",
       "      <td>2011</td>\n",
       "    </tr>\n",
       "  </tbody>\n",
       "</table>\n",
       "</div>"
      ],
      "text/plain": [
       "   Pořadí      Stát  Spotřeba v litrech   Rok\n",
       "0       1   Francie                12.6  2011\n",
       "1       2  Rakousko                12.2  2009\n",
       "2       3  Estonsko                12.0  2011\n",
       "3       4   Německo                11.7  2009\n",
       "4       5     Irsko                11.6  2011"
      ]
     },
     "execution_count": 5,
     "metadata": {},
     "output_type": "execute_result"
    }
   ],
   "source": [
    "tables[1].head()"
   ]
  },
  {
   "cell_type": "markdown",
   "metadata": {},
   "source": [
    "### Cvičení"
   ]
  },
  {
   "cell_type": "markdown",
   "metadata": {},
   "source": [
    "Získejte tabulku aktuálních ekonomických údajů ze stránek Českého statistického úřadu, `https://www.czso.cz/csu/czso/aktualniinformace`.\n",
    "\n",
    "**Nápověda**: Pokud uvidíte v dataframu ošklivé znaky, zkuste specifikovat `encoding='utf-8'`"
   ]
  },
  {
   "cell_type": "code",
   "execution_count": null,
   "metadata": {},
   "outputs": [],
   "source": []
  },
  {
   "cell_type": "markdown",
   "metadata": {},
   "source": [
    "## Bonus: co když chceme tabulku z pdf?"
   ]
  },
  {
   "cell_type": "markdown",
   "metadata": {},
   "source": [
    "Dostat data z pdf dokumentu bývá obtížné. Můžeme zkusit knihovnu [camelot](https://camelot-py.readthedocs.io/en/master/).\n",
    "\n",
    "Pozor: Je potřeba mít nainstalovaný [Ghostscript](https://www.ghostscript.com/download/gsdnld.html)."
   ]
  },
  {
   "cell_type": "code",
   "execution_count": 6,
   "metadata": {},
   "outputs": [],
   "source": [
    "import camelot"
   ]
  },
  {
   "cell_type": "code",
   "execution_count": 7,
   "metadata": {},
   "outputs": [],
   "source": [
    "tables = camelot.read_pdf('static/prd2014.pdf', pages='1-end')"
   ]
  },
  {
   "cell_type": "code",
   "execution_count": 8,
   "metadata": {},
   "outputs": [
    {
     "data": {
      "text/plain": [
       "<TableList n=2>"
      ]
     },
     "execution_count": 8,
     "metadata": {},
     "output_type": "execute_result"
    }
   ],
   "source": [
    "tables"
   ]
  },
  {
   "cell_type": "code",
   "execution_count": 9,
   "metadata": {},
   "outputs": [
    {
     "data": {
      "text/html": [
       "<div>\n",
       "<style scoped>\n",
       "    .dataframe tbody tr th:only-of-type {\n",
       "        vertical-align: middle;\n",
       "    }\n",
       "\n",
       "    .dataframe tbody tr th {\n",
       "        vertical-align: top;\n",
       "    }\n",
       "\n",
       "    .dataframe thead th {\n",
       "        text-align: right;\n",
       "    }\n",
       "</style>\n",
       "<table border=\"1\" class=\"dataframe\">\n",
       "  <thead>\n",
       "    <tr style=\"text-align: right;\">\n",
       "      <th></th>\n",
       "      <th>0</th>\n",
       "      <th>1</th>\n",
       "      <th>2</th>\n",
       "      <th>3</th>\n",
       "      <th>4</th>\n",
       "      <th>5</th>\n",
       "      <th>6</th>\n",
       "      <th>7</th>\n",
       "      <th>8</th>\n",
       "      <th>9</th>\n",
       "      <th>10</th>\n",
       "      <th>11</th>\n",
       "      <th>12</th>\n",
       "      <th>13</th>\n",
       "      <th>14</th>\n",
       "    </tr>\n",
       "  </thead>\n",
       "  <tbody>\n",
       "    <tr>\n",
       "      <td>0</td>\n",
       "      <td>Start. \\nčíslo</td>\n",
       "      <td>Účastník\\n(Příjmení Jméno)</td>\n",
       "      <td>Pohlaví \\n[Z/M]</td>\n",
       "      <td>Rok \\nnarození</td>\n",
       "      <td>Družstvo</td>\n",
       "      <td>Hmotnost \\n[kg]</td>\n",
       "      <td>Odhad času \\nvítěze\\n(h:mm:s)</td>\n",
       "      <td>Čas \\n[min]</td>\n",
       "      <td>Čas \\n[sec]</td>\n",
       "      <td>Počet \\npiv</td>\n",
       "      <td>Relativ\\n[H:M:S]</td>\n",
       "      <td>Výsledný čas \\n[H:M:S]</td>\n",
       "      <td>Pořadí \\nRELATIV</td>\n",
       "      <td>Pořadí \\nABSOLUTNÍ</td>\n",
       "      <td>Vyhodnoc\\není \\nodhadu</td>\n",
       "    </tr>\n",
       "    <tr>\n",
       "      <td>1</td>\n",
       "      <td>1</td>\n",
       "      <td>Jiřičný Martin</td>\n",
       "      <td>M</td>\n",
       "      <td>1969</td>\n",
       "      <td>Hvězdná pěchota</td>\n",
       "      <td>91</td>\n",
       "      <td>0:35:50</td>\n",
       "      <td>44</td>\n",
       "      <td>39</td>\n",
       "      <td>4</td>\n",
       "      <td>0:25:06</td>\n",
       "      <td>0:44:39</td>\n",
       "      <td>3</td>\n",
       "      <td>26</td>\n",
       "      <td>0:00:37</td>\n",
       "    </tr>\n",
       "    <tr>\n",
       "      <td>2</td>\n",
       "      <td>2</td>\n",
       "      <td>Cipl František</td>\n",
       "      <td>M</td>\n",
       "      <td>1951</td>\n",
       "      <td>Rychlá včelka</td>\n",
       "      <td>65</td>\n",
       "      <td>0:35:10</td>\n",
       "      <td>53</td>\n",
       "      <td>19</td>\n",
       "      <td>4</td>\n",
       "      <td>0:44:29</td>\n",
       "      <td>0:53:19</td>\n",
       "      <td>89</td>\n",
       "      <td>96</td>\n",
       "      <td>0:01:17</td>\n",
       "    </tr>\n",
       "    <tr>\n",
       "      <td>3</td>\n",
       "      <td>3</td>\n",
       "      <td>Míšek Jan</td>\n",
       "      <td>M</td>\n",
       "      <td>1960</td>\n",
       "      <td></td>\n",
       "      <td>90</td>\n",
       "      <td>0:36:25</td>\n",
       "      <td>56</td>\n",
       "      <td>33</td>\n",
       "      <td>0</td>\n",
       "      <td>0:43:59</td>\n",
       "      <td>0:56:33</td>\n",
       "      <td>83</td>\n",
       "      <td>120</td>\n",
       "      <td>0:00:02</td>\n",
       "    </tr>\n",
       "    <tr>\n",
       "      <td>4</td>\n",
       "      <td>4</td>\n",
       "      <td>Němec Miloš</td>\n",
       "      <td>M</td>\n",
       "      <td>1959</td>\n",
       "      <td>Sebranka</td>\n",
       "      <td>73</td>\n",
       "      <td>0:40:50</td>\n",
       "      <td>49</td>\n",
       "      <td>9</td>\n",
       "      <td>4</td>\n",
       "      <td>0:35:37</td>\n",
       "      <td>0:49:09</td>\n",
       "      <td>33</td>\n",
       "      <td>62</td>\n",
       "      <td>0:04:23</td>\n",
       "    </tr>\n",
       "    <tr>\n",
       "      <td>...</td>\n",
       "      <td>...</td>\n",
       "      <td>...</td>\n",
       "      <td>...</td>\n",
       "      <td>...</td>\n",
       "      <td>...</td>\n",
       "      <td>...</td>\n",
       "      <td>...</td>\n",
       "      <td>...</td>\n",
       "      <td>...</td>\n",
       "      <td>...</td>\n",
       "      <td>...</td>\n",
       "      <td>...</td>\n",
       "      <td>...</td>\n",
       "      <td>...</td>\n",
       "      <td>...</td>\n",
       "    </tr>\n",
       "    <tr>\n",
       "      <td>89</td>\n",
       "      <td>91</td>\n",
       "      <td>Bartoš Filip</td>\n",
       "      <td>M</td>\n",
       "      <td>1986</td>\n",
       "      <td>Růžové hvězdy</td>\n",
       "      <td>76</td>\n",
       "      <td>0:29:30</td>\n",
       "      <td>64</td>\n",
       "      <td>54</td>\n",
       "      <td>4</td>\n",
       "      <td>0:48:43</td>\n",
       "      <td>1:04:54</td>\n",
       "      <td>113</td>\n",
       "      <td>156</td>\n",
       "      <td>0:06:57</td>\n",
       "    </tr>\n",
       "    <tr>\n",
       "      <td>90</td>\n",
       "      <td>92</td>\n",
       "      <td>Stanislav Ondřej</td>\n",
       "      <td>M</td>\n",
       "      <td>1987</td>\n",
       "      <td>Růžové hvězdy</td>\n",
       "      <td>92</td>\n",
       "      <td>0:32:30</td>\n",
       "      <td>46</td>\n",
       "      <td>26</td>\n",
       "      <td>4</td>\n",
       "      <td>0:26:11</td>\n",
       "      <td>0:46:26</td>\n",
       "      <td>4</td>\n",
       "      <td>40</td>\n",
       "      <td>0:03:57</td>\n",
       "    </tr>\n",
       "    <tr>\n",
       "      <td>91</td>\n",
       "      <td>93</td>\n",
       "      <td>Dbalý Vladimír</td>\n",
       "      <td>M</td>\n",
       "      <td>1959</td>\n",
       "      <td></td>\n",
       "      <td>119</td>\n",
       "      <td>0:32:55</td>\n",
       "      <td>80</td>\n",
       "      <td>51</td>\n",
       "      <td>0</td>\n",
       "      <td>0:47:33</td>\n",
       "      <td>1:20:51</td>\n",
       "      <td>106</td>\n",
       "      <td>179</td>\n",
       "      <td>0:03:32</td>\n",
       "    </tr>\n",
       "    <tr>\n",
       "      <td>92</td>\n",
       "      <td>94</td>\n",
       "      <td>Filippov Sergey</td>\n",
       "      <td>M</td>\n",
       "      <td>1971</td>\n",
       "      <td></td>\n",
       "      <td>64</td>\n",
       "      <td>0:50:00</td>\n",
       "      <td>44</td>\n",
       "      <td>30</td>\n",
       "      <td>0</td>\n",
       "      <td>0:48:40</td>\n",
       "      <td>0:44:30</td>\n",
       "      <td>112</td>\n",
       "      <td>25</td>\n",
       "      <td>0:13:33</td>\n",
       "    </tr>\n",
       "    <tr>\n",
       "      <td>93</td>\n",
       "      <td>95</td>\n",
       "      <td>Rada Petr</td>\n",
       "      <td>M</td>\n",
       "      <td>1964</td>\n",
       "      <td>Strakonický dudák</td>\n",
       "      <td>84</td>\n",
       "      <td>0:35:30</td>\n",
       "      <td>44</td>\n",
       "      <td>22</td>\n",
       "      <td>4</td>\n",
       "      <td>0:26:58</td>\n",
       "      <td>0:44:22</td>\n",
       "      <td>6</td>\n",
       "      <td>23</td>\n",
       "      <td>0:00:57</td>\n",
       "    </tr>\n",
       "  </tbody>\n",
       "</table>\n",
       "<p>94 rows × 15 columns</p>\n",
       "</div>"
      ],
      "text/plain": [
       "                 0                           1                2  \\\n",
       "0   Start. \\nčíslo  Účastník\\n(Příjmení Jméno)  Pohlaví \\n[Z/M]   \n",
       "1                1              Jiřičný Martin                M   \n",
       "2                2              Cipl František                M   \n",
       "3                3                   Míšek Jan                M   \n",
       "4                4                 Němec Miloš                M   \n",
       "..             ...                         ...              ...   \n",
       "89              91                Bartoš Filip                M   \n",
       "90              92            Stanislav Ondřej                M   \n",
       "91              93              Dbalý Vladimír                M   \n",
       "92              94             Filippov Sergey                M   \n",
       "93              95                   Rada Petr                M   \n",
       "\n",
       "                 3                  4                5  \\\n",
       "0   Rok \\nnarození           Družstvo  Hmotnost \\n[kg]   \n",
       "1             1969    Hvězdná pěchota               91   \n",
       "2             1951      Rychlá včelka               65   \n",
       "3             1960                                  90   \n",
       "4             1959           Sebranka               73   \n",
       "..             ...                ...              ...   \n",
       "89            1986      Růžové hvězdy               76   \n",
       "90            1987      Růžové hvězdy               92   \n",
       "91            1959                                 119   \n",
       "92            1971                                  64   \n",
       "93            1964  Strakonický dudák               84   \n",
       "\n",
       "                                6            7            8            9  \\\n",
       "0   Odhad času \\nvítěze\\n(h:mm:s)  Čas \\n[min]  Čas \\n[sec]  Počet \\npiv   \n",
       "1                         0:35:50           44           39            4   \n",
       "2                         0:35:10           53           19            4   \n",
       "3                         0:36:25           56           33            0   \n",
       "4                         0:40:50           49            9            4   \n",
       "..                            ...          ...          ...          ...   \n",
       "89                        0:29:30           64           54            4   \n",
       "90                        0:32:30           46           26            4   \n",
       "91                        0:32:55           80           51            0   \n",
       "92                        0:50:00           44           30            0   \n",
       "93                        0:35:30           44           22            4   \n",
       "\n",
       "                  10                      11                12  \\\n",
       "0   Relativ\\n[H:M:S]  Výsledný čas \\n[H:M:S]  Pořadí \\nRELATIV   \n",
       "1            0:25:06                 0:44:39                 3   \n",
       "2            0:44:29                 0:53:19                89   \n",
       "3            0:43:59                 0:56:33                83   \n",
       "4            0:35:37                 0:49:09                33   \n",
       "..               ...                     ...               ...   \n",
       "89           0:48:43                 1:04:54               113   \n",
       "90           0:26:11                 0:46:26                 4   \n",
       "91           0:47:33                 1:20:51               106   \n",
       "92           0:48:40                 0:44:30               112   \n",
       "93           0:26:58                 0:44:22                 6   \n",
       "\n",
       "                    13                      14  \n",
       "0   Pořadí \\nABSOLUTNÍ  Vyhodnoc\\není \\nodhadu  \n",
       "1                   26                 0:00:37  \n",
       "2                   96                 0:01:17  \n",
       "3                  120                 0:00:02  \n",
       "4                   62                 0:04:23  \n",
       "..                 ...                     ...  \n",
       "89                 156                 0:06:57  \n",
       "90                  40                 0:03:57  \n",
       "91                 179                 0:03:32  \n",
       "92                  25                 0:13:33  \n",
       "93                  23                 0:00:57  \n",
       "\n",
       "[94 rows x 15 columns]"
      ]
     },
     "execution_count": 9,
     "metadata": {},
     "output_type": "execute_result"
    }
   ],
   "source": [
    "tables[0].df # převedeme tabulku do pandas dataframu"
   ]
  },
  {
   "cell_type": "markdown",
   "metadata": {},
   "source": [
    "## BeautifulSoup"
   ]
  },
  {
   "cell_type": "markdown",
   "metadata": {},
   "source": [
    "Knihovna [BeautifulSoup](https://www.crummy.com/software/BeautifulSoup/) se používá k získávání dat z HTML a XML souborů. Pracuje s různými parsery, které analyzují HTML soubory, a umožnuje vybrat požadované HTML elementy a pracovat s nimi.\n"
   ]
  },
  {
   "cell_type": "code",
   "execution_count": 10,
   "metadata": {},
   "outputs": [],
   "source": [
    "from bs4 import BeautifulSoup"
   ]
  },
  {
   "cell_type": "code",
   "execution_count": 11,
   "metadata": {},
   "outputs": [],
   "source": [
    "# vzorový html\n",
    "html_doc = '''\n",
    "<html lang=\"en-US\">\n",
    "<head>\n",
    "<meta charset=\"UTF-8\">\n",
    "<title>PyData Prague | pydata.cz</title>\n",
    "<link rel=\"stylesheet\" href=\"/assets/css/style.css?v=3e86527de11985ac075350329bdb8666892c0b1f\">\n",
    "</head>\n",
    "<body>\n",
    "<div class=\"container-lg px-3 my-5 markdown-body\"> \n",
    "<h1><a href=\"https://pydata.cz/\">pydata.cz</a></h1>\n",
    "<h1 id=\"pydata-prague\">PyData Prague</h1>\n",
    "<p id=\"description\">PyData Prague is a community of data scientists, engineers, analysts, and various other developers \n",
    "in the area of scientific computing and data analysis. The term <a class=\"pydata\" href=\"https://pydata.org/\">PyData</a> \n",
    "refers to an educational program of <a href=\"https://numfocus.org/\">NumFOCUS</a>, an american non-profit \n",
    "helping open source software in terms of governance, financial support, and operations.</p>\n",
    "<p>The PyData network hosts meetups in hundreds of cities around the world and several conferences each \n",
    "year. The Prague chapter started in 2018 with the aim of spreading the word of open source scientific \n",
    "computing in the Czech Republic. And while the chapter is based in Prague, we operate and \n",
    "collaborate countrywide.</p>\n",
    "<h2 id=\"code-of-conduct\">Code of Conduct</h2>\n",
    "<p>We adhere to PyData’s code of conduct, here’s its short version:</p>\n",
    "<blockquote>\n",
    "<p>Be kind to others. Do not insult or put down others. Behave professionally. \n",
    "Remember that harassment and sexist, racist, or exclusionary jokes and language are not \n",
    "appropriate for PyData.</p>\n",
    "<p>All communication should be appropriate for a professional audience including \n",
    "people of many different backgrounds. Sexual language and imagery is not appropriate.</p>\n",
    "<p>PyData is dedicated to providing a harassment-free event experience for everyone, regardless of \n",
    "gender, sexual orientation, gender identity, and expression, disability, physical appearance, \n",
    "body size, race, or religion. We do not tolerate harassment of participants in any form.</p>\n",
    "<p>Thank you for helping make this a welcoming, friendly community for all.</p>\n",
    "</blockquote>\n",
    "<p>You can find more information at \n",
    "<a class=\"pydata\" href=\"https://pydata.org/code-of-conduct/\">pydata.org/code-of-conduct/</a></p \n",
    "</div>  \n",
    "</body>\n",
    "</html>\n",
    "'''"
   ]
  },
  {
   "cell_type": "code",
   "execution_count": 12,
   "metadata": {},
   "outputs": [
    {
     "name": "stdout",
     "output_type": "stream",
     "text": [
      "<html lang=\"en-US\">\n",
      " <head>\n",
      "  <meta charset=\"utf-8\"/>\n",
      "  <title>\n",
      "   PyData Prague | pydata.cz\n",
      "  </title>\n",
      "  <link href=\"/assets/css/style.css?v=3e86527de11985ac075350329bdb8666892c0b1f\" rel=\"stylesheet\"/>\n",
      " </head>\n",
      " <body>\n",
      "  <div class=\"container-lg px-3 my-5 markdown-body\">\n",
      "   <h1>\n",
      "    <a href=\"https://pydata.cz/\">\n",
      "     pydata.cz\n",
      "    </a>\n",
      "   </h1>\n",
      "   <h1 id=\"pydata-prague\">\n",
      "    PyData Prague\n",
      "   </h1>\n",
      "   <p id=\"description\">\n",
      "    PyData Prague is a community of data scientists, engineers, analysts, and various other developers \n",
      "in the area of scientific computing and data analysis. The term\n",
      "    <a class=\"pydata\" href=\"https://pydata.org/\">\n",
      "     PyData\n",
      "    </a>\n",
      "    refers to an educational program of\n",
      "    <a href=\"https://numfocus.org/\">\n",
      "     NumFOCUS\n",
      "    </a>\n",
      "    , an american non-profit \n",
      "helping open source software in terms of governance, financial support, and operations.\n",
      "   </p>\n",
      "   <p>\n",
      "    The PyData network hosts meetups in hundreds of cities around the world and several conferences each \n",
      "year. The Prague chapter started in 2018 with the aim of spreading the word of open source scientific \n",
      "computing in the Czech Republic. And while the chapter is based in Prague, we operate and \n",
      "collaborate countrywide.\n",
      "   </p>\n",
      "   <h2 id=\"code-of-conduct\">\n",
      "    Code of Conduct\n",
      "   </h2>\n",
      "   <p>\n",
      "    We adhere to PyData’s code of conduct, here’s its short version:\n",
      "   </p>\n",
      "   <blockquote>\n",
      "    <p>\n",
      "     Be kind to others. Do not insult or put down others. Behave professionally. \n",
      "Remember that harassment and sexist, racist, or exclusionary jokes and language are not \n",
      "appropriate for PyData.\n",
      "    </p>\n",
      "    <p>\n",
      "     All communication should be appropriate for a professional audience including \n",
      "people of many different backgrounds. Sexual language and imagery is not appropriate.\n",
      "    </p>\n",
      "    <p>\n",
      "     PyData is dedicated to providing a harassment-free event experience for everyone, regardless of \n",
      "gender, sexual orientation, gender identity, and expression, disability, physical appearance, \n",
      "body size, race, or religion. We do not tolerate harassment of participants in any form.\n",
      "    </p>\n",
      "    <p>\n",
      "     Thank you for helping make this a welcoming, friendly community for all.\n",
      "    </p>\n",
      "   </blockquote>\n",
      "   <p>\n",
      "    You can find more information at\n",
      "    <a class=\"pydata\" href=\"https://pydata.org/code-of-conduct/\">\n",
      "     pydata.org/code-of-conduct/\n",
      "    </a>\n",
      "   </p>\n",
      "  </div>\n",
      " </body>\n",
      "</html>\n",
      "\n"
     ]
    }
   ],
   "source": [
    "soup = BeautifulSoup(html_doc, 'html.parser')\n",
    "# Vytiskneme hezky zformatované HTML\n",
    "print(soup.prettify())"
   ]
  },
  {
   "cell_type": "code",
   "execution_count": 13,
   "metadata": {},
   "outputs": [
    {
     "data": {
      "text/plain": [
       "<title>PyData Prague | pydata.cz</title>"
      ]
     },
     "execution_count": 13,
     "metadata": {},
     "output_type": "execute_result"
    }
   ],
   "source": [
    "soup.title"
   ]
  },
  {
   "cell_type": "code",
   "execution_count": 14,
   "metadata": {},
   "outputs": [
    {
     "data": {
      "text/plain": [
       "<h1><a href=\"https://pydata.cz/\">pydata.cz</a></h1>"
      ]
     },
     "execution_count": 14,
     "metadata": {},
     "output_type": "execute_result"
    }
   ],
   "source": [
    "# ukáže první element typu h1 \n",
    "soup.h1"
   ]
  },
  {
   "cell_type": "code",
   "execution_count": 15,
   "metadata": {},
   "outputs": [
    {
     "data": {
      "text/plain": [
       "'h1'"
      ]
     },
     "execution_count": 15,
     "metadata": {},
     "output_type": "execute_result"
    }
   ],
   "source": [
    "soup.h1.name"
   ]
  },
  {
   "cell_type": "code",
   "execution_count": 16,
   "metadata": {},
   "outputs": [
    {
     "data": {
      "text/plain": [
       "'div'"
      ]
     },
     "execution_count": 16,
     "metadata": {},
     "output_type": "execute_result"
    }
   ],
   "source": [
    "soup.h1.parent.name"
   ]
  },
  {
   "cell_type": "code",
   "execution_count": 17,
   "metadata": {},
   "outputs": [
    {
     "data": {
      "text/plain": [
       "'pydata.cz'"
      ]
     },
     "execution_count": 17,
     "metadata": {},
     "output_type": "execute_result"
    }
   ],
   "source": [
    "soup.h1.string"
   ]
  },
  {
   "cell_type": "code",
   "execution_count": 18,
   "metadata": {},
   "outputs": [
    {
     "data": {
      "text/plain": [
       "<h2 id=\"code-of-conduct\">Code of Conduct</h2>"
      ]
     },
     "execution_count": 18,
     "metadata": {},
     "output_type": "execute_result"
    }
   ],
   "source": [
    "soup.h2"
   ]
  },
  {
   "cell_type": "code",
   "execution_count": 19,
   "metadata": {},
   "outputs": [
    {
     "data": {
      "text/plain": [
       "'code-of-conduct'"
      ]
     },
     "execution_count": 19,
     "metadata": {},
     "output_type": "execute_result"
    }
   ],
   "source": [
    "soup.h2['id']"
   ]
  },
  {
   "cell_type": "code",
   "execution_count": 20,
   "metadata": {},
   "outputs": [
    {
     "data": {
      "text/plain": [
       "[<a href=\"https://pydata.cz/\">pydata.cz</a>,\n",
       " <a class=\"pydata\" href=\"https://pydata.org/\">PyData</a>,\n",
       " <a href=\"https://numfocus.org/\">NumFOCUS</a>,\n",
       " <a class=\"pydata\" href=\"https://pydata.org/code-of-conduct/\">pydata.org/code-of-conduct/</a>]"
      ]
     },
     "execution_count": 20,
     "metadata": {},
     "output_type": "execute_result"
    }
   ],
   "source": [
    "# najde všechny odkazy\n",
    "links = soup.find_all('a')\n",
    "links"
   ]
  },
  {
   "cell_type": "code",
   "execution_count": 21,
   "metadata": {},
   "outputs": [
    {
     "data": {
      "text/plain": [
       "'https://pydata.cz/'"
      ]
     },
     "execution_count": 21,
     "metadata": {},
     "output_type": "execute_result"
    }
   ],
   "source": [
    "links[0]['href']"
   ]
  },
  {
   "cell_type": "code",
   "execution_count": 22,
   "metadata": {},
   "outputs": [
    {
     "data": {
      "text/plain": [
       "'pydata.cz'"
      ]
     },
     "execution_count": 22,
     "metadata": {},
     "output_type": "execute_result"
    }
   ],
   "source": [
    "links[0].text"
   ]
  },
  {
   "cell_type": "code",
   "execution_count": 23,
   "metadata": {},
   "outputs": [
    {
     "data": {
      "text/plain": [
       "<h1 id=\"pydata-prague\">PyData Prague</h1>"
      ]
     },
     "execution_count": 23,
     "metadata": {},
     "output_type": "execute_result"
    }
   ],
   "source": [
    "soup.find(id=\"pydata-prague\")"
   ]
  },
  {
   "cell_type": "markdown",
   "metadata": {},
   "source": [
    "Pokud hledáme podle třídy, memůžeme použít ``soup.find(class=\"pydata\")``, protože ``class`` je v Pythonu klíčové slovo. Musíme použít ``class_``"
   ]
  },
  {
   "cell_type": "code",
   "execution_count": 24,
   "metadata": {},
   "outputs": [
    {
     "data": {
      "text/plain": [
       "<a class=\"pydata\" href=\"https://pydata.org/\">PyData</a>"
      ]
     },
     "execution_count": 24,
     "metadata": {},
     "output_type": "execute_result"
    }
   ],
   "source": [
    "soup.find(class_=\"pydata\")"
   ]
  },
  {
   "cell_type": "markdown",
   "metadata": {},
   "source": [
    "``class`` můžeme taky napsat jako klíč v parametru ``attrs``:"
   ]
  },
  {
   "cell_type": "code",
   "execution_count": 25,
   "metadata": {},
   "outputs": [
    {
     "data": {
      "text/plain": [
       "<a class=\"pydata\" href=\"https://pydata.org/\">PyData</a>"
      ]
     },
     "execution_count": 25,
     "metadata": {},
     "output_type": "execute_result"
    }
   ],
   "source": [
    "soup.find(attrs={'class':'pydata'})"
   ]
  },
  {
   "cell_type": "markdown",
   "metadata": {},
   "source": [
    "### Cvičení\n"
   ]
  },
  {
   "cell_type": "markdown",
   "metadata": {},
   "source": [
    "Vyberte odstavec s id ``description``."
   ]
  },
  {
   "cell_type": "code",
   "execution_count": null,
   "metadata": {},
   "outputs": [],
   "source": []
  },
  {
   "cell_type": "markdown",
   "metadata": {},
   "source": [
    "Vyberte všechny odkazy s třídou ``pydata``"
   ]
  },
  {
   "cell_type": "code",
   "execution_count": null,
   "metadata": {},
   "outputs": [],
   "source": []
  },
  {
   "cell_type": "markdown",
   "metadata": {},
   "source": [
    "## Requests\n",
    "\n",
    "Knihovna [requests](https://requests.readthedocs.io/en/master/) je určená pro HTTP dotazy. V našem případě ji budeme používat pro získání textu webové stránky.\n"
   ]
  },
  {
   "cell_type": "code",
   "execution_count": 26,
   "metadata": {},
   "outputs": [],
   "source": [
    "import requests"
   ]
  },
  {
   "cell_type": "code",
   "execution_count": 27,
   "metadata": {},
   "outputs": [],
   "source": [
    "r = requests.get('https://pydata.cz/')"
   ]
  },
  {
   "cell_type": "markdown",
   "metadata": {},
   "source": [
    "Můžeme zkontrolovat návratový stav:"
   ]
  },
  {
   "cell_type": "code",
   "execution_count": 28,
   "metadata": {},
   "outputs": [
    {
     "data": {
      "text/plain": [
       "200"
      ]
     },
     "execution_count": 28,
     "metadata": {},
     "output_type": "execute_result"
    }
   ],
   "source": [
    "r.status_code"
   ]
  },
  {
   "cell_type": "markdown",
   "metadata": {},
   "source": [
    "[Stavové kódy](https://cs.wikipedia.org/wiki/Stavov%C3%A9_k%C3%B3dy_HTTP) se dělí do 5 skupin:\n",
    "- 1xx – informační odpověď\n",
    "- 2xx – úspěch\n",
    "- 3xx – přesměrování\n",
    "- 4xx – chyba klienta\n",
    "- 5xx – chyba serveru"
   ]
  },
  {
   "cell_type": "markdown",
   "metadata": {},
   "source": [
    "Metoda text ukáže zdrojový kód stránky:"
   ]
  },
  {
   "cell_type": "code",
   "execution_count": 29,
   "metadata": {},
   "outputs": [
    {
     "data": {
      "text/plain": [
       "'<!DOCTYPE html>\\n<html lang=\"en-US\">\\n  <head>\\n    <meta charset=\"UTF-8\">\\n    <meta http-equiv=\"X-UA-Compatible\" content=\"IE=edge\">\\n    <meta name=\"viewport\" content=\"width=device-width, initial-scale=1\">\\n\\n<!-- Begin Jekyll SEO tag v2.5.0 -->\\n<title>PyData Prague | pydata.cz</title>\\n<meta name=\"generator\" content=\"Jekyll v3.8.5\" />\\n<meta property=\"og:title\" content=\"PyData Prague\" />\\n<meta property=\"og:locale\" content=\"en_US\" />\\n<link rel=\"canonical\" href=\"https://pydata.cz/\" />\\n<meta property=\"og:url\" content=\"https://pydata.cz/\" />\\n<meta property=\"og:site_name\" content=\"pydata.cz\" />\\n<script type=\"application/ld+json\">\\n{\"@type\":\"WebSite\",\"url\":\"https://pydata.cz/\",\"name\":\"pydata.cz\",\"headline\":\"PyData Prague\",\"@context\":\"http://schema.org\"}</script>\\n<!-- End Jekyll SEO tag -->\\n\\n    <link rel=\"stylesheet\" href=\"/assets/css/style.css?v=3e86527de11985ac075350329bdb8666892c0b1f\">\\n  </head>\\n  <body>\\n    <div class=\"container-lg px-3 my-5 markdown-body\">\\n      \\n      <h1><a href=\"https://pydata.cz/\">pydata.cz</a></h1>\\n      \\n\\n      <h1 id=\"pydata-prague\">PyData Prague</h1>\\n\\n<p>PyData Prague is a community of data scientists, engineers, analysts, and various other developers in the area of scientific computing and data analysis. The term <a href=\"https://pydata.org/\">PyData</a> refers to an educational program of <a href=\"https://numfocus.org/\">NumFOCUS</a>, an american non-profit helping open source software in terms of governance, financial support, and operations.</p>\\n\\n<p>The PyData network hosts meetups in hundreds of cities around the world and several conferences each year. The Prague chapter started in 2018 with the aim of spreading the word of open source scientific computing in the Czech Republic. And while the chapter is based in Prague, we operate and collaborate countrywide.</p>\\n\\n<h2 id=\"code-of-conduct\">Code of Conduct</h2>\\n\\n<p>We adhere to PyData’s code of conduct, here’s its short version:</p>\\n\\n<blockquote>\\n  <p>Be kind to others. Do not insult or put down others. Behave professionally. Remember that harassment and sexist, racist, or exclusionary jokes and language are not appropriate for PyData.</p>\\n\\n  <p>All communication should be appropriate for a professional audience including people of many different backgrounds. Sexual language and imagery is not appropriate.</p>\\n\\n  <p>PyData is dedicated to providing a harassment-free event experience for everyone, regardless of gender, sexual orientation, gender identity, and expression, disability, physical appearance, body size, race, or religion. We do not tolerate harassment of participants in any form.</p>\\n\\n  <p>Thank you for helping make this a welcoming, friendly community for all.</p>\\n</blockquote>\\n\\n<p>You can find more information at <a href=\"https://pydata.org/code-of-conduct/\">pydata.org/code-of-conduct/</a></p>\\n\\n<h2 id=\"meetups\">Meetups</h2>\\n\\n<p>We have hosted several meetups, you can check them out on our <a href=\"https://www.meetup.com/PyData-Prague\">Meetup page</a>. We try and host speakers from various backgrounds, so that our attendees get to find out about all sorts of things possible with the NumFOCUS toolkit (and beyond!).</p>\\n\\n<h3 id=\"pydata-prague-5---dashing-automobile-27-11-2019\"><a href=\"https://www.meetup.com/PyData-Prague/events/266462703/\">PyData Prague #5 - Dashing Automobile</a> (27. 11. 2019)</h3>\\n\\n<h4 id=\"talk-1-andrej-svitek---data-science-in-automotive-industry\">Talk 1: Andrej Svitek - Data Science in Automotive industry</h4>\\n\\n<p>The Automotive industry is one of the most important drivers (pun intended) of the Czech economy. With more than 1,4 million cars produced per year, 800 companies involved and 160 000 direct employees, Automotive is considered the largest industry in the Czech Republic accounting for more than 9 % of GDP.</p>\\n\\n<p>With constant flood of buzzwords (IIoT, Industry 4.0, Digital factory 2.0, Autonomous Driving just to name a few), the aim of this talk is to present a more realistic and data-driven perspective of the industry as well as look at the advantages and challenges of Data Science projects within this environment.</p>\\n\\n<h4 id=\"talk-2-dom-weldon---dash-interactive-data-visualization-web-apps-with-no-javascript\">Talk 2: Dom Weldon - Dash: Interactive Data Visualization Web Apps with no Javascript</h4>\\n\\n<p>Your data science project may need to produce interactive tools and visualizations to allow end-users to explore data and results. Dash, a project by the team that makes Plotly, solves some of these problems by allowing data scientists to build rich and interactive websites in pure Python, with minimal knowledge of HTML and absolutely no Javascript.</p>\\n\\n<p>This talk will give an overview of Dash, how it works and what it can be used for, before outlining some of the common problems that emerge when data scientists are let loose to produce web applications, and web developers have to work with the pydata ecosystem.</p>\\n\\n<h3 id=\"pydata-prague-4---mapping-science-30-9-2019\"><a href=\"https://www.meetup.com/PyData-Prague/events/264776737/\">PyData Prague #4 - Mapping Science</a> (30. 9. 2019)</h3>\\n\\n<h4 id=\"talk-1-diar-masri-data-science-at-lmc\">Talk 1: Diar Masri: Data Science at LMC</h4>\\n\\n<p>Searching for job is a struggle that LMC is trying to simplify. Therefore, I would like to introduce a practical overview of how data science is applied at LMC to achieve such a goal. We do so by applying data science to better understand our users experience and abilities using techniques of Natural Language Processing (NLP). Moreover, we examine current preferences of our users using Recommender System in order to recommend them the most relevant job options and shorten the path to their next career.</p>\\n\\n<h4 id=\"talk-2-vojtěch-filipec-curious-about-a-new-place-explore-many-of-them-via-openstreetmaps-api\">Talk 2: Vojtěch Filipec: Curious about a new place? Explore many of them via OpenStreetMaps API</h4>\\n\\n<p>Knowledge of the neighborhoods may identify deficient services to a marketing company, it also enables you to address your spouse’s inquiry about points of interest on a day-trip. To acquire such knowledge, you need a rich source of data with decent API. OpenStreetMaps offer both. This talk explains how to access the data points in OSM and how to query their labels and content using two Python libraries (overpass and overpy) as well as the underlying OSM query language.</p>\\n\\n<h3 id=\"pydata-prague-3---mouse-experience-24-6-2019\"><a href=\"https://www.meetup.com/PyData-Prague/events/262289857/\">PyData Prague #3 - Mouse Experience</a> (24. 6. 2019)</h3>\\n\\n<h4 id=\"talk-1-karla-fejfarová-my-data-look-like-a-mouse-video\">Talk 1: Karla Fejfarová: My Data Look Like a Mouse (<a href=\"https://www.youtube.com/watch?v=bl0z5jHmFuc\">video</a>)</h4>\\n\\n<p>This talk will give you a short tour of the Czech Centre for Phenogenomics in the BIOCEV centre in Vestec and a brief overview of current research in mouse-based functional genomics. Karla will also present various types of data we generate during the research and will show you how Python helps us to overcome some of the everyday challenges we face. Karla Fejfar\\xadová is a biostatistician at the Czech Centre of Phenogenomics.</p>\\n\\n<h4 id=\"talk-2-tomáš-muchka-what-the-heck-does-ux-mean-video\">Talk 2: Tomáš Muchka: What the Heck Does UX Mean? (<a href=\"https://www.youtube.com/watch?v=K4mocwsew8k\">video</a>)</h4>\\n\\n<p>They work in all kinds of companies from startups to corporates. They could be sitting right next to you; the UX designers. But what is their actual job and how could you help each other? Let’s find out with Tomáš Muchka, a senior UX designer at GoodData.</p>\\n\\n<h3 id=\"pydata-prague-2---optimized-elasticity-23-1-2019\"><a href=\"https://www.meetup.com/PyData-Prague/events/257775220/\">PyData Prague #2 - Optimized Elasticity</a> (23. 1. 2019)</h3>\\n\\n<h4 id=\"talk-1-honza-král-the-how-and-why-of-elasticsearch-video\">Talk 1: Honza Král: The how and why of Elasticsearch (<a href=\"https://www.youtube.com/watch?v=55YJxJbeznQ\">video</a>)</h4>\\n\\n<p>Elasticsearch is an open source distributed datastore, we will see what makes it tick, how to use it from Python and try to draw some conclusions as to where it might fit in in your organization. Honza Král is a principal consulting architect from Elastic and a long-term core committer to Django.</p>\\n\\n<h4 id=\"talk-2-jakub-urban-optimizing-numerical-calculations-in-python-video\">Talk 2: Jakub Urban: Optimizing numerical calculations in Python (<a href=\"https://www.youtube.com/watch?v=I_BRzn4zMnQ\">video</a>)</h4>\\n\\n<p>Jakub Urban, a senior Pythonista from Quantlane with rich experience in scientific computing and modelling, will show various possibilities for making your (mostly) numerical calculations in Python fast. He will cover optimization and parallelization using Numpy, Numba, Cython or Dask. You will learn that Python can be as fast as Fortran with a very little effort. In case it cannot, you will see how to seamlessly turn Fortran/C/C++ into a Python module.</p>\\n\\n<h3 id=\"pydata-prague---1st-meetup---open-source-and-open-communities-18-10-2018\"><a href=\"https://www.meetup.com/PyData-Prague/events/254559250/\">PyData Prague - 1st Meetup - Open Source and Open Communities</a> (18. 10. 2018)</h3>\\n\\n<h4 id=\"talk-1-ian-ozsvald-numfocus-and-pydata--delivering-data-science-projects-video\">Talk 1: Ian Ozsvald: NumFOCUS and PyData + Delivering Data Science Projects (<a href=\"https://www.youtube.com/watch?v=6wckJlowTAg\">video</a>)</h4>\\n\\n<p>Ian Ozsvald, a London-based data scientist with 15+ years of experience, he co-founded PyData London, one of the largest PyData communities in the world. Ian will introduce PyData, NumFOCUS and the community behind these initiatives. He’ll then talk about successfully delivering a data science project.</p>\\n\\n<h4 id=\"talk-2-štěpán-roučka-symbolic-computing-with-sympy-video\">Talk 2: Štěpán Roučka: Symbolic Computing with SymPy (<a href=\"https://www.youtube.com/watch?v=tsOzJ-Co938\">video</a>)</h4>\\n\\n<p>Štěpán Roučka, a contributor to the SymPy project, a computer algebra system widely used within academia and industry, both as a standalone tool and as part of other scientific packages. Štepán will give a brief overview of SymPy’s functionality and will show you a few examples, which may motivate you to add SymPy to your data science toolbox.</p>\\n\\n\\n      \\n    </div>\\n    <script src=\"https://cdnjs.cloudflare.com/ajax/libs/anchor-js/4.1.0/anchor.min.js\" integrity=\"sha256-lZaRhKri35AyJSypXXs4o6OPFTbTmUoltBbDCbdzegg=\" crossorigin=\"anonymous\"></script>\\n    <script>anchors.add();</script>\\n    \\n  </body>\\n</html>\\n'"
      ]
     },
     "execution_count": 29,
     "metadata": {},
     "output_type": "execute_result"
    }
   ],
   "source": [
    "r.text"
   ]
  },
  {
   "cell_type": "markdown",
   "metadata": {},
   "source": [
    "## BeautifulSoup: CSS selektory\n",
    "\n",
    "S knihovnou BeautifulSoup můžeme vyhledávat CSS selektory pomocí funkcí `select` (ukáže všechny prvky) a `select_one` (najde první prvek)."
   ]
  },
  {
   "cell_type": "code",
   "execution_count": 30,
   "metadata": {},
   "outputs": [],
   "source": [
    "r = requests.get('https://dokina.tiscali.cz/program-kin')"
   ]
  },
  {
   "cell_type": "code",
   "execution_count": 31,
   "metadata": {},
   "outputs": [],
   "source": [
    "soup = BeautifulSoup(r.text)"
   ]
  },
  {
   "cell_type": "code",
   "execution_count": 32,
   "metadata": {},
   "outputs": [
    {
     "data": {
      "text/plain": [
       "[<h4>NEJPOPULÁRNĚJŠÍ V KINECH</h4>,\n",
       " <h4 class=\"title mb-0\">Šťastný nový rok</h4>,\n",
       " <h4 class=\"title mb-0\">Na nože</h4>,\n",
       " <h4 class=\"title mb-0\">Můj příběh</h4>,\n",
       " <h4 class=\"title mb-0\">Pod vodou</h4>,\n",
       " <h4 class=\"title mb-0\">Cats</h4>,\n",
       " <h4>NEJBLIŽŠÍ KINA</h4>,\n",
       " <h4 class=\"title mb-0\">Silnice</h4>,\n",
       " <h4 class=\"title mb-0\">Bílý bílý den</h4>,\n",
       " <h4 class=\"title mb-0\">Cats</h4>,\n",
       " <h4 class=\"title mb-0\">Jiří Suchý - Lehce s životem se prát</h4>,\n",
       " <h4 class=\"title mb-0\">Můj příběh</h4>,\n",
       " <h4 class=\"title mb-0\">Ženská na vrcholu</h4>,\n",
       " <h4 class=\"title mb-0\">Můj příběh</h4>,\n",
       " <h4 class=\"title mb-0\">Na nože</h4>,\n",
       " <h4 class=\"title mb-0\">Tenkrát podruhé</h4>,\n",
       " <h4 class=\"title mb-0\">Amundsen</h4>,\n",
       " <h4 class=\"title mb-0\">Na nože</h4>,\n",
       " <h4 class=\"title mb-0\">Parazit</h4>,\n",
       " <h4 class=\"title mb-0\">Tenkrát podruhé</h4>,\n",
       " <h4 class=\"title mb-0\">Vlastníci</h4>]"
      ]
     },
     "execution_count": 32,
     "metadata": {},
     "output_type": "execute_result"
    }
   ],
   "source": [
    "soup.select('h4')"
   ]
  },
  {
   "cell_type": "code",
   "execution_count": 33,
   "metadata": {},
   "outputs": [
    {
     "data": {
      "text/plain": [
       "[<title>Program kin | DOKINA.CZ</title>]"
      ]
     },
     "execution_count": 33,
     "metadata": {},
     "output_type": "execute_result"
    }
   ],
   "source": [
    "soup.select('html head title') # najdi tag title pod tagy html a head"
   ]
  },
  {
   "cell_type": "code",
   "execution_count": 34,
   "metadata": {},
   "outputs": [
    {
     "data": {
      "text/plain": [
       "[<h4 class=\"title mb-0\">Šťastný nový rok</h4>,\n",
       " <h4 class=\"title mb-0\">Na nože</h4>,\n",
       " <h4 class=\"title mb-0\">Můj příběh</h4>,\n",
       " <h4 class=\"title mb-0\">Pod vodou</h4>,\n",
       " <h4 class=\"title mb-0\">Cats</h4>,\n",
       " <h3 class=\"title mb-0\">\n",
       " <a data-ga-action=\"cinema-detail\" data-ga-category=\"program-kin\" href=\"/ponrepo-2836\" title=\"Profil kina\">Ponrepo</a>\n",
       " <a class=\"favourite-toggler\" data-ga-action=\"toggle-favorite-cinema\" data-ga-category=\"program-kin\" data-id=\"2836\" href=\"#\" title=\"Přidat do oblíbených\"></a>\n",
       " </h3>,\n",
       " <h3 class=\"title mb-0\">\n",
       " <a data-ga-action=\"cinema-detail\" data-ga-category=\"program-kin\" href=\"/mestska-knihovna-1729\" title=\"Profil kina\">Městská knihovna</a>\n",
       " <a class=\"favourite-toggler\" data-ga-action=\"toggle-favorite-cinema\" data-ga-category=\"program-kin\" data-id=\"1729\" href=\"#\" title=\"Přidat do oblíbených\"></a>\n",
       " </h3>,\n",
       " <h3 class=\"title mb-0\">\n",
       " <a data-ga-action=\"cinema-detail\" data-ga-category=\"program-kin\" href=\"/evald-2829\" title=\"Profil kina\">Evald</a>\n",
       " <a class=\"favourite-toggler\" data-ga-action=\"toggle-favorite-cinema\" data-ga-category=\"program-kin\" data-id=\"2829\" href=\"#\" title=\"Přidat do oblíbených\"></a>\n",
       " </h3>,\n",
       " <h3 class=\"title mb-0\">\n",
       " <a data-ga-action=\"cinema-detail\" data-ga-category=\"program-kin\" href=\"/mat-2832\" title=\"Profil kina\">Mat</a>\n",
       " <a class=\"favourite-toggler\" data-ga-action=\"toggle-favorite-cinema\" data-ga-category=\"program-kin\" data-id=\"2832\" href=\"#\" title=\"Přidat do oblíbených\"></a>\n",
       " </h3>,\n",
       " <h3 class=\"title mb-0\">\n",
       " <a data-ga-action=\"cinema-detail\" data-ga-category=\"program-kin\" href=\"/svetozor-2851\" title=\"Profil kina\">Světozor</a>\n",
       " <a class=\"favourite-toggler\" data-ga-action=\"toggle-favorite-cinema\" data-ga-category=\"program-kin\" data-id=\"2851\" href=\"#\" title=\"Přidat do oblíbených\"></a>\n",
       " </h3>,\n",
       " <h3 class=\"title mb-0\">\n",
       " <a data-ga-action=\"cinema-detail\" data-ga-category=\"program-kin\" href=\"/ponrepo-2836\" title=\"Profil kina\">Ponrepo</a>\n",
       " <a class=\"favourite-toggler\" data-ga-action=\"toggle-favorite-cinema\" data-ga-category=\"program-kin\" data-id=\"2836\" href=\"#\" title=\"Přidat do oblíbených\"></a>\n",
       " </h3>,\n",
       " <h4 class=\"title mb-0\">Silnice</h4>,\n",
       " <h3 class=\"title mb-0\">\n",
       " <a data-ga-action=\"cinema-detail\" data-ga-category=\"program-kin\" href=\"/mestska-knihovna-1729\" title=\"Profil kina\">Městská knihovna</a>\n",
       " <a class=\"favourite-toggler\" data-ga-action=\"toggle-favorite-cinema\" data-ga-category=\"program-kin\" data-id=\"1729\" href=\"#\" title=\"Přidat do oblíbených\"></a>\n",
       " </h3>,\n",
       " <h4 class=\"title mb-0\">Bílý bílý den</h4>,\n",
       " <h3 class=\"title mb-0\">\n",
       " <a data-ga-action=\"cinema-detail\" data-ga-category=\"program-kin\" href=\"/evald-2829\" title=\"Profil kina\">Evald</a>\n",
       " <a class=\"favourite-toggler\" data-ga-action=\"toggle-favorite-cinema\" data-ga-category=\"program-kin\" data-id=\"2829\" href=\"#\" title=\"Přidat do oblíbených\"></a>\n",
       " </h3>,\n",
       " <h4 class=\"title mb-0\">Cats</h4>,\n",
       " <h4 class=\"title mb-0\">Jiří Suchý - Lehce s životem se prát</h4>,\n",
       " <h4 class=\"title mb-0\">Můj příběh</h4>,\n",
       " <h4 class=\"title mb-0\">Ženská na vrcholu</h4>,\n",
       " <h3 class=\"title mb-0\">\n",
       " <a data-ga-action=\"cinema-detail\" data-ga-category=\"program-kin\" href=\"/mat-2832\" title=\"Profil kina\">Mat</a>\n",
       " <a class=\"favourite-toggler\" data-ga-action=\"toggle-favorite-cinema\" data-ga-category=\"program-kin\" data-id=\"2832\" href=\"#\" title=\"Přidat do oblíbených\"></a>\n",
       " </h3>,\n",
       " <h4 class=\"title mb-0\">Můj příběh</h4>,\n",
       " <h4 class=\"title mb-0\">Na nože</h4>,\n",
       " <h4 class=\"title mb-0\">Tenkrát podruhé</h4>,\n",
       " <h3 class=\"title mb-0\">\n",
       " <a data-ga-action=\"cinema-detail\" data-ga-category=\"program-kin\" href=\"/svetozor-2851\" title=\"Profil kina\">Světozor</a>\n",
       " <a class=\"favourite-toggler\" data-ga-action=\"toggle-favorite-cinema\" data-ga-category=\"program-kin\" data-id=\"2851\" href=\"#\" title=\"Přidat do oblíbených\"></a>\n",
       " </h3>,\n",
       " <h4 class=\"title mb-0\">Amundsen</h4>,\n",
       " <h4 class=\"title mb-0\">Na nože</h4>,\n",
       " <h4 class=\"title mb-0\">Parazit</h4>,\n",
       " <h4 class=\"title mb-0\">Tenkrát podruhé</h4>,\n",
       " <h4 class=\"title mb-0\">Vlastníci</h4>]"
      ]
     },
     "execution_count": 34,
     "metadata": {},
     "output_type": "execute_result"
    }
   ],
   "source": [
    "soup.select('.title') # najdi všechny tagy s třídou title"
   ]
  },
  {
   "cell_type": "code",
   "execution_count": 35,
   "metadata": {},
   "outputs": [
    {
     "data": {
      "text/plain": [
       "[<h4 class=\"title mb-0\">Šťastný nový rok</h4>,\n",
       " <h4 class=\"title mb-0\">Na nože</h4>,\n",
       " <h4 class=\"title mb-0\">Můj příběh</h4>,\n",
       " <h4 class=\"title mb-0\">Pod vodou</h4>,\n",
       " <h4 class=\"title mb-0\">Cats</h4>,\n",
       " <h4 class=\"title mb-0\">Silnice</h4>,\n",
       " <h4 class=\"title mb-0\">Bílý bílý den</h4>,\n",
       " <h4 class=\"title mb-0\">Cats</h4>,\n",
       " <h4 class=\"title mb-0\">Jiří Suchý - Lehce s životem se prát</h4>,\n",
       " <h4 class=\"title mb-0\">Můj příběh</h4>,\n",
       " <h4 class=\"title mb-0\">Ženská na vrcholu</h4>,\n",
       " <h4 class=\"title mb-0\">Můj příběh</h4>,\n",
       " <h4 class=\"title mb-0\">Na nože</h4>,\n",
       " <h4 class=\"title mb-0\">Tenkrát podruhé</h4>,\n",
       " <h4 class=\"title mb-0\">Amundsen</h4>,\n",
       " <h4 class=\"title mb-0\">Na nože</h4>,\n",
       " <h4 class=\"title mb-0\">Parazit</h4>,\n",
       " <h4 class=\"title mb-0\">Tenkrát podruhé</h4>,\n",
       " <h4 class=\"title mb-0\">Vlastníci</h4>]"
      ]
     },
     "execution_count": 35,
     "metadata": {},
     "output_type": "execute_result"
    }
   ],
   "source": [
    "soup.select('.movie-item .title') # najdi všechny tagy s třídou title uvnitř tagů s třídou movie-item"
   ]
  },
  {
   "cell_type": "markdown",
   "metadata": {
    "heading_collapsed": true
   },
   "source": [
    "## Nástroje v prohlížeči \n",
    "\n",
    "Než začneme stahovat stránku pomocí Pythonu, je dobré podívat se na její strukturu přímo v prohlížeči."
   ]
  },
  {
   "cell_type": "markdown",
   "metadata": {
    "hidden": true
   },
   "source": [
    "### Zdrojový kód stránky\n",
    "\n",
    "<br />\n",
    "\n",
    "<div>\n",
    "<img src=\"static/FF_pagesource.png\" width=\"30%\"align=\"left\"/>\n",
    "<img src=\"static/chrome_pagesource.png\" align=\"left\"/> \n",
    "</div>"
   ]
  },
  {
   "cell_type": "markdown",
   "metadata": {
    "hidden": true
   },
   "source": [
    "### Prozkoumat prvek / Inspect\n",
    "\n",
    "<br />\n",
    "\n",
    "<div>\n",
    "<img src=\"static/FF_inspect.png\" width=\"30%\"align=\"left\"/>\n",
    "    Pozor: Zrojový kód vybraného prvku nemusí odpovídat kódu, který stáhnete pomocí Pythonu. Během zobrazení v prohlížeči mohl být změněn JavaScriptem.\n",
    "<img src=\"static/inspect.png\" align=\"left\"/> \n",
    "</div>"
   ]
  },
  {
   "cell_type": "markdown",
   "metadata": {
    "hidden": true
   },
   "source": [
    "### Nástroje pro vývojáře\n",
    "\n",
    "<br />\n",
    "\n",
    "<div>\n",
    "<img src=\"static/FF_dev.png\" />\n",
    "<img src=\"static/chrome_dev.png\" /> \n",
    "</div>\n"
   ]
  },
  {
   "cell_type": "markdown",
   "metadata": {},
   "source": [
    "## Příklad z neživota"
   ]
  },
  {
   "cell_type": "raw",
   "metadata": {},
   "source": [
    "wikipedie nebo https://www.csfd.cz/zebricky/nejlepsi-filmy/  režiséři nebo knihy z goodreads"
   ]
  },
  {
   "cell_type": "markdown",
   "metadata": {},
   "source": [
    "## Jak na JavaScript"
   ]
  },
  {
   "cell_type": "code",
   "execution_count": null,
   "metadata": {},
   "outputs": [],
   "source": []
  }
 ],
 "metadata": {
  "kernelspec": {
   "display_name": "Python 3",
   "language": "python",
   "name": "python3"
  },
  "language_info": {
   "codemirror_mode": {
    "name": "ipython",
    "version": 3
   },
   "file_extension": ".py",
   "mimetype": "text/x-python",
   "name": "python",
   "nbconvert_exporter": "python",
   "pygments_lexer": "ipython3",
   "version": "3.7.3"
  }
 },
 "nbformat": 4,
 "nbformat_minor": 2
}
