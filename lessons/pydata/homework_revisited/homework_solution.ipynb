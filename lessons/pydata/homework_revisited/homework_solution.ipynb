{
 "cells": [
  {
   "cell_type": "markdown",
   "metadata": {},
   "source": [
    "# Implementace domácího úkolu - rybí regrese "
   ]
  },
  {
   "cell_type": "code",
   "execution_count": 1,
   "metadata": {},
   "outputs": [],
   "source": [
    "import pandas as pd\n",
    "\n",
    "__ = 0"
   ]
  },
  {
   "cell_type": "markdown",
   "metadata": {},
   "source": [
    "- Načtěte si data pomocí pandas, vyberte požadované sloupce, převeďte vše na číselné hodnoty. \n",
    "\n",
    "*(Bude se vám hodit [get_dummies](https://pandas.pydata.org/pandas-docs/stable/reference/api/pandas.get_dummies.html), která kategoriální hodnoty zakóduje pomocí one hot encoding (pomocí nul a jedniček). (Pozn. **dummies** proto, že nám přibudou pomocné proměnné (sloupce), které se označují jako **dummy variables**.)*"
   ]
  },
  {
   "cell_type": "code",
   "execution_count": 2,
   "metadata": {},
   "outputs": [
    {
     "data": {
      "text/html": [
       "<div>\n",
       "<style scoped>\n",
       "    .dataframe tbody tr th:only-of-type {\n",
       "        vertical-align: middle;\n",
       "    }\n",
       "\n",
       "    .dataframe tbody tr th {\n",
       "        vertical-align: top;\n",
       "    }\n",
       "\n",
       "    .dataframe thead th {\n",
       "        text-align: right;\n",
       "    }\n",
       "</style>\n",
       "<table border=\"1\" class=\"dataframe\">\n",
       "  <thead>\n",
       "    <tr style=\"text-align: right;\">\n",
       "      <th></th>\n",
       "      <th>Weight</th>\n",
       "      <th>Length1</th>\n",
       "      <th>Length2</th>\n",
       "      <th>Length3</th>\n",
       "      <th>Height</th>\n",
       "      <th>Width</th>\n",
       "      <th>Species_Bream</th>\n",
       "      <th>Species_Parkki</th>\n",
       "      <th>Species_Perch</th>\n",
       "      <th>Species_Pike</th>\n",
       "      <th>Species_Roach</th>\n",
       "      <th>Species_Smelt</th>\n",
       "      <th>Species_Whitefish</th>\n",
       "    </tr>\n",
       "  </thead>\n",
       "  <tbody>\n",
       "    <tr>\n",
       "      <th>0</th>\n",
       "      <td>242.0</td>\n",
       "      <td>23.2</td>\n",
       "      <td>25.4</td>\n",
       "      <td>30.0</td>\n",
       "      <td>11.5200</td>\n",
       "      <td>4.0200</td>\n",
       "      <td>1</td>\n",
       "      <td>0</td>\n",
       "      <td>0</td>\n",
       "      <td>0</td>\n",
       "      <td>0</td>\n",
       "      <td>0</td>\n",
       "      <td>0</td>\n",
       "    </tr>\n",
       "    <tr>\n",
       "      <th>1</th>\n",
       "      <td>290.0</td>\n",
       "      <td>24.0</td>\n",
       "      <td>26.3</td>\n",
       "      <td>31.2</td>\n",
       "      <td>12.4800</td>\n",
       "      <td>4.3056</td>\n",
       "      <td>1</td>\n",
       "      <td>0</td>\n",
       "      <td>0</td>\n",
       "      <td>0</td>\n",
       "      <td>0</td>\n",
       "      <td>0</td>\n",
       "      <td>0</td>\n",
       "    </tr>\n",
       "    <tr>\n",
       "      <th>2</th>\n",
       "      <td>340.0</td>\n",
       "      <td>23.9</td>\n",
       "      <td>26.5</td>\n",
       "      <td>31.1</td>\n",
       "      <td>12.3778</td>\n",
       "      <td>4.6961</td>\n",
       "      <td>1</td>\n",
       "      <td>0</td>\n",
       "      <td>0</td>\n",
       "      <td>0</td>\n",
       "      <td>0</td>\n",
       "      <td>0</td>\n",
       "      <td>0</td>\n",
       "    </tr>\n",
       "    <tr>\n",
       "      <th>3</th>\n",
       "      <td>363.0</td>\n",
       "      <td>26.3</td>\n",
       "      <td>29.0</td>\n",
       "      <td>33.5</td>\n",
       "      <td>12.7300</td>\n",
       "      <td>4.4555</td>\n",
       "      <td>1</td>\n",
       "      <td>0</td>\n",
       "      <td>0</td>\n",
       "      <td>0</td>\n",
       "      <td>0</td>\n",
       "      <td>0</td>\n",
       "      <td>0</td>\n",
       "    </tr>\n",
       "    <tr>\n",
       "      <th>4</th>\n",
       "      <td>430.0</td>\n",
       "      <td>26.5</td>\n",
       "      <td>29.0</td>\n",
       "      <td>34.0</td>\n",
       "      <td>12.4440</td>\n",
       "      <td>5.1340</td>\n",
       "      <td>1</td>\n",
       "      <td>0</td>\n",
       "      <td>0</td>\n",
       "      <td>0</td>\n",
       "      <td>0</td>\n",
       "      <td>0</td>\n",
       "      <td>0</td>\n",
       "    </tr>\n",
       "    <tr>\n",
       "      <th>...</th>\n",
       "      <td>...</td>\n",
       "      <td>...</td>\n",
       "      <td>...</td>\n",
       "      <td>...</td>\n",
       "      <td>...</td>\n",
       "      <td>...</td>\n",
       "      <td>...</td>\n",
       "      <td>...</td>\n",
       "      <td>...</td>\n",
       "      <td>...</td>\n",
       "      <td>...</td>\n",
       "      <td>...</td>\n",
       "      <td>...</td>\n",
       "    </tr>\n",
       "    <tr>\n",
       "      <th>153</th>\n",
       "      <td>9.8</td>\n",
       "      <td>11.4</td>\n",
       "      <td>12.0</td>\n",
       "      <td>13.2</td>\n",
       "      <td>2.2044</td>\n",
       "      <td>1.1484</td>\n",
       "      <td>0</td>\n",
       "      <td>0</td>\n",
       "      <td>0</td>\n",
       "      <td>0</td>\n",
       "      <td>0</td>\n",
       "      <td>1</td>\n",
       "      <td>0</td>\n",
       "    </tr>\n",
       "    <tr>\n",
       "      <th>154</th>\n",
       "      <td>12.2</td>\n",
       "      <td>11.5</td>\n",
       "      <td>12.2</td>\n",
       "      <td>13.4</td>\n",
       "      <td>2.0904</td>\n",
       "      <td>1.3936</td>\n",
       "      <td>0</td>\n",
       "      <td>0</td>\n",
       "      <td>0</td>\n",
       "      <td>0</td>\n",
       "      <td>0</td>\n",
       "      <td>1</td>\n",
       "      <td>0</td>\n",
       "    </tr>\n",
       "    <tr>\n",
       "      <th>155</th>\n",
       "      <td>13.4</td>\n",
       "      <td>11.7</td>\n",
       "      <td>12.4</td>\n",
       "      <td>13.5</td>\n",
       "      <td>2.4300</td>\n",
       "      <td>1.2690</td>\n",
       "      <td>0</td>\n",
       "      <td>0</td>\n",
       "      <td>0</td>\n",
       "      <td>0</td>\n",
       "      <td>0</td>\n",
       "      <td>1</td>\n",
       "      <td>0</td>\n",
       "    </tr>\n",
       "    <tr>\n",
       "      <th>156</th>\n",
       "      <td>12.2</td>\n",
       "      <td>12.1</td>\n",
       "      <td>13.0</td>\n",
       "      <td>13.8</td>\n",
       "      <td>2.2770</td>\n",
       "      <td>1.2558</td>\n",
       "      <td>0</td>\n",
       "      <td>0</td>\n",
       "      <td>0</td>\n",
       "      <td>0</td>\n",
       "      <td>0</td>\n",
       "      <td>1</td>\n",
       "      <td>0</td>\n",
       "    </tr>\n",
       "    <tr>\n",
       "      <th>158</th>\n",
       "      <td>19.9</td>\n",
       "      <td>13.8</td>\n",
       "      <td>15.0</td>\n",
       "      <td>16.2</td>\n",
       "      <td>2.9322</td>\n",
       "      <td>1.8792</td>\n",
       "      <td>0</td>\n",
       "      <td>0</td>\n",
       "      <td>0</td>\n",
       "      <td>0</td>\n",
       "      <td>0</td>\n",
       "      <td>1</td>\n",
       "      <td>0</td>\n",
       "    </tr>\n",
       "  </tbody>\n",
       "</table>\n",
       "<p>123 rows × 13 columns</p>\n",
       "</div>"
      ],
      "text/plain": [
       "     Weight  Length1  Length2  Length3   Height   Width  Species_Bream  \\\n",
       "0     242.0     23.2     25.4     30.0  11.5200  4.0200              1   \n",
       "1     290.0     24.0     26.3     31.2  12.4800  4.3056              1   \n",
       "2     340.0     23.9     26.5     31.1  12.3778  4.6961              1   \n",
       "3     363.0     26.3     29.0     33.5  12.7300  4.4555              1   \n",
       "4     430.0     26.5     29.0     34.0  12.4440  5.1340              1   \n",
       "..      ...      ...      ...      ...      ...     ...            ...   \n",
       "153     9.8     11.4     12.0     13.2   2.2044  1.1484              0   \n",
       "154    12.2     11.5     12.2     13.4   2.0904  1.3936              0   \n",
       "155    13.4     11.7     12.4     13.5   2.4300  1.2690              0   \n",
       "156    12.2     12.1     13.0     13.8   2.2770  1.2558              0   \n",
       "158    19.9     13.8     15.0     16.2   2.9322  1.8792              0   \n",
       "\n",
       "     Species_Parkki  Species_Perch  Species_Pike  Species_Roach  \\\n",
       "0                 0              0             0              0   \n",
       "1                 0              0             0              0   \n",
       "2                 0              0             0              0   \n",
       "3                 0              0             0              0   \n",
       "4                 0              0             0              0   \n",
       "..              ...            ...           ...            ...   \n",
       "153               0              0             0              0   \n",
       "154               0              0             0              0   \n",
       "155               0              0             0              0   \n",
       "156               0              0             0              0   \n",
       "158               0              0             0              0   \n",
       "\n",
       "     Species_Smelt  Species_Whitefish  \n",
       "0                0                  0  \n",
       "1                0                  0  \n",
       "2                0                  0  \n",
       "3                0                  0  \n",
       "4                0                  0  \n",
       "..             ...                ...  \n",
       "153              1                  0  \n",
       "154              1                  0  \n",
       "155              1                  0  \n",
       "156              1                  0  \n",
       "158              1                  0  \n",
       "\n",
       "[123 rows x 13 columns]"
      ]
     },
     "execution_count": 2,
     "metadata": {},
     "output_type": "execute_result"
    }
   ],
   "source": [
    "fish_data = pd.read_csv(\"fish_data.csv\", index_col=0)\n",
    "fish_data = fish_data.drop(columns=[\"ID\"])\n",
    "fish_data = pd.get_dummies(fish_data)\n",
    "fish_data"
   ]
  },
  {
   "cell_type": "markdown",
   "metadata": {},
   "source": [
    "- Zvol si sloupec, který budeš používat jako odezvu (**Weight**). Do proměnné **X** ulož sloupce, které budeš používat jako příznaky, do proměnné **y** sloupec s odezvou.\n",
    "\n",
    "*V teorii strojového učení se vstupy modelu (příznaky, vstupní proměnné) typicky označují písmenem X a výstupy písmenem y. Takto se často označují i proměnné v kódu. X představuje matici (neboli tabulku), kde každý řádek odpovídá jednomu datovému vzorku a každý sloupec jednomu příznaku (vstupní proměnné). y je vektor, neboli jeden sloupec s odezvou.*\n",
    "\n",
    "*Na vyzobnutí odezvy se výborně hodí metoda  [pop](https://pandas.pydata.org/pandas-docs/stable/reference/api/pandas.DataFrame.pop.html).*\n"
   ]
  },
  {
   "cell_type": "code",
   "execution_count": 3,
   "metadata": {},
   "outputs": [],
   "source": [
    "y = fish_data.pop(\"Weight\")\n",
    "X = fish_data"
   ]
  },
  {
   "cell_type": "markdown",
   "metadata": {},
   "source": [
    "- Rozděl data na trénovací a testovací. Všimni si, že máme v datech různé druhy ryb, na co si dát pozor? \n",
    "\n",
    "*Metoda  [train_test_split](https://scikit-learn.org/stable/modules/generated/sklearn.model_selection.train_test_split.html?highlight=train%20test%20split#sklearn.model_selection.train_test_split)  nám data rozdělí náhodně na trénovací a testovací sadu. Velikost testovací množiny můžeme specifikovat parametrem test_size, jeho přednastavená (default) hodnota je 0.25, t. j. 25%.*"
   ]
  },
  {
   "cell_type": "code",
   "execution_count": 4,
   "metadata": {},
   "outputs": [],
   "source": [
    "from sklearn.model_selection import train_test_split \n",
    "\n",
    "X_train, X_test, y_train, y_test = train_test_split(X, y)\n",
    "X_train, X_test, y_train, y_test = train_test_split(X, y, test_size=0.3)"
   ]
  },
  {
   "cell_type": "markdown",
   "metadata": {},
   "source": [
    "- Vyber si několik regresních modelů a zkus je použít. \n",
    "\n",
    "Pro dnešek možno zkusit:\n",
    "\n",
    "  - [LinearRegression](https://scikit-learn.org/stable/modules/generated/sklearn.linear_model.LinearRegression.html) \n",
    " \n",
    "  - [Lasso](https://scikit-learn.org/stable/modules/generated/sklearn.linear_model.Lasso.html#sklearn.linear_model.Lasso)\n",
    "      + hyperparametry: \n",
    "          * alpha, float, default=1.0 \n",
    " \n",
    "- [SVR](https://scikit-learn.org/stable/modules/generated/sklearn.svm.SVR.html#sklearn.svm.SVR)        \n",
    "     + hyperparametry:\n",
    "          * kernel, default rbf, one of ‘linear’, ‘poly’, ‘rbf’, ‘sigmoid’\n",
    "          * C, float, optional (default=1.0)"
   ]
  },
  {
   "cell_type": "markdown",
   "metadata": {},
   "source": [
    "# Odbočka: co jsou to ty *hyper-parametry*? \n",
    "\n",
    "U příkladů s černými krabičkami v první hodině jsme si (za vašimi zády) několikrát trochu pomohli a \n",
    "krabičce jsme předali na začátku nějaké parametry. Krabička totiž často umožňuje uživateli, aby si ji nakonfiguroval. V terminologii krabiček si můžeme představit, že krabička má na sobě různé páčky, kterými se dá seřídit. Těmito páčkami se nastavují tzv. **hyper-parametry** modelu. Všechny modely, které najdeš v knihovně Scikit-learn, mají nějaké výchozí nastavení a půjdou použít i bez toho, aby ses nastavením těchto hyper-parametrů zabývala.\n",
    "V případě, že model nedává uspokojivý výsledek, můžeš zkusit tyto parametry upravit, např. vyzkoušet několik různých nastavení a porovnat hodnotu metriky na testovací množině.\n",
    "\n",
    "U seznamu výše máme některé hyperparametry uvedené. Parametry často souvisejí s regularizací (výše *alpha*, *C*). **Regularizace** znamená, že model kromě toho, že se snaží nafitovat tak, aby odpovídal datům (dával správné odpovědi), zohledňuje nějaké další kriterium. Typicky toto kritérium hlídá, aby výstup modelu moc neosciloval, apod. Podobně jako jsi v příkladu s krajinou říkala, že řešení volíš tak, aby bylo *plynulé*, *hezké*, *odpovídalo obvyklým* krajinám. \n",
    "\n",
    "Proces výběru modelu včetně jeho parametrů se nazývá **model selection**, v knihovně Scikit-learn najdeš nástroje, které ti mohou pomoci, pod heslem [Model selection](https://scikit-learn.org/stable/model_selection.html)."
   ]
  },
  {
   "cell_type": "code",
   "execution_count": 5,
   "metadata": {},
   "outputs": [],
   "source": [
    "from sklearn.linear_model import LinearRegression, Lasso, SGDRegressor  \n",
    "from sklearn.svm import SVR "
   ]
  },
  {
   "cell_type": "code",
   "execution_count": 6,
   "metadata": {},
   "outputs": [],
   "source": [
    "model_zoo = [ \n",
    "    (LinearRegression, {}),\n",
    "    (Lasso, {\"alpha\": 1.0}),\n",
    "    (Lasso, {\"alpha\": 0.5}), \n",
    "    (SVR, {\"kernel\": \"rbf\"}),\n",
    "    (SVR, {\"kernel\": \"poly\"})\n",
    "]"
   ]
  },
  {
   "cell_type": "markdown",
   "metadata": {},
   "source": [
    "+ K trénovaní (fitování) slouží metoda `fit`, k predikci pro nové vzory metoda `predict`. \n",
    "```\n",
    "  model.fit(X_train, y_train)\n",
    "  pred = model.predict(X_test)\n",
    "```\n",
    "\n",
    "+ Metriku nemusíš programovat, k dispozici máš `mean_absolute_error`, `mean_squared_error` a `r2_score`.\n",
    "```\n",
    "  metrika = mean_absolute_error(y_test, pred)\n",
    "```  "
   ]
  },
  {
   "cell_type": "code",
   "execution_count": 7,
   "metadata": {},
   "outputs": [],
   "source": [
    "from sklearn.metrics import mean_absolute_error, mean_squared_error, r2_score\n",
    "\n",
    "def ml_game(X_train, y_train, X_test, y_test,\n",
    "            model_class, parametry):\n",
    "    \"\"\" 1. Vytvoří vybraný model s danými parametry.\n",
    "        2. Natrénuje jej na trénovací množině.\n",
    "        3. Spočte hodnoty metrik na trénovací i testovací množině.\n",
    "        returns naučený model\n",
    "    \"\"\" \n",
    "    model = model_class(**parametry)\n",
    "    \n",
    "    model.fit(X_train, y_train)\n",
    "    y_pred_train = model.predict(X_train)\n",
    "    y_pred_test = model.predict(X_test)\n",
    "    \n",
    "    print(f\"MAE {mean_absolute_error(y_train, y_pred_train):.3f} {mean_absolute_error(y_test, y_pred_test):.3f}\", \n",
    "          end=\" \"*10)\n",
    "    print(f\"MSE {mean_squared_error(y_train, y_pred_train):.3f} {mean_squared_error(y_test, y_pred_test):.3f}\")\n",
    "    print()\n",
    "    \n",
    "    return model "
   ]
  },
  {
   "cell_type": "code",
   "execution_count": 8,
   "metadata": {},
   "outputs": [
    {
     "name": "stdout",
     "output_type": "stream",
     "text": [
      "MAE 59.113 74.729          MSE 6208.749 10584.156\n",
      "\n",
      "MAE 60.715 66.189          MSE 6923.187 10235.597\n",
      "\n",
      "MAE 59.486 67.893          MSE 6669.106 10313.601\n",
      "\n",
      "MAE 257.004 291.198          MSE 115667.941 143383.602\n",
      "\n",
      "MAE 180.215 187.568          MSE 58383.985 51582.303\n",
      "\n"
     ]
    },
    {
     "name": "stderr",
     "output_type": "stream",
     "text": [
      "/home/petra/datacourse_env/lib/python3.6/site-packages/sklearn/linear_model/_coordinate_descent.py:476: ConvergenceWarning: Objective did not converge. You might want to increase the number of iterations. Duality gap: 98848.76232483267, tolerance: 947.199026895349\n",
      "  positive)\n",
      "/home/petra/datacourse_env/lib/python3.6/site-packages/sklearn/linear_model/_coordinate_descent.py:476: ConvergenceWarning: Objective did not converge. You might want to increase the number of iterations. Duality gap: 235261.33714232032, tolerance: 947.199026895349\n",
      "  positive)\n"
     ]
    }
   ],
   "source": [
    "trained_models = []\n",
    "for classname, parametry in model_zoo: \n",
    "    model = ml_game(X_train, y_train, X_test, y_test, classname, parametry)\n",
    "    trained_models.append(model) "
   ]
  },
  {
   "cell_type": "markdown",
   "metadata": {},
   "source": [
    "Naučili jsme několik modelů. Zamysli se teď na chvilku, který by sis vybrala a proč. \n",
    "Označme si jej jako `best_model`.  Můžeš si i zkusit pohrát s hyperparametry a zvolit jiné nastavení."
   ]
  },
  {
   "cell_type": "code",
   "execution_count": 9,
   "metadata": {},
   "outputs": [],
   "source": [
    "# doplň pořadí modelu, který jsi vybrala\n",
    "\n",
    "best_model = trained_models[__]"
   ]
  },
  {
   "cell_type": "markdown",
   "metadata": {},
   "source": [
    "# A pozor, překvapení ...  další testovací množina"
   ]
  },
  {
   "cell_type": "markdown",
   "metadata": {},
   "source": [
    "Data jsme si rozdělili na trénovací a testovací. Trénovací jsme použili na učení modelu. \n",
    "**Ale pozor!** Testovací množinu jsme použili k výběru modelu. Metrika na testovací množině nám tedy \n",
    "nedává nezávislý odhad toho, jak se bude náš model chovat na neznámých datech. Byl totiž vybrán tak, \n",
    "aby dával dobré výsledky na testovací množině. \n",
    "\n",
    "Testovací množina nám slouží jako odhad generalizačních schopností modelu. Neměla by ale být použita ani při učení,\n",
    "ani při výběru modelu. Část, kterou si oddělíme na \"testování\" pro účely výběru modelu, nazýváme správně \n",
    "**validační** množina. \n",
    "**Pozor:** Pokud jsme ale tuto validační množinu použili k výběru modelu, nesmíme ji používat k samotnému hodnocení generalizačních schopností tohoto modelu. \n",
    "\n",
    "A proto teď přichází opravdová testovací data, načtěte je ze souboru `fish_data_test.csv`."
   ]
  },
  {
   "cell_type": "code",
   "execution_count": 10,
   "metadata": {},
   "outputs": [
    {
     "name": "stdout",
     "output_type": "stream",
     "text": [
      "MAE 87.283\n",
      "MSE 15148.462\n"
     ]
    }
   ],
   "source": [
    "test_data = pd.read_csv(\"fish_data_test.csv\", index_col=0)\n",
    "test_data = pd.get_dummies(test_data.drop(columns=[\"ID\"]))\n",
    "\n",
    "y_real_test = test_data.pop(\"Weight\")\n",
    "X_real_test = test_data \n",
    "\n",
    "y_pred_test = best_model.predict(X_real_test)\n",
    "\n",
    "print(f\"MAE {mean_absolute_error(y_real_test, y_pred_test):.3f}\")\n",
    "print(f\"MSE {mean_squared_error(y_real_test, y_pred_test):.3f}\")\n"
   ]
  },
  {
   "cell_type": "code",
   "execution_count": 11,
   "metadata": {},
   "outputs": [
    {
     "name": "stdout",
     "output_type": "stream",
     "text": [
      "     650.0          590.0\n",
      "     620.0          680.6\n",
      "     680.0          746.0\n",
      "     700.0          734.6\n",
      "     920.0          910.5\n",
      "      69.0           52.5\n",
      "     120.0           95.1\n",
      "       0.0          125.6\n",
      "     150.0          192.3\n",
      "     160.0          182.5\n",
      "     169.0          341.1\n",
      "     161.0          254.0\n",
      "     272.0          467.7\n",
      "     306.0          350.5\n",
      "    1000.0          811.2\n",
      "      90.0            7.0\n",
      "     150.0          134.4\n",
      "     140.0          163.9\n",
      "     500.0          502.1\n",
      "       5.9         -453.3\n",
      "      32.0         -221.3\n",
      "     100.0            8.4\n",
      "     115.0          135.2\n",
      "     110.0          164.1\n",
      "     170.0          211.5\n",
      "     188.0          257.7\n",
      "     180.0          253.0\n",
      "     250.0          347.5\n",
      "     300.0          351.9\n",
      "     320.0          442.3\n",
      "     700.0          766.7\n",
      "    1000.0         1078.6\n",
      "    1000.0         1045.6\n",
      "     950.0          928.1\n",
      "    1650.0         1452.3\n",
      "      19.7          136.0\n"
     ]
    }
   ],
   "source": [
    "for weight, predicted_weight in zip(y_real_test, y_pred_test):\n",
    "    print(f\"{weight:>10.1f}     {predicted_weight:>10.1f}\")"
   ]
  },
  {
   "cell_type": "markdown",
   "metadata": {},
   "source": [
    "# Visualizace na závěr "
   ]
  },
  {
   "cell_type": "markdown",
   "metadata": {},
   "source": [
    "+ Pro představu si zobrazme závislost váhy ryby na délce Length3. Zobrazíme zvlášt pro různé druhy, tedy např. pro Pike a Roach.  "
   ]
  },
  {
   "cell_type": "code",
   "execution_count": 12,
   "metadata": {},
   "outputs": [],
   "source": [
    "is_pike = X[\"Species_Pike\"] == 1 \n",
    "pike = X[is_pike][\"Length3\"]\n",
    "pike_weights = y[is_pike]\n",
    "predicted_pike_weights = trained_models[0].predict(X[is_pike])\n",
    "\n",
    "is_roach = X[\"Species_Roach\"] == 1\n",
    "roach = X[is_roach][\"Length3\"]\n",
    "roach_weights = y[is_roach]\n",
    "predicted_roach_weights = trained_models[0].predict(X[is_roach])"
   ]
  },
  {
   "cell_type": "code",
   "execution_count": 13,
   "metadata": {},
   "outputs": [
    {
     "data": {
      "text/plain": [
       "<matplotlib.legend.Legend at 0x7f54e9858d68>"
      ]
     },
     "execution_count": 13,
     "metadata": {},
     "output_type": "execute_result"
    }
   ],
   "source": [
    "import matplotlib.pyplot as plt \n",
    "\n",
    "fig, ax = plt.subplots(1, 2)\n",
    "\n",
    "ax[0].plot(pike, pike_weights, label=\"true weight\");\n",
    "ax[0].plot(pike, predicted_pike_weights, label=\"prediction\");\n",
    "ax[0].legend()\n",
    "\n",
    "ax[1].plot(roach, roach_weights, label=\"true weight\");\n",
    "ax[1].plot(roach, predicted_roach_weights, label=\"prediction\");\n",
    "ax[1].legend()"
   ]
  }
 ],
 "metadata": {
  "kernelspec": {
   "display_name": "Python 3",
   "language": "python",
   "name": "python3"
  },
  "language_info": {
   "codemirror_mode": {
    "name": "ipython",
    "version": 3
   },
   "file_extension": ".py",
   "mimetype": "text/x-python",
   "name": "python",
   "nbconvert_exporter": "python",
   "pygments_lexer": "ipython3",
   "version": "3.6.8"
  }
 },
 "nbformat": 4,
 "nbformat_minor": 2
}
