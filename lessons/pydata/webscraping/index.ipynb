{
 "cells": [
  {
   "cell_type": "markdown",
   "metadata": {},
   "source": [
    "# Web scraping"
   ]
  },
  {
   "cell_type": "markdown",
   "metadata": {},
   "source": [
    "## Co je web scraping?\n",
    "- Strojové čtení nestrukturovaných dat z webových stránek"
   ]
  },
  {
   "cell_type": "markdown",
   "metadata": {},
   "source": [
    "## Co není web scraping?\n",
    "- Stahování dat přes API\n",
    "- Stahování strukturovaných dat (JSON, CSV,...)\n",
    "- Crawling - procházení a indexování celé webové stránky pomocí jejích vnitřních hypertextových odkazů\n"
   ]
  },
  {
   "cell_type": "markdown",
   "metadata": {},
   "source": [
    "## Příklady web scrapingu"
   ]
  },
  {
   "cell_type": "markdown",
   "metadata": {
    "heading_collapsed": true
   },
   "source": [
    "### Analýza cen na českých e-shopech\n",
    "\n",
    "\n",
    "<div>\n",
    "    <img src=\"static/hlidacshopu.png\", width=\"50%\"/>\n",
    "</div>\n",
    "\n",
    "https://medium.com/@jakubbalada/black-friday-2019-s-hl%C3%ADda%C4%8Dem-shop%C5%AF-9a3ddd352a8c"
   ]
  },
  {
   "cell_type": "markdown",
   "metadata": {},
   "source": [
    "### Jak hodnotila filmy Mirka Spáčilová\n",
    "\n",
    "\n",
    "<div>\n",
    "<img src=\"static/spacilova.png\",width=\"50%\", style=\"width:400px;\"/>\n",
    "</div>\n",
    "\n",
    "https://www.michalblaha.cz/2017/10/filmova-kriticka-mirka-spacilova-v-cislech/"
   ]
  },
  {
   "cell_type": "markdown",
   "metadata": {},
   "source": [
    "## Etika web scrapingu\n",
    "\n",
    "- Než začneš s web scrapingem, podívej se, jestli stránka nenabízí strukturovaná data ke stažení nebo neposkytuje API. \n",
    "    - **Příklady:** \n",
    "    - https://data.gov.cz/datov%C3%A9-sady?poskytovatel=%C4%8Cesk%C3%BD%20statistick%C3%BD%20%C3%BA%C5%99ad\n",
    "    - https://www.ncdc.noaa.gov/data-access\n",
    "    - https://www.mapakriminality.cz/data/\n",
    "    - http://opendata.praha.eu/dataset/meteostanice-chmi-api\n",
    "- Zjisti si, jaká máš práva k datům, nepublikuj získaná data nelegálně\n",
    "- Přistupuj ke stránce k rozumné míře, nesnažíš se stránku shodit, ale získat data :-) "
   ]
  },
  {
   "cell_type": "markdown",
   "metadata": {},
   "source": [
    "## Z čeho se skládá webová stránka\n",
    "- **HTML** (HyperText Markup Language): strukturovaný obsah stránky (text a obrázky)\n",
    "- **CSS** (Cascading Style Sheets): úprava vzhledu stránky\n",
    "- **JavaScript**: interaktivita obsahu a vzhledu stránky"
   ]
  },
  {
   "cell_type": "markdown",
   "metadata": {},
   "source": [
    "### HTML \n",
    "<div>\n",
    "    <img src=\"static/html.png\", width=\"80%\">\n",
    "</div>"
   ]
  },
  {
   "cell_type": "markdown",
   "metadata": {},
   "source": [
    "- Je tvořen HTML značkami / tagy, např.  ``<img>``\n",
    "- Většina HTML tagů je párová, např. ``<h2>`` a ``</h2>``\n",
    "- Tagy mohou mít atributy, které dále specifikují, co a jak bude tag zobrazovat\n",
    "- Atribut class se obvykle používá k stylování stránky a často podle něj můžeme při webscrapingu odlišit různé části stránky"
   ]
  },
  {
   "cell_type": "markdown",
   "metadata": {},
   "source": [
    "### CSS\n",
    "\n",
    "- Popisuje způsob zobrazení html elementů\n",
    "- Obsahuje 2 části: selektor elementu a blok deklarace:\n",
    "\n",
    "```\n",
    "p.error {\n",
    "  color: red;\n",
    "}\n",
    "```\n"
   ]
  },
  {
   "cell_type": "code",
   "execution_count": null,
   "metadata": {},
   "outputs": [],
   "source": []
  }
 ],
 "metadata": {
  "kernelspec": {
   "display_name": "Python 3",
   "language": "python",
   "name": "python3"
  },
  "language_info": {
   "codemirror_mode": {
    "name": "ipython",
    "version": 3
   },
   "file_extension": ".py",
   "mimetype": "text/x-python",
   "name": "python",
   "nbconvert_exporter": "python",
   "pygments_lexer": "ipython3",
   "version": "3.7.3"
  }
 },
 "nbformat": 4,
 "nbformat_minor": 2
}
