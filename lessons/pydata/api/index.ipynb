{
 "cells": [
  {
   "cell_type": "markdown",
   "metadata": {},
   "source": [
    "# Co je API?"
   ]
  },
  {
   "cell_type": "markdown",
   "metadata": {},
   "source": [
    "## Klient a server"
   ]
  },
  {
   "cell_type": "markdown",
   "metadata": {},
   "source": [
    "API (Application Programming Interface) je dohoda mezi dvěma stranami o tom, jak si mezi sebou budou povídat. Těmto stranám se říká klient a server.\n",
    "\n",
    "**Server** je ta strana, která má zajímavé informace nebo něco zajímavého umí a umožňuje ostatním na internetu, aby toho využili. Server je program, který donekonečna běží na nějakém počítači a je připraven všem ostatním na internetu odpovídat na požadavky.\n",
    "\n",
    "**Klient** je program, který posílá požadavky na server a z odpovědí se snaží poskládat něco užitečného. Klient je tedy mobilní aplikace s mráčky a sluníčky nebo náš prohlížeč, v němž si můžeme otevřít kurzovní lístek ČNB. Je to ale i Heureka robot, který za Heureku načítá informace o zboží v e-shopech.\n",
    "\n",
    "_Serverové straně se v těchle materiálech nebudeme věnovat. Koho by to zajímalo, nechť se podívá na [cojeapi.cz](https://cojeapi.cz/)_"
   ]
  },
  {
   "cell_type": "markdown",
   "metadata": {},
   "source": [
    "![title](static/giphy.gif)"
   ]
  },
  {
   "cell_type": "markdown",
   "metadata": {},
   "source": [
    "# Základní pojmy"
   ]
  },
  {
   "cell_type": "markdown",
   "metadata": {},
   "source": [
    "Než se pustíme do tvorby klienta, projdeme si některé základní pojmy kolem API."
   ]
  },
  {
   "cell_type": "markdown",
   "metadata": {},
   "source": [
    "## Protokol"
   ]
  },
  {
   "cell_type": "markdown",
   "metadata": {},
   "source": [
    "Celé dorozumívání mezi klientem a serverem se odehrává přes tzv. protokol. To není nic jiného, než smluvený způsob, co bude kdo komu posílat a jakou strukturu to bude mít. Protokolů je v počítačovém světě spousta, ale nás bude zajímat jen HTTP, protože ten využívají webová API a ostatně i web samotný. Není to náhoda, že adresa internetových stránek v prohlížeči zpravidla začíná http:// (nebo https://)."
   ]
  },
  {
   "cell_type": "markdown",
   "metadata": {},
   "source": [
    "### HTTP"
   ]
  },
  {
   "cell_type": "markdown",
   "metadata": {},
   "source": [
    "Dorozumívání mezi klientem a serverem probíhá formou požadavku (HTTP request), jenž posílá klient na server, a odpovědi (HTTP response), kterou server posílá zpět. Každá z těchto zpráv má své náležitosti."
   ]
  },
  {
   "cell_type": "markdown",
   "metadata": {},
   "source": [
    "### Požadavek"
   ]
  },
  {
   "cell_type": "markdown",
   "metadata": {},
   "source": [
    "+ **metoda** (HTTP method): Například metoda GET má tu vlastnost, že pouze čte a nemůžeme s ní tedy přes API něco změnit - je tzv. bezpečná. Kromě metody GET existují ještě metody POST (vytvořit), PUT (aktualizovat) a DELETE (odstranit), které nepotřebujeme, protože data z API budeme pouze získávat.\n",
    "+ **adresa s parametry** (URL s query parameters):  Na konci běžné URL adresy otazník a za ním parametry. Pokud je parametrů víc, oddělují se znakem &. Adresa samotná nejčastěji určuje o jaká data půjde (v našem příkladě jsou to filmy) a URL parametry umožňují provést filtraci už na straně serveru a získat tím jen ta data, která nás opravdu zajímají (v našem případě dramata v délce 150 min)\n",
    "        http://api.example.com/movies/\n",
    "        http://api.example.com/movies?genre=drama&duration=150 \n",
    "+ **hlavičky** (headers): Hlavičky jsou vlastně jen další parametry. Liší se v tom, že je neposíláme jako součást adresy a na rozdíl od URL parametrů podléhají nějaké standardizaci a konvencím.\n",
    "+ **tělo** (body): Tělo zprávy je krabice, kterou s požadavkem posíláme, a do které můžeme vložit, co chceme. Tedy nejlépe něco, čemu bude API na druhé straně rozumět. Tělo může být prázdné. V těle můžeme poslat obyčejný text, data v nějakém formátu, ale klidně i obrázek. Aby API na druhé straně vědělo, co v krabici je a jak ji má rozbalovat, je potřeba s tělem zpravidla posílat hlavičku Content-Type.\n",
    "\n",
    "Musíme vyčíst z dokumentace konkrétního API, jak požadavek správně poskládat."
   ]
  },
  {
   "cell_type": "markdown",
   "metadata": {},
   "source": [
    "### Odpověď"
   ]
  },
  {
   "cell_type": "markdown",
   "metadata": {},
   "source": [
    "+ **status kód** (status code): Číselný kód, kterým API dává najevo, jak požadavek zpracovalo. Podle první číslice kódu se kódy dělí na různé kategorie:\n",
    "        1xx - informativní odpověď (požadavek byl přijat, ale jeho zpracování pokračuje)\n",
    "        2xx - požadavek byl v pořádku přijat a zpracován\n",
    "        3xx - přesměrování, klient potřebuje poslat další požadavek jinam, aby se dobral odpovědi\n",
    "        4xx - chyba na straně klienta (špatně jsme poskládali dotaz)\n",
    "        5xx - chyba na straně serveru (API nezvládlo odpovědět)\n",
    "+ **hlavičky** (headers): Informace o odpovědi jako např. datum zpracování, formát odpovědi...\n",
    "+ **tělo** (body): Tělo odpovědi - to, co nás zajímá většinou nejvíc"
   ]
  },
  {
   "cell_type": "markdown",
   "metadata": {},
   "source": [
    "### Formáty"
   ]
  },
  {
   "cell_type": "markdown",
   "metadata": {},
   "source": [
    "Tělo může být v libovolném formátu. Může to být text, HTML, obrázek, PDF soubor, nebo cokoliv jiného.\n",
    "Hodnotě hlavičky Content-Type se dávají různé názvy: content type, media type, MIME type. \n",
    "Nejčastěji se skládá jen z typu a podtypu, které se oddělí lomítkem. Několik příkladů:\n",
    "+ text/plain - obyčejný text\n",
    "+ text/html - HTML\n",
    "+ text/csv - CSV\n",
    "+ image/gif - GIF obrázek\n",
    "+ image/jpeg - JPEG obrázek\n",
    "+ image/png - PNG obrázek\n",
    "+ application/json - JSON\n",
    "+ application/xml nebo text/xml - XML\n"
   ]
  },
  {
   "cell_type": "markdown",
   "metadata": {},
   "source": [
    "### Formát JSON"
   ]
  },
  {
   "cell_type": "markdown",
   "metadata": {},
   "source": [
    "JSON vznikl kolem roku 2000 a brzy se uchytil jako stručnější náhrada za XML, především na webu a ve webových API. Dnes je to **nejspíš nejoblíbenější formát pro obecná strukturovaná data vůbec**. Jeho autorem je Douglas Crockford, jeden z lidí podílejících se na vývoji jazyka JavaScript."
   ]
  },
  {
   "cell_type": "markdown",
   "metadata": {},
   "source": [
    "Jeho oblíbenost pramení nejspíš i z jeho jednoduchosti. Ostatně tenhle jupyter notebook je uložen ve formátu JSON. Jeho plná specifikace je popsaná pomocí několika diagramů na stránce [json.org](https://www.json.org/json-cz.html)."
   ]
  },
  {
   "cell_type": "markdown",
   "metadata": {},
   "source": [
    "#### JSON je datový formát NE datový typ!"
   ]
  },
  {
   "cell_type": "markdown",
   "metadata": {},
   "source": [
    "Vstupem je libovolná datová struktura:\n",
    "+ číslo\n",
    "+ řetězec\n",
    "+ pravdivostní hodnota\n",
    "+ pole\n",
    "+ objekt\n",
    "+ None\n",
    "\n",
    "Výsutpem je vždy řetězec (string)"
   ]
  },
  {
   "cell_type": "markdown",
   "metadata": {},
   "source": [
    "![title](static/null.jpg)"
   ]
  },
  {
   "cell_type": "markdown",
   "metadata": {},
   "source": [
    "Jazyk Python (a mnoho dalších) má podporu pro práci s JSON v základní instalaci (vestavěný).\n",
    "\n",
    "V případě jazyka Python si lze JSON splést především se slovníkem (dictionary). Je ale potřeba si uvědomit, že JSON je text, který může být uložený do souboru nebo odeslaný přes HTTP, ale nelze jej přímo použít při programování. Musíme jej vždy nejdříve zpracovat na slovníky a seznamy."
   ]
  },
  {
   "cell_type": "code",
   "execution_count": 1,
   "metadata": {},
   "outputs": [],
   "source": [
    "import json"
   ]
  },
  {
   "cell_type": "markdown",
   "metadata": {},
   "source": [
    "V následujícím JSONu je pod klíčem \"people\" seznam slovníků s další strukturou:"
   ]
  },
  {
   "cell_type": "code",
   "execution_count": 2,
   "metadata": {},
   "outputs": [],
   "source": [
    "people_info = '''\n",
    "{\n",
    "    \"people\": [\n",
    "        {\n",
    "            \"name\": \"John Smith\",\n",
    "            \"phone\": \"555-246-999\",\n",
    "            \"email\": [\"johns@gmail.com\", \"jsmith@gmail.com\"],\n",
    "            \"is_employee\": false\n",
    "        },\n",
    "        {\n",
    "            \"name\": \"Jane Doe\",\n",
    "            \"phone\": \"665-296-659\",\n",
    "            \"email\": [\"janed@gmail.com\", \"djane@gmail.com\"],\n",
    "            \"is_employee\": true\n",
    "        }\n",
    "    ]\n",
    "}\n",
    "'''"
   ]
  },
  {
   "cell_type": "markdown",
   "metadata": {},
   "source": [
    "json.loads převede řetězec na objekt"
   ]
  },
  {
   "cell_type": "code",
   "execution_count": 3,
   "metadata": {},
   "outputs": [],
   "source": [
    "data = json.loads(people_info)"
   ]
  },
  {
   "cell_type": "code",
   "execution_count": 4,
   "metadata": {},
   "outputs": [
    {
     "data": {
      "text/plain": [
       "{'people': [{'name': 'John Smith',\n",
       "   'phone': '555-246-999',\n",
       "   'email': ['johns@gmail.com', 'jsmith@gmail.com'],\n",
       "   'is_employee': False},\n",
       "  {'name': 'Jane Doe',\n",
       "   'phone': '665-296-659',\n",
       "   'email': ['janed@gmail.com', 'djane@gmail.com'],\n",
       "   'is_employee': True}]}"
      ]
     },
     "execution_count": 4,
     "metadata": {},
     "output_type": "execute_result"
    }
   ],
   "source": [
    "data"
   ]
  },
  {
   "cell_type": "code",
   "execution_count": 5,
   "metadata": {},
   "outputs": [
    {
     "data": {
      "text/plain": [
       "dict"
      ]
     },
     "execution_count": 5,
     "metadata": {},
     "output_type": "execute_result"
    }
   ],
   "source": [
    "type(data)"
   ]
  },
  {
   "cell_type": "code",
   "execution_count": 6,
   "metadata": {},
   "outputs": [
    {
     "data": {
      "text/plain": [
       "list"
      ]
     },
     "execution_count": 6,
     "metadata": {},
     "output_type": "execute_result"
    }
   ],
   "source": [
    "type(data['people'])"
   ]
  },
  {
   "cell_type": "code",
   "execution_count": 7,
   "metadata": {},
   "outputs": [
    {
     "data": {
      "text/plain": [
       "dict"
      ]
     },
     "execution_count": 7,
     "metadata": {},
     "output_type": "execute_result"
    }
   ],
   "source": [
    "type(data['people'][0])"
   ]
  },
  {
   "cell_type": "code",
   "execution_count": 8,
   "metadata": {},
   "outputs": [
    {
     "data": {
      "text/plain": [
       "[{'name': 'John Smith',\n",
       "  'phone': '555-246-999',\n",
       "  'email': ['johns@gmail.com', 'jsmith@gmail.com'],\n",
       "  'is_employee': False},\n",
       " {'name': 'Jane Doe',\n",
       "  'phone': '665-296-659',\n",
       "  'email': ['janed@gmail.com', 'djane@gmail.com'],\n",
       "  'is_employee': True}]"
      ]
     },
     "execution_count": 8,
     "metadata": {},
     "output_type": "execute_result"
    }
   ],
   "source": [
    "data['people']"
   ]
  },
  {
   "cell_type": "code",
   "execution_count": 9,
   "metadata": {},
   "outputs": [
    {
     "data": {
      "text/plain": [
       "{'name': 'John Smith',\n",
       " 'phone': '555-246-999',\n",
       " 'email': ['johns@gmail.com', 'jsmith@gmail.com'],\n",
       " 'is_employee': False}"
      ]
     },
     "execution_count": 9,
     "metadata": {},
     "output_type": "execute_result"
    }
   ],
   "source": [
    "data['people'][0]"
   ]
  },
  {
   "cell_type": "code",
   "execution_count": 10,
   "metadata": {},
   "outputs": [
    {
     "data": {
      "text/plain": [
       "'John Smith'"
      ]
     },
     "execution_count": 10,
     "metadata": {},
     "output_type": "execute_result"
    }
   ],
   "source": [
    "data['people'][0]['name']"
   ]
  },
  {
   "cell_type": "markdown",
   "metadata": {},
   "source": [
    "# Práce s API klienty"
   ]
  },
  {
   "cell_type": "markdown",
   "metadata": {},
   "source": [
    "## Obecný klient"
   ]
  },
  {
   "cell_type": "markdown",
   "metadata": {},
   "source": [
    "Mobilní aplikace na počasí je klient, který někdo vytvořil pro jeden konkrétní úkol a pracovat umí jen s jedním konkrétním API. Takový klient je užitečný, pokud chceme akorát vědět, jaké je počasí, ale už méně, pokud si chceme zkoušet práci s více API zároveň. Proto existují obecní klienti."
   ]
  },
  {
   "cell_type": "markdown",
   "metadata": {},
   "source": [
    "### Prohlížeč jako obecný klient"
   ]
  },
  {
   "cell_type": "markdown",
   "metadata": {},
   "source": [
    "Pokud z API chceme pouze číst a API nevyžaduje žádné přihlašování, můžeme jej vyzkoušet i v prohlížeči, jako by to byla webová stránka. Pokud na stránkách ČNB navštívíme [kurzovní lístek](https://www.cnb.cz/cs/financni-trhy/devizovy-trh/kurzy-devizoveho-trhu/kurzy-devizoveho-trhu/) a úplně dole klikneme na [Textový formát](https://www.cnb.cz/cs/financni-trhy/devizovy-trh/kurzy-devizoveho-trhu/kurzy-devizoveho-trhu/denni_kurz.txt?date=19.02.2020), uvidíme odpověď z API serveru"
   ]
  },
  {
   "cell_type": "markdown",
   "metadata": {},
   "source": [
    "https://www.cnb.cz/cs/financni_trhy/devizovy_trh/kurzy_devizoveho_trhu/denni_kurz.txt"
   ]
  },
  {
   "cell_type": "markdown",
   "metadata": {},
   "source": [
    "### Obecný klient v příkazové řádce: curl"
   ]
  },
  {
   "cell_type": "markdown",
   "metadata": {},
   "source": [
    "Pokud se k API budeme potřebovat přihlásit nebo s ním zkoušet dělat složitější věci než jen čtení, nebude nám prohlížeč stačit.\n",
    "\n",
    "Proto je dobré se naučit používat program curl. Spouští se v příkazové řádce a je to švýcarský nůž všech, kteří se pohybují kolem webových API."
   ]
  },
  {
   "cell_type": "markdown",
   "metadata": {},
   "source": [
    "#### Příklady s curl"
   ]
  },
  {
   "cell_type": "markdown",
   "metadata": {},
   "source": [
    "![title](static/curl.jpg)"
   ]
  },
  {
   "cell_type": "markdown",
   "metadata": {},
   "source": [
    "Když příkaz zadáme a spustíme, říkáme tím programu curl, že má poslat požadavek na uvedenou adresu a vypsat to, co mu ČNB pošle zpět."
   ]
  },
  {
   "cell_type": "markdown",
   "metadata": {},
   "source": [
    "![title](static/curl-return.jpg)"
   ]
  },
  {
   "cell_type": "markdown",
   "metadata": {},
   "source": [
    "## Vlastní klient"
   ]
  },
  {
   "cell_type": "markdown",
   "metadata": {},
   "source": [
    "Obecného klienta musí ovládat člověk (ruční nastavování parametrů, pravidelné spuštění na základě podmínek či času atd.). To je přesně to, co potřebujeme, když si chceme nějaké API vyzkoušet, ale celý smysl API je v tom, aby je programy mohly využívat automaticky.\n",
    "Pokud chceme naprogramovat klienta pro konkrétní úkol, můžeme ve většině jazyků použít buď vestavěnou, nebo doinstalovanou knihovnu. V případě jazyka Python použijeme knihovnu Requests."
   ]
  },
  {
   "cell_type": "markdown",
   "metadata": {},
   "source": [
    "Každé slušné API má dokumentaci, kde je popsáno celé fungování API. Tedy všechny možné url (endpointy), metody, parametry, formáty, chybové kódy atd. Dokumentace může mít formu webové stránky jako na příkladu [pražských dat](https://golemioapi.docs.apiary.io/) nebo dat od [britské policie](https://data.police.uk/docs/), které za chvíli použijeme.\n",
    "Velmi často používaným způsobem popisu API je také [OpenAPI](https://www.openapis.org/) (dříve Swagger). API je pomocí tohoto standardu popsáno v textovém formátu, který jde pak vizualizovat jako na příkladu tohohle smyšleného [Zverimexu](https://petstore.swagger.io/). Takovýhle standardizovaný popis je i strojově zpracovatelný."
   ]
  },
  {
   "cell_type": "markdown",
   "metadata": {},
   "source": [
    "## Golemio - pražská veřejná data"
   ]
  },
  {
   "cell_type": "markdown",
   "metadata": {},
   "source": [
    "Golemio je pražská datová platforma. Dokumentace je k nalezení na https://golemioapi.docs.apiary.io/#  Použijeme data o průjezdech cyklistů měřícími zařízeními.\n",
    "Jejich umístění a aktuální počty průjezdů jsou vidět na interaktivní mapě https://unicam.camea.cz/Discoverer/BikeCounter/map."
   ]
  },
  {
   "cell_type": "code",
   "execution_count": null,
   "metadata": {},
   "outputs": [],
   "source": [
    "%pip install requests"
   ]
  },
  {
   "cell_type": "code",
   "execution_count": 12,
   "metadata": {},
   "outputs": [],
   "source": [
    "from datetime import datetime, timedelta\n",
    "import json\n",
    "import requests"
   ]
  },
  {
   "cell_type": "markdown",
   "metadata": {},
   "source": [
    "V každém dotazu se musíme autorizovat pomocí API klíče.\n",
    "Ten získáme po bezplatné registraci na https://api.golemio.cz/api-keys/auth/sign-up.\n",
    "\n",
    "Klíč slouží například k omezení počtu dotazů. Momentálně jde poslat 10000 dotazů za 10 vteřin.\n",
    "\n",
    "API klíč se vkládá do hlavičky dotazu s názvem `x-access-token`. Připravíme si tedy hlavičku. Bude se používat pro všechny dotazy na API\n",
    "\n",
    "*Zdroj: https://golemioapi.docs.apiary.io/#introduction/general-info/usage*"
   ]
  },
  {
   "cell_type": "code",
   "execution_count": 13,
   "metadata": {},
   "outputs": [],
   "source": [
    "GOLEMIO_API_KEY = 'zde doplň svůj API klíč'\n",
    "headers = {\n",
    "  'Content-Type': 'application/json; charset=utf-8',\n",
    "  'x-access-token': GOLEMIO_API_KEY,\n",
    "}"
   ]
  },
  {
   "cell_type": "markdown",
   "metadata": {},
   "source": [
    "Dokumentace k endpointu o průjezdech cyklistů je zde\n",
    "https://golemioapi.docs.apiary.io/#reference/traffic/bicyclecounters/get-all-bicyclecounters.\n",
    "\n",
    "Kromě specifikace dat jde API i vyzkoušet přímo na webu. Stačí zkopírovat API klíč."
   ]
  },
  {
   "cell_type": "code",
   "execution_count": 14,
   "metadata": {},
   "outputs": [
    {
     "data": {
      "text/plain": [
       "<Response [200]>"
      ]
     },
     "execution_count": 14,
     "metadata": {},
     "output_type": "execute_result"
    }
   ],
   "source": [
    "response = requests.get('https://api.golemio.cz/v2/bicyclecounters/', headers=headers)\n",
    "response"
   ]
  },
  {
   "cell_type": "code",
   "execution_count": 15,
   "metadata": {},
   "outputs": [
    {
     "data": {
      "text/plain": [
       "requests.models.Response"
      ]
     },
     "execution_count": 15,
     "metadata": {},
     "output_type": "execute_result"
    }
   ],
   "source": [
    "type(response)"
   ]
  },
  {
   "cell_type": "code",
   "execution_count": null,
   "metadata": {},
   "outputs": [],
   "source": [
    "dir(response)"
   ]
  },
  {
   "cell_type": "code",
   "execution_count": 17,
   "metadata": {},
   "outputs": [
    {
     "data": {
      "text/plain": [
       "200"
      ]
     },
     "execution_count": 17,
     "metadata": {},
     "output_type": "execute_result"
    }
   ],
   "source": [
    "response.status_code"
   ]
  },
  {
   "cell_type": "code",
   "execution_count": null,
   "metadata": {},
   "outputs": [],
   "source": [
    "data_json = json.loads(response.content)\n",
    "data_json"
   ]
  },
  {
   "cell_type": "markdown",
   "metadata": {},
   "source": [
    "Nebo jednodušeji přímo pomocí připravené metody `json`."
   ]
  },
  {
   "cell_type": "code",
   "execution_count": null,
   "metadata": {},
   "outputs": [],
   "source": [
    "data_json = response.json()\n",
    "data_json"
   ]
  },
  {
   "cell_type": "code",
   "execution_count": null,
   "metadata": {},
   "outputs": [],
   "source": [
    "type(data_json['features'])"
   ]
  },
  {
   "cell_type": "code",
   "execution_count": 19,
   "metadata": {},
   "outputs": [
    {
     "data": {
      "text/plain": [
       "{'geometry': {'coordinates': [14.3986383, 50.0718897], 'type': 'Point'},\n",
       " 'properties': {'directions': [{'id': 'camea-BC_AL-ST',\n",
       "    'name': 'Štefánikova (centrum)'},\n",
       "   {'id': 'camea-BC_AL-PL', 'name': 'Plzeňská (z centra)'}],\n",
       "  'id': 'camea-BC_AL-STPL',\n",
       "  'name': 'Anděl (Plzeňská)',\n",
       "  'route': 'A14',\n",
       "  'updated_at': '2020-12-09T21:05:02.198Z'},\n",
       " 'type': 'Feature'}"
      ]
     },
     "execution_count": 19,
     "metadata": {},
     "output_type": "execute_result"
    }
   ],
   "source": [
    "data_json['features'][0]"
   ]
  },
  {
   "cell_type": "code",
   "execution_count": 20,
   "metadata": {},
   "outputs": [
    {
     "name": "stdout",
     "output_type": "stream",
     "text": [
      "camea-BC_AL-STPL\n",
      "Anděl (Plzeňská)\n",
      "camea-BC_AL-ST\n",
      "camea-BC_AL-PL\n"
     ]
    }
   ],
   "source": [
    "print(data_json['features'][0]['properties']['id'])\n",
    "print(data_json['features'][0]['properties']['name'])\n",
    "print(data_json['features'][0]['properties']['directions'][0]['id'])\n",
    "print(data_json['features'][0]['properties']['directions'][1]['id'])"
   ]
  },
  {
   "cell_type": "code",
   "execution_count": null,
   "metadata": {},
   "outputs": [],
   "source": [
    "def get_bicycle_counters() -> dict:\n",
    "    \"\"\" Return all bicycle counters \"\"\"\n",
    "    response = requests.get('https://api.golemio.cz/v2/bicyclecounters/', headers=headers)\n",
    "    \n",
    "    # vyhodí výjimku, pokud je status code chybový (začíná na 4 nebo 5)\n",
    "    response.raise_for_status()\n",
    "    \n",
    "    counters = {}\n",
    "    for counter in response.json()['features']:\n",
    "        counter_id = counter['properties']['id']\n",
    "        counter_name = counter['properties']['name']\n",
    "        direction_ids = [direction['id'] for direction in counter['properties']['directions'] if direction['id']]\n",
    "        \n",
    "        counters[counter_id] = {\n",
    "            'name': counter_name,\n",
    "            'direction_ids': direction_ids,\n",
    "        }\n",
    "    \n",
    "    return counters\n",
    "\n",
    "bicycle_counters = get_bicycle_counters()\n",
    "bicycle_counters    "
   ]
  },
  {
   "cell_type": "code",
   "execution_count": 24,
   "metadata": {},
   "outputs": [
    {
     "data": {
      "text/plain": [
       "746"
      ]
     },
     "execution_count": 24,
     "metadata": {},
     "output_type": "execute_result"
    }
   ],
   "source": [
    "def get_bike_count(counter_direction_id: str, time_from: datetime, duration: timedelta = None) -> int:\n",
    "    \"\"\" Return number of bike detections of counter in one direction in specific time frame \"\"\"\n",
    "    if duration is None:\n",
    "        duration = timedelta(days=1)\n",
    "        \n",
    "    params = {\n",
    "        'id': counter_direction_id,\n",
    "        'from': time_from.isoformat(),\n",
    "        'to': (time_from + duration).isoformat(),\n",
    "        'aggregate': 'true',\n",
    "    }\n",
    "    \n",
    "    response = requests.get('https://api.golemio.cz/v2/bicyclecounters/detections', params=params, headers=headers)\n",
    "    response.raise_for_status()\n",
    "    \n",
    "    return response.json()[0]['value']\n",
    "\n",
    "\n",
    "# example usage\n",
    "get_bike_count('camea-BC_AL-ST', datetime(2020, 12, 1), timedelta(weeks=1))"
   ]
  },
  {
   "cell_type": "code",
   "execution_count": 25,
   "metadata": {
    "scrolled": true
   },
   "outputs": [
    {
     "data": {
      "text/plain": [
       "746"
      ]
     },
     "execution_count": 25,
     "metadata": {},
     "output_type": "execute_result"
    }
   ],
   "source": [
    "get_bike_count('camea-BC_AL-ST', datetime(2020, 12, 1), timedelta(weeks=1))"
   ]
  },
  {
   "cell_type": "code",
   "execution_count": 26,
   "metadata": {
    "scrolled": true
   },
   "outputs": [
    {
     "data": {
      "text/plain": [
       "361"
      ]
     },
     "execution_count": 26,
     "metadata": {},
     "output_type": "execute_result"
    }
   ],
   "source": [
    "get_bike_count('camea-BC_AL-PL', datetime(2020, 12, 1), timedelta(weeks=1))"
   ]
  },
  {
   "cell_type": "code",
   "execution_count": 27,
   "metadata": {},
   "outputs": [
    {
     "data": {
      "text/plain": [
       "(746, 361, 1107)"
      ]
     },
     "execution_count": 27,
     "metadata": {},
     "output_type": "execute_result"
    }
   ],
   "source": [
    "def get_both_direction_counts(station_id: str, *args, counters: dict=None, **kwargs) -> tuple:\n",
    "    \"\"\" Return number of bike detections in both directions and sum of it.\n",
    "        Parameters are similar to get_bike_count function (see the usage on last row).\n",
    "    \"\"\"\n",
    "    if counters is None:\n",
    "        stations = get_bicycle_counters()\n",
    "    first_direction = get_bike_count(stations[station_id]['direction_ids'][0], *args, **kwargs)\n",
    "    second_direction = get_bike_count(stations[station_id]['direction_ids'][1], *args, **kwargs)\n",
    "    \n",
    "    return first_direction, second_direction, first_direction + second_direction\n",
    "\n",
    "get_both_direction_counts('camea-BC_AL-STPL', datetime(2020, 12, 1), timedelta(weeks=1))"
   ]
  },
  {
   "cell_type": "markdown",
   "metadata": {},
   "source": [
    "#### Úkoly\n",
    "* Kolik cyklistů projelo včera v čase 6.00 - 11.00 v Modřanech?\n",
    "* Které místo bylo včera nejfrekventovanější? A které druhé?\n",
    "* Jak se jezdilo v roce 2020 oproti roku předchozímu?\n",
    "* Kde je největší rozdíl mezi průjezdy jedním směrem a druhým? (třeba za poslední měsíc)\n",
    "* Znamená větší teplota více cyklistů? *Zjištění teploty https://golemioapi.docs.apiary.io/#reference/traffic/bicyclecounters/get-bicyclecounters-temperatures*\n",
    "    * zkuste vizualizovat\n",
    "    * jak velká je korelace"
   ]
  },
  {
   "cell_type": "markdown",
   "metadata": {},
   "source": [
    "## Práce s veřejným API\n",
    "Vyzkoušíme si dotazy na API s daty zločinnosti v UK, která jsou dostupná na měsiční bázi dle přibližné lokace (viz https://data.police.uk/docs/method/stops-at-location/)"
   ]
  },
  {
   "cell_type": "code",
   "execution_count": 28,
   "metadata": {},
   "outputs": [],
   "source": [
    "api_url = \"https://data.police.uk/api/stops-street\""
   ]
  },
  {
   "cell_type": "markdown",
   "metadata": {},
   "source": [
    "Nastavení parametrů volání API dle dokumentace https://data.police.uk/docs/method/stops-at-location/\n",
    "Jako lokaci jsem vybral nechvalně proslulý obvod Hackney v Londýně :)"
   ]
  },
  {
   "cell_type": "code",
   "execution_count": 29,
   "metadata": {},
   "outputs": [],
   "source": [
    "params = {\n",
    "    \"lat\" : \"51.5487158\",\n",
    "    \"lng\" : \"-0.0613842\",\n",
    "    \"date\" : \"2018-06\"\n",
    "}"
   ]
  },
  {
   "cell_type": "markdown",
   "metadata": {},
   "source": [
    "Pomocí funkce `get` pošleme požadavek na URL adresu API. URL adresa doplněná o parametry vypadá takto: https://data.police.uk/api/stops-street?lat=51.5487158&lng=-0.0613842&date=2018-06 a je možné ji vyzkoušet i v prohlížeči.\n",
    "\n",
    "V proměnné response máme uložený objekt, který obsahuje odpověď od API."
   ]
  },
  {
   "cell_type": "code",
   "execution_count": 30,
   "metadata": {},
   "outputs": [],
   "source": [
    "response = requests.get(api_url, params=params)"
   ]
  },
  {
   "cell_type": "markdown",
   "metadata": {},
   "source": [
    "Pokud je status kód jiný, než 200 (success), vyhodí skript chybu a chybový status code"
   ]
  },
  {
   "cell_type": "code",
   "execution_count": 31,
   "metadata": {},
   "outputs": [
    {
     "name": "stdout",
     "output_type": "stream",
     "text": [
      "First 100 characters of data are\n",
      "[{\"age_range\":\"18-24\",\"outcome\":\"Community resolution\",\"involved_person\":true,\"self_defined_ethnicit\n"
     ]
    }
   ],
   "source": [
    "if response.status_code != 200:\n",
    "    print('Failed to get data:', response.status_code)\n",
    "else:\n",
    "    print('First 100 characters of data are')\n",
    "    print(response.text[:100])"
   ]
  },
  {
   "cell_type": "markdown",
   "metadata": {},
   "source": [
    "Hlavička s doplňujícími informacemi o opdovědi"
   ]
  },
  {
   "cell_type": "code",
   "execution_count": 32,
   "metadata": {},
   "outputs": [
    {
     "data": {
      "text/plain": [
       "{'Date': 'Wed, 09 Dec 2020 21:29:35 GMT', 'Content-Type': 'application/json', 'Content-Length': '5687', 'Connection': 'keep-alive', 'Vary': 'Accept-Encoding', 'Access-Control-Allow-Origin': '*', 'Content-Encoding': 'gzip', 'Strict-Transport-Security': 'max-age=31536000;', 'X-XSS-Protection': '1; mode=block', 'X-Content-Type-Options': 'nosniff', 'X-Frame-Options': 'DENY', 'Content-Security-Policy': \"default-src 'self' 'unsafe-inline' ; script-src 'self' data: www.google-analytics.com ajax.googleapis.com 'unsafe-inline';\", 'Referer-Policy': 'strict-origin-when-cross-origin'}"
      ]
     },
     "execution_count": 32,
     "metadata": {},
     "output_type": "execute_result"
    }
   ],
   "source": [
    "response.headers"
   ]
  },
  {
   "cell_type": "code",
   "execution_count": 33,
   "metadata": {},
   "outputs": [
    {
     "data": {
      "text/plain": [
       "'application/json'"
      ]
     },
     "execution_count": 33,
     "metadata": {},
     "output_type": "execute_result"
    }
   ],
   "source": [
    "response.headers['content-type']"
   ]
  },
  {
   "cell_type": "markdown",
   "metadata": {},
   "source": [
    "Obsah odpovědi je řetězec bytů"
   ]
  },
  {
   "cell_type": "code",
   "execution_count": 34,
   "metadata": {},
   "outputs": [
    {
     "data": {
      "text/plain": [
       "b'[{\"age_range\":\"18-24\",\"outcome\":\"Community resolution\",\"involved_person\":true,\"self_defined_ethnicity\":\"Black\\\\/African\\\\/Caribbean\\\\/Black British - Any other Black\\\\/African\\\\/Caribbean background\",\"gend'"
      ]
     },
     "execution_count": 34,
     "metadata": {},
     "output_type": "execute_result"
    }
   ],
   "source": [
    "response.content[:200]"
   ]
  },
  {
   "cell_type": "markdown",
   "metadata": {},
   "source": [
    "Vypadá jako seznam (list) nebo slovník (dictionary), ale nechová se tak:"
   ]
  },
  {
   "cell_type": "code",
   "execution_count": 35,
   "metadata": {
    "tags": [
     "raises-exception"
    ]
   },
   "outputs": [
    {
     "ename": "TypeError",
     "evalue": "'Response' object is not subscriptable",
     "output_type": "error",
     "traceback": [
      "\u001b[0;31m---------------------------------------------------------------------------\u001b[0m",
      "\u001b[0;31mTypeError\u001b[0m                                 Traceback (most recent call last)",
      "\u001b[0;32m<ipython-input-35-ec7ac01c28cf>\u001b[0m in \u001b[0;36m<module>\u001b[0;34m\u001b[0m\n\u001b[0;32m----> 1\u001b[0;31m \u001b[0mresponse\u001b[0m\u001b[0;34m[\u001b[0m\u001b[0;36m0\u001b[0m\u001b[0;34m]\u001b[0m\u001b[0;34m[\u001b[0m\u001b[0;34m\"age_range\"\u001b[0m\u001b[0;34m]\u001b[0m\u001b[0;34m\u001b[0m\u001b[0;34m\u001b[0m\u001b[0m\n\u001b[0m",
      "\u001b[0;31mTypeError\u001b[0m: 'Response' object is not subscriptable"
     ]
    }
   ],
   "source": [
    "response[0][\"age_range\"]"
   ]
  },
  {
   "cell_type": "markdown",
   "metadata": {},
   "source": [
    "Převedeme řetězec bytů metodou .json() z knihovny requests"
   ]
  },
  {
   "cell_type": "code",
   "execution_count": 36,
   "metadata": {},
   "outputs": [],
   "source": [
    "data = response.json()"
   ]
  },
  {
   "cell_type": "markdown",
   "metadata": {},
   "source": [
    "Ověříme datový typ"
   ]
  },
  {
   "cell_type": "code",
   "execution_count": 37,
   "metadata": {},
   "outputs": [
    {
     "data": {
      "text/plain": [
       "list"
      ]
     },
     "execution_count": 37,
     "metadata": {},
     "output_type": "execute_result"
    }
   ],
   "source": [
    "type(data)"
   ]
  },
  {
   "cell_type": "markdown",
   "metadata": {},
   "source": [
    "Nyní můžeme přistupovat k \"data\" jako ke klasickému seznamu (list)"
   ]
  },
  {
   "cell_type": "code",
   "execution_count": 38,
   "metadata": {},
   "outputs": [
    {
     "data": {
      "text/plain": [
       "'18-24'"
      ]
     },
     "execution_count": 38,
     "metadata": {},
     "output_type": "execute_result"
    }
   ],
   "source": [
    "data[0][\"age_range\"]"
   ]
  },
  {
   "cell_type": "markdown",
   "metadata": {},
   "source": [
    "Převední seznamu(list) na řetězec s parametry pro zobrazení struktury v čitelné podobě"
   ]
  },
  {
   "cell_type": "code",
   "execution_count": 39,
   "metadata": {},
   "outputs": [],
   "source": [
    "datas = json.dumps(data, sort_keys=True, indent=4)"
   ]
  },
  {
   "cell_type": "code",
   "execution_count": 40,
   "metadata": {
    "scrolled": true
   },
   "outputs": [
    {
     "name": "stdout",
     "output_type": "stream",
     "text": [
      "[\n",
      "    {\n",
      "        \"age_range\": \"18-24\",\n",
      "        \"datetime\": \"2018-06-01T09:45:00+00:00\",\n",
      "        \"gender\": \"Male\",\n",
      "        \"involved_person\": true,\n",
      "        \"legislation\": \"Misuse of Drugs Act 1971 (section 23)\",\n",
      "        \"location\": {\n",
      "            \"latitude\": \"51.551330\",\n",
      "            \"longitude\": \"-0.068037\",\n",
      "            \"street\": {\n",
      "                \"id\": 968551,\n",
      "                \"name\": \"On or near Downs Park Road\"\n",
      "            }\n",
      "        },\n",
      "        \"object_of_search\": \"Controlled drugs\",\n",
      "        \"officer_defined_ethnicity\": \"Black\",\n",
      "        \"operation\": false,\n",
      "        \"operation_name\": null,\n",
      "        \"outcome\": \"Community resolution\",\n",
      "        \"outcome_linked_to_object_of_search\": null,\n",
      "        \"outcome_object\": {\n",
      "            \"id\": \"bu-community-resolution\",\n",
      "            \"name\": \"Community resolution\"\n",
      "        },\n",
      "        \"removal_of_more_than_outer_clothing\": null,\n",
      "        \"self_defined_ethnicity\": \"Black/African/Caribbean/Black British - Any other Black/African/Caribbean background\",\n",
      "        \"type\": \"Person search\"\n",
      "    },\n",
      "    {\n",
      "        \"age_range\": \"18-24\",\n",
      "        \"datetime\": \"2018-06-02T02:37:00+00:00\",\n",
      "        \"gender\": \"Male\",\n",
      "        \"involved_person\": true,\n",
      "        \"legislation\": \"Misuse of Drugs Act 1971 (section 23)\",\n",
      "        \"location\": {\n",
      "            \"latitude\": \"51.549626\",\n",
      "            \"longitude\": \"-0.054738\",\n",
      "            \"street\": {\n",
      "                \"id\": 968830,\n",
      "                \"name\": \"On or near Dalston Lane\"\n",
      "            }\n",
      "        },\n",
      "        \"object_of_search\": \"Controlled drugs\",\n",
      "        \"officer_defined_ethnicity\": \"Black\",\n",
      "        \"operation\": false,\n",
      "        \"operat\n"
     ]
    }
   ],
   "source": [
    "print(datas[:1600])"
   ]
  },
  {
   "cell_type": "markdown",
   "metadata": {},
   "source": [
    "Cyklus, kterým přistupujeme k věkovému rozpětí lidí lustrovaných policií"
   ]
  },
  {
   "cell_type": "code",
   "execution_count": 41,
   "metadata": {},
   "outputs": [],
   "source": [
    "age_range = [i[\"age_range\"] for i in data]"
   ]
  },
  {
   "cell_type": "code",
   "execution_count": 42,
   "metadata": {},
   "outputs": [
    {
     "name": "stdout",
     "output_type": "stream",
     "text": [
      "['18-24', '18-24', 'over 34', '18-24', '10-17', '10-17', 'over 34', '25-34', 'over 34', '25-34', None, '25-34', '18-24', '10-17', None, '18-24', None, '18-24', '10-17', 'over 34', '18-24', '18-24', '18-24', '18-24', '18-24', '18-24', '18-24', '18-24', '18-24', '25-34', '18-24', '18-24', '18-24', 'over 34', '10-17', '10-17', '25-34', '18-24', '18-24', '25-34', '25-34', '25-34', 'over 34', 'over 34', '18-24', '18-24', '18-24', '18-24', '18-24', '25-34', '25-34', 'over 34', '25-34', 'over 34', '18-24', '25-34', '25-34', 'over 34', '18-24', None, '18-24', '18-24', None, '18-24', '18-24', '25-34', '10-17', '25-34', '18-24', '25-34', '18-24', None, '18-24', '25-34', '25-34', '25-34', '18-24', '25-34', '25-34', '18-24', '18-24', '10-17', 'over 34', 'over 34', '18-24', '18-24', '25-34', '10-17', '18-24', 'over 34', '10-17', '25-34', 'over 34', '18-24', '25-34', 'over 34', '25-34', '18-24', '18-24', '18-24', '18-24', '10-17', '10-17', '18-24', '25-34', '18-24', '25-34', '18-24', '18-24', '10-17', '25-34', '18-24', 'over 34', '10-17', '18-24', 'over 34', '18-24', '10-17', '10-17', 'over 34', '25-34', '10-17', '10-17', '25-34', '10-17', '10-17', '10-17', '10-17', '18-24', '10-17', '10-17', None, 'over 34', '10-17', '10-17', '25-34', '10-17', '18-24', '10-17', None, '10-17', '10-17', '25-34', '18-24', '18-24', '25-34', '10-17', '10-17', '25-34', '10-17', None, '25-34', '25-34', '18-24', '10-17', '25-34', '18-24', '10-17', '10-17', '25-34', None, '18-24', '25-34', '25-34', '10-17', '10-17', '18-24', 'over 34', '18-24', '18-24', '10-17', '10-17', '25-34', 'over 34', 'over 34', '18-24', '18-24', '25-34', '10-17']\n"
     ]
    }
   ],
   "source": [
    "print(age_range)"
   ]
  },
  {
   "cell_type": "markdown",
   "metadata": {},
   "source": [
    "Cyklus, kterým přistupujeme k id ulice, kde došlo lustraci podezřelé(ho)"
   ]
  },
  {
   "cell_type": "code",
   "execution_count": 43,
   "metadata": {},
   "outputs": [],
   "source": [
    "street_id = [i[\"location\"][\"street\"][\"id\"] for i in data]"
   ]
  },
  {
   "cell_type": "code",
   "execution_count": 44,
   "metadata": {},
   "outputs": [
    {
     "name": "stdout",
     "output_type": "stream",
     "text": [
      "[968551, 968830, 968830, 968740, 964026, 964026, 968844, 968662, 968662, 968662, 971832, 971832, 968828, 968828, 968805, 968828, 968805, 968805, 968805, 968584, 964086, 968632, 968632, 964132, 968632, 968632, 968584, 968584, 968872, 971832, 968717, 968866, 971656, 964226, 968662, 968662, 968703, 968668, 968668, 968703, 964013, 968505, 968830, 968500, 968662, 968830, 968830, 968662, 968662, 968705, 964150, 968663, 968663, 968830, 968467, 968662, 968663, 968830, 964370, 964370, 968500, 964287, 964329, 971656, 971656, 968830, 968829, 968830, 968829, 968608, 968703, 968703, 968469, 968662, 968754, 968662, 968872, 968748, 968872, 968691, 968641, 968641, 964023, 964322, 968872, 968872, 968872, 968662, 964219, 964092, 964219, 968854, 968662, 968662, 968662, 968786, 968584, 968662, 964266, 964316, 964266, 968637, 968637, 968804, 968804, 968804, 971758, 968804, 968662, 964297, 968830, 968770, 968500, 968662, 968804, 968500, 964324, 964266, 964225, 968816, 968500, 964266, 968641, 968575, 968828, 968828, 968828, 968489, 968815, 968564, 964266, 968871, 968687, 964091, 968815, 971713, 971801, 968662, 964208, 968614, 968802, 968839, 964085, 968630, 968642, 964098, 964312, 964312, 968872, 964248, 971656, 968872, 968872, 968804, 968647, 968884, 968844, 968872, 968763, 968830, 968804, 968854, 968609, 968662, 968830, 968489, 968603, 971832, 968641, 968830, 968647, 968489, 968496, 968606, 968626, 968606, 968369, 968660, 968815]\n"
     ]
    }
   ],
   "source": [
    "print(street_id)"
   ]
  },
  {
   "cell_type": "code",
   "execution_count": 45,
   "metadata": {},
   "outputs": [],
   "source": [
    "import pandas as pd"
   ]
  },
  {
   "cell_type": "markdown",
   "metadata": {},
   "source": [
    "Spojíme seznamy do dataframe"
   ]
  },
  {
   "cell_type": "code",
   "execution_count": 46,
   "metadata": {},
   "outputs": [],
   "source": [
    "df_from_lists = pd.DataFrame(list(zip(age_range, street_id)), \n",
    "                columns = ['age_range', 'street_id'])"
   ]
  },
  {
   "cell_type": "code",
   "execution_count": 47,
   "metadata": {},
   "outputs": [
    {
     "data": {
      "text/html": [
       "<div>\n",
       "<style scoped>\n",
       "    .dataframe tbody tr th:only-of-type {\n",
       "        vertical-align: middle;\n",
       "    }\n",
       "\n",
       "    .dataframe tbody tr th {\n",
       "        vertical-align: top;\n",
       "    }\n",
       "\n",
       "    .dataframe thead th {\n",
       "        text-align: right;\n",
       "    }\n",
       "</style>\n",
       "<table border=\"1\" class=\"dataframe\">\n",
       "  <thead>\n",
       "    <tr style=\"text-align: right;\">\n",
       "      <th></th>\n",
       "      <th>age_range</th>\n",
       "      <th>street_id</th>\n",
       "    </tr>\n",
       "  </thead>\n",
       "  <tbody>\n",
       "    <tr>\n",
       "      <th>0</th>\n",
       "      <td>18-24</td>\n",
       "      <td>968551</td>\n",
       "    </tr>\n",
       "    <tr>\n",
       "      <th>1</th>\n",
       "      <td>18-24</td>\n",
       "      <td>968830</td>\n",
       "    </tr>\n",
       "    <tr>\n",
       "      <th>2</th>\n",
       "      <td>over 34</td>\n",
       "      <td>968830</td>\n",
       "    </tr>\n",
       "    <tr>\n",
       "      <th>3</th>\n",
       "      <td>18-24</td>\n",
       "      <td>968740</td>\n",
       "    </tr>\n",
       "    <tr>\n",
       "      <th>4</th>\n",
       "      <td>10-17</td>\n",
       "      <td>964026</td>\n",
       "    </tr>\n",
       "  </tbody>\n",
       "</table>\n",
       "</div>"
      ],
      "text/plain": [
       "  age_range  street_id\n",
       "0     18-24     968551\n",
       "1     18-24     968830\n",
       "2   over 34     968830\n",
       "3     18-24     968740\n",
       "4     10-17     964026"
      ]
     },
     "execution_count": 47,
     "metadata": {},
     "output_type": "execute_result"
    }
   ],
   "source": [
    "df_from_lists.head()"
   ]
  },
  {
   "cell_type": "markdown",
   "metadata": {},
   "source": [
    "Jakou věkovou skupinu lustrovala policie nejčastěji?"
   ]
  },
  {
   "cell_type": "code",
   "execution_count": 48,
   "metadata": {},
   "outputs": [],
   "source": [
    "%matplotlib inline"
   ]
  },
  {
   "cell_type": "code",
   "execution_count": 49,
   "metadata": {},
   "outputs": [
    {
     "data": {
      "image/png": "[encoded data removed]",
      "text/plain": [
       "<Figure size 432x288 with 1 Axes>"
      ]
     },
     "metadata": {
      "needs_background": "light"
     },
     "output_type": "display_data"
    }
   ],
   "source": [
    "df_from_lists[\"age_range\"].value_counts().plot.bar();"
   ]
  },
  {
   "cell_type": "markdown",
   "metadata": {},
   "source": [
    "### Json_normalize\n",
    "aneb jak jednoduše převést JSON na DataFrame"
   ]
  },
  {
   "cell_type": "code",
   "execution_count": null,
   "metadata": {
    "scrolled": true
   },
   "outputs": [],
   "source": [
    "data"
   ]
  },
  {
   "cell_type": "code",
   "execution_count": 51,
   "metadata": {},
   "outputs": [],
   "source": [
    "from pandas import json_normalize"
   ]
  },
  {
   "cell_type": "code",
   "execution_count": 52,
   "metadata": {
    "scrolled": false
   },
   "outputs": [],
   "source": [
    "norm_data = json_normalize(data)"
   ]
  },
  {
   "cell_type": "code",
   "execution_count": 53,
   "metadata": {},
   "outputs": [
    {
     "data": {
      "text/html": [
       "<div>\n",
       "<style scoped>\n",
       "    .dataframe tbody tr th:only-of-type {\n",
       "        vertical-align: middle;\n",
       "    }\n",
       "\n",
       "    .dataframe tbody tr th {\n",
       "        vertical-align: top;\n",
       "    }\n",
       "\n",
       "    .dataframe thead th {\n",
       "        text-align: right;\n",
       "    }\n",
       "</style>\n",
       "<table border=\"1\" class=\"dataframe\">\n",
       "  <thead>\n",
       "    <tr style=\"text-align: right;\">\n",
       "      <th></th>\n",
       "      <th>age_range</th>\n",
       "      <th>outcome</th>\n",
       "      <th>involved_person</th>\n",
       "      <th>self_defined_ethnicity</th>\n",
       "      <th>gender</th>\n",
       "      <th>legislation</th>\n",
       "      <th>outcome_linked_to_object_of_search</th>\n",
       "      <th>datetime</th>\n",
       "      <th>removal_of_more_than_outer_clothing</th>\n",
       "      <th>operation</th>\n",
       "      <th>officer_defined_ethnicity</th>\n",
       "      <th>type</th>\n",
       "      <th>operation_name</th>\n",
       "      <th>object_of_search</th>\n",
       "      <th>outcome_object.id</th>\n",
       "      <th>outcome_object.name</th>\n",
       "      <th>location.latitude</th>\n",
       "      <th>location.street.id</th>\n",
       "      <th>location.street.name</th>\n",
       "      <th>location.longitude</th>\n",
       "    </tr>\n",
       "  </thead>\n",
       "  <tbody>\n",
       "    <tr>\n",
       "      <th>0</th>\n",
       "      <td>18-24</td>\n",
       "      <td>Community resolution</td>\n",
       "      <td>True</td>\n",
       "      <td>Black/African/Caribbean/Black British - Any ot...</td>\n",
       "      <td>Male</td>\n",
       "      <td>Misuse of Drugs Act 1971 (section 23)</td>\n",
       "      <td>None</td>\n",
       "      <td>2018-06-01T09:45:00+00:00</td>\n",
       "      <td>None</td>\n",
       "      <td>False</td>\n",
       "      <td>Black</td>\n",
       "      <td>Person search</td>\n",
       "      <td>None</td>\n",
       "      <td>Controlled drugs</td>\n",
       "      <td>bu-community-resolution</td>\n",
       "      <td>Community resolution</td>\n",
       "      <td>51.551330</td>\n",
       "      <td>968551</td>\n",
       "      <td>On or near Downs Park Road</td>\n",
       "      <td>-0.068037</td>\n",
       "    </tr>\n",
       "    <tr>\n",
       "      <th>1</th>\n",
       "      <td>18-24</td>\n",
       "      <td>A no further action disposal</td>\n",
       "      <td>True</td>\n",
       "      <td>Black/African/Caribbean/Black British - Any ot...</td>\n",
       "      <td>Male</td>\n",
       "      <td>Misuse of Drugs Act 1971 (section 23)</td>\n",
       "      <td>None</td>\n",
       "      <td>2018-06-02T02:37:00+00:00</td>\n",
       "      <td>None</td>\n",
       "      <td>False</td>\n",
       "      <td>Black</td>\n",
       "      <td>Person search</td>\n",
       "      <td>None</td>\n",
       "      <td>Controlled drugs</td>\n",
       "      <td>bu-no-further-action</td>\n",
       "      <td>A no further action disposal</td>\n",
       "      <td>51.549626</td>\n",
       "      <td>968830</td>\n",
       "      <td>On or near Dalston Lane</td>\n",
       "      <td>-0.054738</td>\n",
       "    </tr>\n",
       "    <tr>\n",
       "      <th>2</th>\n",
       "      <td>over 34</td>\n",
       "      <td>Arrest</td>\n",
       "      <td>True</td>\n",
       "      <td>White - Any other White background</td>\n",
       "      <td>Male</td>\n",
       "      <td>Misuse of Drugs Act 1971 (section 23)</td>\n",
       "      <td>None</td>\n",
       "      <td>2018-06-02T09:45:00+00:00</td>\n",
       "      <td>None</td>\n",
       "      <td>False</td>\n",
       "      <td>White</td>\n",
       "      <td>Person search</td>\n",
       "      <td>None</td>\n",
       "      <td>Controlled drugs</td>\n",
       "      <td>bu-arrest</td>\n",
       "      <td>Arrest</td>\n",
       "      <td>51.549626</td>\n",
       "      <td>968830</td>\n",
       "      <td>On or near Dalston Lane</td>\n",
       "      <td>-0.054738</td>\n",
       "    </tr>\n",
       "    <tr>\n",
       "      <th>3</th>\n",
       "      <td>18-24</td>\n",
       "      <td>A no further action disposal</td>\n",
       "      <td>True</td>\n",
       "      <td>Black/African/Caribbean/Black British - African</td>\n",
       "      <td>Male</td>\n",
       "      <td>Misuse of Drugs Act 1971 (section 23)</td>\n",
       "      <td>None</td>\n",
       "      <td>2018-06-02T10:50:00+00:00</td>\n",
       "      <td>None</td>\n",
       "      <td>False</td>\n",
       "      <td>Black</td>\n",
       "      <td>Person and Vehicle search</td>\n",
       "      <td>None</td>\n",
       "      <td>Controlled drugs</td>\n",
       "      <td>bu-no-further-action</td>\n",
       "      <td>A no further action disposal</td>\n",
       "      <td>51.550209</td>\n",
       "      <td>968740</td>\n",
       "      <td>On or near Rowe Lane</td>\n",
       "      <td>-0.051944</td>\n",
       "    </tr>\n",
       "    <tr>\n",
       "      <th>4</th>\n",
       "      <td>10-17</td>\n",
       "      <td>A no further action disposal</td>\n",
       "      <td>True</td>\n",
       "      <td>Black/African/Caribbean/Black British - Caribbean</td>\n",
       "      <td>Female</td>\n",
       "      <td>Police and Criminal Evidence Act 1984 (section 1)</td>\n",
       "      <td>None</td>\n",
       "      <td>2018-06-02T19:30:00+00:00</td>\n",
       "      <td>None</td>\n",
       "      <td>False</td>\n",
       "      <td>Black</td>\n",
       "      <td>Person search</td>\n",
       "      <td>None</td>\n",
       "      <td>Offensive weapons</td>\n",
       "      <td>bu-no-further-action</td>\n",
       "      <td>A no further action disposal</td>\n",
       "      <td>51.542304</td>\n",
       "      <td>964026</td>\n",
       "      <td>On or near St Thomas'S Square</td>\n",
       "      <td>-0.054589</td>\n",
       "    </tr>\n",
       "  </tbody>\n",
       "</table>\n",
       "</div>"
      ],
      "text/plain": [
       "  age_range                       outcome  involved_person  \\\n",
       "0     18-24          Community resolution             True   \n",
       "1     18-24  A no further action disposal             True   \n",
       "2   over 34                        Arrest             True   \n",
       "3     18-24  A no further action disposal             True   \n",
       "4     10-17  A no further action disposal             True   \n",
       "\n",
       "                              self_defined_ethnicity  gender  \\\n",
       "0  Black/African/Caribbean/Black British - Any ot...    Male   \n",
       "1  Black/African/Caribbean/Black British - Any ot...    Male   \n",
       "2                 White - Any other White background    Male   \n",
       "3    Black/African/Caribbean/Black British - African    Male   \n",
       "4  Black/African/Caribbean/Black British - Caribbean  Female   \n",
       "\n",
       "                                         legislation  \\\n",
       "0              Misuse of Drugs Act 1971 (section 23)   \n",
       "1              Misuse of Drugs Act 1971 (section 23)   \n",
       "2              Misuse of Drugs Act 1971 (section 23)   \n",
       "3              Misuse of Drugs Act 1971 (section 23)   \n",
       "4  Police and Criminal Evidence Act 1984 (section 1)   \n",
       "\n",
       "  outcome_linked_to_object_of_search                   datetime  \\\n",
       "0                               None  2018-06-01T09:45:00+00:00   \n",
       "1                               None  2018-06-02T02:37:00+00:00   \n",
       "2                               None  2018-06-02T09:45:00+00:00   \n",
       "3                               None  2018-06-02T10:50:00+00:00   \n",
       "4                               None  2018-06-02T19:30:00+00:00   \n",
       "\n",
       "  removal_of_more_than_outer_clothing  operation officer_defined_ethnicity  \\\n",
       "0                                None      False                     Black   \n",
       "1                                None      False                     Black   \n",
       "2                                None      False                     White   \n",
       "3                                None      False                     Black   \n",
       "4                                None      False                     Black   \n",
       "\n",
       "                        type operation_name   object_of_search  \\\n",
       "0              Person search           None   Controlled drugs   \n",
       "1              Person search           None   Controlled drugs   \n",
       "2              Person search           None   Controlled drugs   \n",
       "3  Person and Vehicle search           None   Controlled drugs   \n",
       "4              Person search           None  Offensive weapons   \n",
       "\n",
       "         outcome_object.id           outcome_object.name location.latitude  \\\n",
       "0  bu-community-resolution          Community resolution         51.551330   \n",
       "1     bu-no-further-action  A no further action disposal         51.549626   \n",
       "2                bu-arrest                        Arrest         51.549626   \n",
       "3     bu-no-further-action  A no further action disposal         51.550209   \n",
       "4     bu-no-further-action  A no further action disposal         51.542304   \n",
       "\n",
       "   location.street.id           location.street.name location.longitude  \n",
       "0              968551     On or near Downs Park Road          -0.068037  \n",
       "1              968830        On or near Dalston Lane          -0.054738  \n",
       "2              968830        On or near Dalston Lane          -0.054738  \n",
       "3              968740           On or near Rowe Lane          -0.051944  \n",
       "4              964026  On or near St Thomas'S Square          -0.054589  "
      ]
     },
     "execution_count": 53,
     "metadata": {},
     "output_type": "execute_result"
    }
   ],
   "source": [
    "norm_data.head()"
   ]
  },
  {
   "cell_type": "code",
   "execution_count": 54,
   "metadata": {},
   "outputs": [
    {
     "data": {
      "text/plain": [
       "Male      170\n",
       "Female      9\n",
       "Name: gender, dtype: int64"
      ]
     },
     "execution_count": 54,
     "metadata": {},
     "output_type": "execute_result"
    }
   ],
   "source": [
    "norm_data[\"gender\"].value_counts()"
   ]
  },
  {
   "cell_type": "code",
   "execution_count": 55,
   "metadata": {},
   "outputs": [
    {
     "data": {
      "image/png": "[encoded data removed]",
      "text/plain": [
       "<Figure size 432x288 with 1 Axes>"
      ]
     },
     "metadata": {
      "needs_background": "light"
     },
     "output_type": "display_data"
    }
   ],
   "source": [
    "norm_data[\"gender\"].value_counts().plot.bar();"
   ]
  },
  {
   "cell_type": "code",
   "execution_count": 56,
   "metadata": {
    "scrolled": true
   },
   "outputs": [
    {
     "data": {
      "image/png": "[encoded data removed]",
      "text/plain": [
       "<Figure size 432x288 with 1 Axes>"
      ]
     },
     "metadata": {
      "needs_background": "light"
     },
     "output_type": "display_data"
    }
   ],
   "source": [
    "norm_data[\"age_range\"].value_counts().plot.bar();"
   ]
  },
  {
   "cell_type": "markdown",
   "metadata": {},
   "source": [
    "## Tvoříme klienta pro práci s veřejným API"
   ]
  },
  {
   "cell_type": "markdown",
   "metadata": {},
   "source": [
    "V následujícím bloku si vytvoříme klienta, který nám stáhne data za dva měsíce (místo jednoho) a uloží je do seznamu seznamů (list of lists). Případné chyby spojení s API ošetříme výjimkami (exceptions) - více viz [dokumentace requests](https://requests.readthedocs.io/en/master/_modules/requests/exceptions/)"
   ]
  },
  {
   "cell_type": "code",
   "execution_count": 57,
   "metadata": {},
   "outputs": [],
   "source": [
    "def get_uk_crime_data(latitude, longitude, dates_list):\n",
    "    \"\"\"\n",
    "    Function loops through a list of dates \n",
    "    \n",
    "    Three arguments latitude, longitude and a list of dates\n",
    "    \n",
    "    Returns a dataframe with crime data for each day\n",
    "    \"\"\"\n",
    "    appended_data = []\n",
    "    \n",
    "    for i in dates_list:\n",
    "        api_url = \"https://data.police.uk/api/stops-street\"\n",
    "        params = {\n",
    "            \"lat\" : latitude,\n",
    "            \"lng\" : longitude,\n",
    "            \"date\" : i\n",
    "        }\n",
    "        response = requests.get(api_url, params=params)\n",
    "        data_foo = response.json()\n",
    "            \n",
    "        data = pd.json_normalize(data_foo)\n",
    "        # store DataFrame in list\n",
    "        appended_data.append(data)\n",
    "       \n",
    "    return pd.concat(appended_data)"
   ]
  },
  {
   "cell_type": "markdown",
   "metadata": {},
   "source": [
    "Zavolání funkce get_uk_crime_data s parametry zeměpisné šíře a délky přiřazené proměnné df_uk_crime_data"
   ]
  },
  {
   "cell_type": "code",
   "execution_count": 58,
   "metadata": {},
   "outputs": [],
   "source": [
    "dates_list = [\"2018-06\",\"2018-07\"]\n",
    "lat = \"51.5487158\"\n",
    "lng = \"-0.0613842\"\n",
    "\n",
    "df_uk_crime_data = get_uk_crime_data(lat, lng, dates_list)"
   ]
  },
  {
   "cell_type": "code",
   "execution_count": 59,
   "metadata": {},
   "outputs": [
    {
     "data": {
      "text/html": [
       "<div>\n",
       "<style scoped>\n",
       "    .dataframe tbody tr th:only-of-type {\n",
       "        vertical-align: middle;\n",
       "    }\n",
       "\n",
       "    .dataframe tbody tr th {\n",
       "        vertical-align: top;\n",
       "    }\n",
       "\n",
       "    .dataframe thead th {\n",
       "        text-align: right;\n",
       "    }\n",
       "</style>\n",
       "<table border=\"1\" class=\"dataframe\">\n",
       "  <thead>\n",
       "    <tr style=\"text-align: right;\">\n",
       "      <th></th>\n",
       "      <th>age_range</th>\n",
       "      <th>outcome</th>\n",
       "      <th>involved_person</th>\n",
       "      <th>self_defined_ethnicity</th>\n",
       "      <th>gender</th>\n",
       "      <th>legislation</th>\n",
       "      <th>outcome_linked_to_object_of_search</th>\n",
       "      <th>datetime</th>\n",
       "      <th>removal_of_more_than_outer_clothing</th>\n",
       "      <th>operation</th>\n",
       "      <th>officer_defined_ethnicity</th>\n",
       "      <th>type</th>\n",
       "      <th>operation_name</th>\n",
       "      <th>object_of_search</th>\n",
       "      <th>outcome_object.id</th>\n",
       "      <th>outcome_object.name</th>\n",
       "      <th>location.latitude</th>\n",
       "      <th>location.street.id</th>\n",
       "      <th>location.street.name</th>\n",
       "      <th>location.longitude</th>\n",
       "    </tr>\n",
       "  </thead>\n",
       "  <tbody>\n",
       "    <tr>\n",
       "      <th>0</th>\n",
       "      <td>18-24</td>\n",
       "      <td>Community resolution</td>\n",
       "      <td>True</td>\n",
       "      <td>Black/African/Caribbean/Black British - Any ot...</td>\n",
       "      <td>Male</td>\n",
       "      <td>Misuse of Drugs Act 1971 (section 23)</td>\n",
       "      <td>None</td>\n",
       "      <td>2018-06-01T09:45:00+00:00</td>\n",
       "      <td>None</td>\n",
       "      <td>False</td>\n",
       "      <td>Black</td>\n",
       "      <td>Person search</td>\n",
       "      <td>None</td>\n",
       "      <td>Controlled drugs</td>\n",
       "      <td>bu-community-resolution</td>\n",
       "      <td>Community resolution</td>\n",
       "      <td>51.551330</td>\n",
       "      <td>968551</td>\n",
       "      <td>On or near Downs Park Road</td>\n",
       "      <td>-0.068037</td>\n",
       "    </tr>\n",
       "    <tr>\n",
       "      <th>1</th>\n",
       "      <td>18-24</td>\n",
       "      <td>A no further action disposal</td>\n",
       "      <td>True</td>\n",
       "      <td>Black/African/Caribbean/Black British - Any ot...</td>\n",
       "      <td>Male</td>\n",
       "      <td>Misuse of Drugs Act 1971 (section 23)</td>\n",
       "      <td>None</td>\n",
       "      <td>2018-06-02T02:37:00+00:00</td>\n",
       "      <td>None</td>\n",
       "      <td>False</td>\n",
       "      <td>Black</td>\n",
       "      <td>Person search</td>\n",
       "      <td>None</td>\n",
       "      <td>Controlled drugs</td>\n",
       "      <td>bu-no-further-action</td>\n",
       "      <td>A no further action disposal</td>\n",
       "      <td>51.549626</td>\n",
       "      <td>968830</td>\n",
       "      <td>On or near Dalston Lane</td>\n",
       "      <td>-0.054738</td>\n",
       "    </tr>\n",
       "    <tr>\n",
       "      <th>2</th>\n",
       "      <td>over 34</td>\n",
       "      <td>Arrest</td>\n",
       "      <td>True</td>\n",
       "      <td>White - Any other White background</td>\n",
       "      <td>Male</td>\n",
       "      <td>Misuse of Drugs Act 1971 (section 23)</td>\n",
       "      <td>None</td>\n",
       "      <td>2018-06-02T09:45:00+00:00</td>\n",
       "      <td>None</td>\n",
       "      <td>False</td>\n",
       "      <td>White</td>\n",
       "      <td>Person search</td>\n",
       "      <td>None</td>\n",
       "      <td>Controlled drugs</td>\n",
       "      <td>bu-arrest</td>\n",
       "      <td>Arrest</td>\n",
       "      <td>51.549626</td>\n",
       "      <td>968830</td>\n",
       "      <td>On or near Dalston Lane</td>\n",
       "      <td>-0.054738</td>\n",
       "    </tr>\n",
       "    <tr>\n",
       "      <th>3</th>\n",
       "      <td>18-24</td>\n",
       "      <td>A no further action disposal</td>\n",
       "      <td>True</td>\n",
       "      <td>Black/African/Caribbean/Black British - African</td>\n",
       "      <td>Male</td>\n",
       "      <td>Misuse of Drugs Act 1971 (section 23)</td>\n",
       "      <td>None</td>\n",
       "      <td>2018-06-02T10:50:00+00:00</td>\n",
       "      <td>None</td>\n",
       "      <td>False</td>\n",
       "      <td>Black</td>\n",
       "      <td>Person and Vehicle search</td>\n",
       "      <td>None</td>\n",
       "      <td>Controlled drugs</td>\n",
       "      <td>bu-no-further-action</td>\n",
       "      <td>A no further action disposal</td>\n",
       "      <td>51.550209</td>\n",
       "      <td>968740</td>\n",
       "      <td>On or near Rowe Lane</td>\n",
       "      <td>-0.051944</td>\n",
       "    </tr>\n",
       "    <tr>\n",
       "      <th>4</th>\n",
       "      <td>10-17</td>\n",
       "      <td>A no further action disposal</td>\n",
       "      <td>True</td>\n",
       "      <td>Black/African/Caribbean/Black British - Caribbean</td>\n",
       "      <td>Female</td>\n",
       "      <td>Police and Criminal Evidence Act 1984 (section 1)</td>\n",
       "      <td>None</td>\n",
       "      <td>2018-06-02T19:30:00+00:00</td>\n",
       "      <td>None</td>\n",
       "      <td>False</td>\n",
       "      <td>Black</td>\n",
       "      <td>Person search</td>\n",
       "      <td>None</td>\n",
       "      <td>Offensive weapons</td>\n",
       "      <td>bu-no-further-action</td>\n",
       "      <td>A no further action disposal</td>\n",
       "      <td>51.542304</td>\n",
       "      <td>964026</td>\n",
       "      <td>On or near St Thomas'S Square</td>\n",
       "      <td>-0.054589</td>\n",
       "    </tr>\n",
       "  </tbody>\n",
       "</table>\n",
       "</div>"
      ],
      "text/plain": [
       "  age_range                       outcome  involved_person  \\\n",
       "0     18-24          Community resolution             True   \n",
       "1     18-24  A no further action disposal             True   \n",
       "2   over 34                        Arrest             True   \n",
       "3     18-24  A no further action disposal             True   \n",
       "4     10-17  A no further action disposal             True   \n",
       "\n",
       "                              self_defined_ethnicity  gender  \\\n",
       "0  Black/African/Caribbean/Black British - Any ot...    Male   \n",
       "1  Black/African/Caribbean/Black British - Any ot...    Male   \n",
       "2                 White - Any other White background    Male   \n",
       "3    Black/African/Caribbean/Black British - African    Male   \n",
       "4  Black/African/Caribbean/Black British - Caribbean  Female   \n",
       "\n",
       "                                         legislation  \\\n",
       "0              Misuse of Drugs Act 1971 (section 23)   \n",
       "1              Misuse of Drugs Act 1971 (section 23)   \n",
       "2              Misuse of Drugs Act 1971 (section 23)   \n",
       "3              Misuse of Drugs Act 1971 (section 23)   \n",
       "4  Police and Criminal Evidence Act 1984 (section 1)   \n",
       "\n",
       "  outcome_linked_to_object_of_search                   datetime  \\\n",
       "0                               None  2018-06-01T09:45:00+00:00   \n",
       "1                               None  2018-06-02T02:37:00+00:00   \n",
       "2                               None  2018-06-02T09:45:00+00:00   \n",
       "3                               None  2018-06-02T10:50:00+00:00   \n",
       "4                               None  2018-06-02T19:30:00+00:00   \n",
       "\n",
       "  removal_of_more_than_outer_clothing  operation officer_defined_ethnicity  \\\n",
       "0                                None      False                     Black   \n",
       "1                                None      False                     Black   \n",
       "2                                None      False                     White   \n",
       "3                                None      False                     Black   \n",
       "4                                None      False                     Black   \n",
       "\n",
       "                        type operation_name   object_of_search  \\\n",
       "0              Person search           None   Controlled drugs   \n",
       "1              Person search           None   Controlled drugs   \n",
       "2              Person search           None   Controlled drugs   \n",
       "3  Person and Vehicle search           None   Controlled drugs   \n",
       "4              Person search           None  Offensive weapons   \n",
       "\n",
       "         outcome_object.id           outcome_object.name location.latitude  \\\n",
       "0  bu-community-resolution          Community resolution         51.551330   \n",
       "1     bu-no-further-action  A no further action disposal         51.549626   \n",
       "2                bu-arrest                        Arrest         51.549626   \n",
       "3     bu-no-further-action  A no further action disposal         51.550209   \n",
       "4     bu-no-further-action  A no further action disposal         51.542304   \n",
       "\n",
       "   location.street.id           location.street.name location.longitude  \n",
       "0              968551     On or near Downs Park Road          -0.068037  \n",
       "1              968830        On or near Dalston Lane          -0.054738  \n",
       "2              968830        On or near Dalston Lane          -0.054738  \n",
       "3              968740           On or near Rowe Lane          -0.051944  \n",
       "4              964026  On or near St Thomas'S Square          -0.054589  "
      ]
     },
     "execution_count": 59,
     "metadata": {},
     "output_type": "execute_result"
    }
   ],
   "source": [
    "df_uk_crime_data.head()"
   ]
  },
  {
   "cell_type": "markdown",
   "metadata": {},
   "source": [
    "## Přistupování k tweetům přes Twitter API pomocí knihovny Tweepy"
   ]
  },
  {
   "cell_type": "markdown",
   "metadata": {},
   "source": [
    "Příkaz na instalaci knihovny tweepy uvnitř notebooku. Stačí odkomentovat a spustit."
   ]
  },
  {
   "cell_type": "code",
   "execution_count": null,
   "metadata": {
    "scrolled": true
   },
   "outputs": [],
   "source": [
    "%pip install tweepy"
   ]
  },
  {
   "cell_type": "code",
   "execution_count": 61,
   "metadata": {},
   "outputs": [],
   "source": [
    "import tweepy"
   ]
  },
  {
   "cell_type": "markdown",
   "metadata": {},
   "source": [
    "Pro získání dat z Twitteru musí náš klient projít OAuth autorizací.\n",
    "\n",
    "**Jak funguje OAuth autorizace na Twitteru?**\n",
    "\n",
    "1. vývojář aplikace se zaregistruje u poskytovatele API\n",
    "2. zaregistruje aplikaci, získá consumer_key, consumer_secret, access_token a access_secret na https://developer.twitter.com/en/apps\n",
    "3. aplikace volá API a prokazuje se consumer_key, consumer_secret, access_token a access_secret"
   ]
  },
  {
   "cell_type": "code",
   "execution_count": 62,
   "metadata": {},
   "outputs": [],
   "source": [
    "consumer_key = \"\"\n",
    "consumer_secret = \"\"\n",
    "access_token = \"\"\n",
    "access_secret = \"\""
   ]
  },
  {
   "cell_type": "markdown",
   "metadata": {},
   "source": [
    "Další krok je vytvoření instance OAuthHandleru, do kterého vložíme náš consumer token a consumer secret"
   ]
  },
  {
   "cell_type": "code",
   "execution_count": 63,
   "metadata": {},
   "outputs": [],
   "source": [
    "auth = tweepy.OAuthHandler(consumer_key, consumer_secret)\n",
    "auth.set_access_token(access_token, access_secret)"
   ]
  },
  {
   "cell_type": "markdown",
   "metadata": {},
   "source": [
    "Ověření funkčnosti autentifikace"
   ]
  },
  {
   "cell_type": "code",
   "execution_count": 64,
   "metadata": {},
   "outputs": [
    {
     "name": "stdout",
     "output_type": "stream",
     "text": [
      "Authentication OK\n"
     ]
    }
   ],
   "source": [
    "api = tweepy.API(auth)\n",
    "\n",
    "try:\n",
    "    api.verify_credentials()\n",
    "    print(\"Authentication OK\")\n",
    "except Exception:\n",
    "    print(\"Error during authentication\")"
   ]
  },
  {
   "cell_type": "markdown",
   "metadata": {},
   "source": [
    "V API dokumentaci k Tweepy http://docs.tweepy.org/en/v3.5.0/api.html najdeme metodu která např. vypíše ID přátel, resp. sledujících účtu"
   ]
  },
  {
   "cell_type": "code",
   "execution_count": null,
   "metadata": {},
   "outputs": [],
   "source": [
    "api.friends_ids('@kdnuggets')"
   ]
  },
  {
   "cell_type": "markdown",
   "metadata": {},
   "source": [
    "Nebo vypíše ID, které účet sleduje"
   ]
  },
  {
   "cell_type": "code",
   "execution_count": null,
   "metadata": {},
   "outputs": [],
   "source": [
    "api.followers_ids('@kdnuggets')"
   ]
  },
  {
   "cell_type": "markdown",
   "metadata": {},
   "source": [
    "Metoda, která vrátí posledních 20 tweetů podle ID uživatele"
   ]
  },
  {
   "cell_type": "code",
   "execution_count": 66,
   "metadata": {},
   "outputs": [],
   "source": [
    "twitter_user = api.user_timeline('@kdnuggets')"
   ]
  },
  {
   "cell_type": "code",
   "execution_count": null,
   "metadata": {},
   "outputs": [],
   "source": [
    "twitter_user"
   ]
  },
  {
   "cell_type": "code",
   "execution_count": 68,
   "metadata": {},
   "outputs": [
    {
     "data": {
      "text/plain": [
       "['7 Resources to Becoming a Data Engineer #KDN https://t.co/ruOYOQnsEw',\n",
       " 'An End-to-End Project on Time Series Analysis and Forecasting with #Python #KDN https://t.co/rop3nkVRYl',\n",
       " 'RT @MIT_CSAIL: 9 key computer science topics - and the best book and video for learning each of them: https://t.co/i6qNiE8qhr (credit \\n@Bra…',\n",
       " 'Artificial Intelligence #AI in Modern Learning System : E-Learning @GreatLearning https://t.co/gY0dP2rAKV https://t.co/gW7dvb4Rb1',\n",
       " 'Im a #DataScientist, Not Just The Tiny Hands that Crunch your Data #KDN https://t.co/gcGrXqJLKB',\n",
       " 'Main 2020 Developments, Key 2021 Trends in #AI #DataScience #MachineLearning DL Technology from experts… https://t.co/ZKe4A0mu6O',\n",
       " 'The latest The KDnuggets Observer! https://t.co/FiplMXXxGq #kdn #machinelearning',\n",
       " '10 More #Free Must-Read #Books for #MachineLearning and #DataScience #KDN https://t.co/P9h6X6TGM0',\n",
       " 'New tools to help bring more transparency to AI. https://t.co/dSIHaQO0sM https://t.co/ATZXGCPw45',\n",
       " '#DataCleaning and Preprocessing for Beginners #KDN https://t.co/76tPinJ3Oc',\n",
       " 'Understanding Transformers, the #DataScience Way #KDN https://t.co/6iqHzr5XhU',\n",
       " 'Yours free: An Intro to Analytical Thinking https://t.co/c0XeS0AhOj https://t.co/dHW2dGUFoy',\n",
       " 'New book \"Deep Learning Design Patterns\" presents #deeplearning models in a unique-but-familiar way: as extendable… https://t.co/RmnJ2JsTFR',\n",
       " 'Five Interesting Data Engineering Projects #KDN https://t.co/LoopGueCaz',\n",
       " 'KDN 20:n46: Why the Future of #ETL Is Not ELT, But EL(T); Introduction to #DataEngineering - KDnuggets… https://t.co/Kj2jEzPvOD',\n",
       " 'R or Python? Why Not Both? - KDnuggets https://t.co/sQCFIjmGv7 https://t.co/i98ZjgYxx3',\n",
       " 'The What, Where and How of Data for #DataScience #KDN https://t.co/boacHvfev8',\n",
       " 'A Complete Guide To Survival Analysis In #Python, part 1 #KDN https://t.co/4CLHDH1YDK',\n",
       " 'What are the most important #statistical ideas of the past 50 years? A deep review by #statistics experts https://t.co/PH8tuwqsW6',\n",
       " 'Annotated Heatmaps of a Correlation Matrix in 5 Simple Steps #KDN https://t.co/JBedRmtnuY']"
      ]
     },
     "execution_count": 68,
     "metadata": {},
     "output_type": "execute_result"
    }
   ],
   "source": [
    "kdnuggets_tweets = [i.text for i in twitter_user]\n",
    "kdnuggets_tweets"
   ]
  },
  {
   "cell_type": "code",
   "execution_count": null,
   "metadata": {},
   "outputs": [],
   "source": [
    "dir(twitter_user[0])"
   ]
  },
  {
   "cell_type": "code",
   "execution_count": 69,
   "metadata": {},
   "outputs": [
    {
     "data": {
      "text/plain": [
       "3"
      ]
     },
     "execution_count": 69,
     "metadata": {},
     "output_type": "execute_result"
    }
   ],
   "source": [
    "twitter_user[0].retweet_count"
   ]
  },
  {
   "cell_type": "code",
   "execution_count": 70,
   "metadata": {},
   "outputs": [],
   "source": [
    "def get_tweets(consumer_key, consumer_secret, access_token, access_secret, twitter_account):\n",
    "    \"\"\"\n",
    "    Function gets the last 20 tweets and adds those not in the list\n",
    "    \n",
    "    Five arguments consumer_key, consumer_secret, access_token, access_secret, and twitter_account name\n",
    "    \n",
    "    Returns a dataframe with tweets for given account\n",
    "    \"\"\"\n",
    "    \n",
    "    auth = tweepy.OAuthHandler(consumer_key, consumer_secret)\n",
    "    auth.set_access_token(access_token, access_secret)\n",
    "    api = tweepy.API(auth)\n",
    "\n",
    "    try:\n",
    "        api.verify_credentials()\n",
    "        print(\"Authentication OK\")\n",
    "        twitter_user = api.user_timeline(twitter_account)\n",
    "        \n",
    "        tweets_list = [i.text for i in twitter_user]\n",
    "                      \n",
    "    except Exception:\n",
    "        print(\"Error during authentication\")\n",
    "    \n",
    "    return pd.DataFrame(tweets_list, columns = [twitter_account])"
   ]
  },
  {
   "cell_type": "code",
   "execution_count": 71,
   "metadata": {},
   "outputs": [],
   "source": [
    "import pandas as pd"
   ]
  },
  {
   "cell_type": "code",
   "execution_count": 72,
   "metadata": {},
   "outputs": [
    {
     "name": "stdout",
     "output_type": "stream",
     "text": [
      "Authentication OK\n"
     ]
    },
    {
     "data": {
      "text/html": [
       "<div>\n",
       "<style scoped>\n",
       "    .dataframe tbody tr th:only-of-type {\n",
       "        vertical-align: middle;\n",
       "    }\n",
       "\n",
       "    .dataframe tbody tr th {\n",
       "        vertical-align: top;\n",
       "    }\n",
       "\n",
       "    .dataframe thead th {\n",
       "        text-align: right;\n",
       "    }\n",
       "</style>\n",
       "<table border=\"1\" class=\"dataframe\">\n",
       "  <thead>\n",
       "    <tr style=\"text-align: right;\">\n",
       "      <th></th>\n",
       "      <th>@kdnuggets</th>\n",
       "    </tr>\n",
       "  </thead>\n",
       "  <tbody>\n",
       "    <tr>\n",
       "      <th>0</th>\n",
       "      <td>7 Resources to Becoming a Data Engineer #KDN h...</td>\n",
       "    </tr>\n",
       "    <tr>\n",
       "      <th>1</th>\n",
       "      <td>An End-to-End Project on Time Series Analysis ...</td>\n",
       "    </tr>\n",
       "    <tr>\n",
       "      <th>2</th>\n",
       "      <td>RT @MIT_CSAIL: 9 key computer science topics -...</td>\n",
       "    </tr>\n",
       "    <tr>\n",
       "      <th>3</th>\n",
       "      <td>Artificial Intelligence #AI in Modern Learning...</td>\n",
       "    </tr>\n",
       "    <tr>\n",
       "      <th>4</th>\n",
       "      <td>Im a #DataScientist, Not Just The Tiny Hands t...</td>\n",
       "    </tr>\n",
       "    <tr>\n",
       "      <th>5</th>\n",
       "      <td>Main 2020 Developments, Key 2021 Trends in #AI...</td>\n",
       "    </tr>\n",
       "    <tr>\n",
       "      <th>6</th>\n",
       "      <td>The latest The KDnuggets Observer! https://t.c...</td>\n",
       "    </tr>\n",
       "    <tr>\n",
       "      <th>7</th>\n",
       "      <td>10 More #Free Must-Read #Books for #MachineLea...</td>\n",
       "    </tr>\n",
       "    <tr>\n",
       "      <th>8</th>\n",
       "      <td>New tools to help bring more transparency to A...</td>\n",
       "    </tr>\n",
       "    <tr>\n",
       "      <th>9</th>\n",
       "      <td>#DataCleaning and Preprocessing for Beginners ...</td>\n",
       "    </tr>\n",
       "    <tr>\n",
       "      <th>10</th>\n",
       "      <td>Understanding Transformers, the #DataScience W...</td>\n",
       "    </tr>\n",
       "    <tr>\n",
       "      <th>11</th>\n",
       "      <td>Yours free: An Intro to Analytical Thinking ht...</td>\n",
       "    </tr>\n",
       "    <tr>\n",
       "      <th>12</th>\n",
       "      <td>New book \"Deep Learning Design Patterns\" prese...</td>\n",
       "    </tr>\n",
       "    <tr>\n",
       "      <th>13</th>\n",
       "      <td>Five Interesting Data Engineering Projects #KD...</td>\n",
       "    </tr>\n",
       "    <tr>\n",
       "      <th>14</th>\n",
       "      <td>KDN 20:n46: Why the Future of #ETL Is Not ELT,...</td>\n",
       "    </tr>\n",
       "    <tr>\n",
       "      <th>15</th>\n",
       "      <td>R or Python? Why Not Both? - KDnuggets https:/...</td>\n",
       "    </tr>\n",
       "    <tr>\n",
       "      <th>16</th>\n",
       "      <td>The What, Where and How of Data for #DataScien...</td>\n",
       "    </tr>\n",
       "    <tr>\n",
       "      <th>17</th>\n",
       "      <td>A Complete Guide To Survival Analysis In #Pyth...</td>\n",
       "    </tr>\n",
       "    <tr>\n",
       "      <th>18</th>\n",
       "      <td>What are the most important #statistical ideas...</td>\n",
       "    </tr>\n",
       "    <tr>\n",
       "      <th>19</th>\n",
       "      <td>Annotated Heatmaps of a Correlation Matrix in ...</td>\n",
       "    </tr>\n",
       "  </tbody>\n",
       "</table>\n",
       "</div>"
      ],
      "text/plain": [
       "                                           @kdnuggets\n",
       "0   7 Resources to Becoming a Data Engineer #KDN h...\n",
       "1   An End-to-End Project on Time Series Analysis ...\n",
       "2   RT @MIT_CSAIL: 9 key computer science topics -...\n",
       "3   Artificial Intelligence #AI in Modern Learning...\n",
       "4   Im a #DataScientist, Not Just The Tiny Hands t...\n",
       "5   Main 2020 Developments, Key 2021 Trends in #AI...\n",
       "6   The latest The KDnuggets Observer! https://t.c...\n",
       "7   10 More #Free Must-Read #Books for #MachineLea...\n",
       "8   New tools to help bring more transparency to A...\n",
       "9   #DataCleaning and Preprocessing for Beginners ...\n",
       "10  Understanding Transformers, the #DataScience W...\n",
       "11  Yours free: An Intro to Analytical Thinking ht...\n",
       "12  New book \"Deep Learning Design Patterns\" prese...\n",
       "13  Five Interesting Data Engineering Projects #KD...\n",
       "14  KDN 20:n46: Why the Future of #ETL Is Not ELT,...\n",
       "15  R or Python? Why Not Both? - KDnuggets https:/...\n",
       "16  The What, Where and How of Data for #DataScien...\n",
       "17  A Complete Guide To Survival Analysis In #Pyth...\n",
       "18  What are the most important #statistical ideas...\n",
       "19  Annotated Heatmaps of a Correlation Matrix in ..."
      ]
     },
     "execution_count": 72,
     "metadata": {},
     "output_type": "execute_result"
    }
   ],
   "source": [
    "get_tweets(consumer_key, consumer_secret, access_token, access_secret, '@kdnuggets')"
   ]
  },
  {
   "cell_type": "markdown",
   "metadata": {},
   "source": [
    "Tweety můžeme vyhledávat i podle hashtagu!"
   ]
  },
  {
   "cell_type": "code",
   "execution_count": 73,
   "metadata": {},
   "outputs": [
    {
     "name": "stdout",
     "output_type": "stream",
     "text": [
      "sparvhok RT @janerle2002: The point with #facemasks is to protect others, BECAUSE you could be an a-/presymptomatic SARS-COV2 #superspreader without…\n",
      "---\n",
      "CandorThreads We've got toddler, kid and adult patterned/solid masks ready to ship! $5 and under while supplies last. Stock up no… https://t.co/Xi0CbB42ya\n",
      "---\n",
      "highergtv Gonna wait on the cannabis bars till after Covid, of course... #Masks4All #coronavirus https://t.co/kSJSlfQ3Nb\n",
      "---\n",
      "dykarjohan RT @KellyBjorklund_: @Jens1Sorensen @yaneerbaryam @tomaspueyo Yes I acknowledge that and created a new tweet. This is good that Belarus (No…\n",
      "---\n",
      "living_sweden Ekonomernas dom: ”Total felbedömning”\n",
      "\"Mer restriktiva åtgärder inte bara hade kunnat räddat liv utan även varit bä… https://t.co/uDBXQPEVlD\n",
      "---\n",
      "KellyBjorklund_ @Jens1Sorensen @yaneerbaryam @tomaspueyo Yes I acknowledge that and created a new tweet. This is good that Belarus… https://t.co/1Njw97mhKG\n",
      "---\n",
      "IvankaKolchakov RT @BeletteLePink: New #fittedfacemaks on @redbubble\n",
      "#akitainu and #japanese #dogs series by \n",
      "@BeletteLePink \n",
      "#belettelepink #redbubble #ma…\n",
      "---\n",
      "BromptonSupport RT @masksrusuk: A little help from our brilliant founder🥰how to get your child to wear a face mask?!⬇️\n",
      "https://t.co/nGuwEDwKLM \n",
      "\n",
      "#WearAMask…\n",
      "---\n",
      "Kahlan791 RT @coconut_cam: GoPro Charlie! If a doggo can do it, so can you! #maskup #masks4all 🐶😷🐶🍻😎 #coconutcam #goprocharlie #coronabeer #coronavir…\n",
      "---\n",
      "masksrusuk A little help from our brilliant founder🥰how to get your child to wear a face mask?!⬇️\n",
      "https://t.co/nGuwEDwKLM… https://t.co/P4TqlDu5Ke\n",
      "---\n",
      "DVoterizer #Masks4All https://t.co/fkGx85ZykY\n",
      "---\n",
      "SprkJoy4BtrDays RT @earthprairie: @AmandaHempelMD @AntibioticDoc @AmyTanMD @jvipondmd @CBCNews It is the precautionary principle that acknowledges uncertai…\n",
      "---\n",
      "DrRohitVarma .@pfizer vaccine is very effective in reducing the number of severe #COVID19 cases or Covid-19 cases leading to hos… https://t.co/gst7IHiH7R\n",
      "---\n",
      "BeamaBeorg RT @AfyaFoundation: .@apoorva_nyc from the @nytimes shares why it is still imperative that vaccinated people wear a mask because the nose i…\n",
      "---\n",
      "DrKatrin_Rabiei RT @DrKatrin_Rabiei: Volvo uses 👇🏽 commercial abroad; opinions on 3-point seatbelt at the time of its introduction w the hashtag #ForEveryo…\n",
      "---\n"
     ]
    }
   ],
   "source": [
    "for tweet in api.search('#masks4all'):\n",
    "    print(tweet.user.screen_name, tweet.text)\n",
    "    print('---')"
   ]
  },
  {
   "cell_type": "markdown",
   "metadata": {},
   "source": [
    "Takhle ale dostaneme jenom 20 posledních tweetů. Pokud by nám to nestačilo, tak podle dokumentace k metodě [search](https://docs.tweepy.org/en/v3.5.0/api.html#API.search) můžeme nastavit return per page `rpp=30`, to jde ale nastavit maximálně na hodnotu 100. Pokud bychom chtěli víc, potřebujeme procházet výsledky po stránkách. Tedy nastavovat parametr `page=2` a postupně procházet cyklem. Stránky se tu číslují od jedné."
   ]
  }
 ],
 "metadata": {
  "kernelspec": {
   "display_name": "Python 3",
   "language": "python",
   "name": "python3"
  },
  "language_info": {
   "codemirror_mode": {
    "name": "ipython",
    "version": 3
   },
   "file_extension": ".py",
   "mimetype": "text/x-python",
   "name": "python",
   "nbconvert_exporter": "python",
   "pygments_lexer": "ipython3",
   "version": "3.7.4"
  }
 },
 "nbformat": 4,
 "nbformat_minor": 2
}
