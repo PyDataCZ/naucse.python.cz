{
 "cells": [
  {
   "cell_type": "markdown",
   "metadata": {},
   "source": [
    "# EDA - Testování statistických hypotéz\n",
    "\n",
    "V minulých lekcích EDA jsme se hodně soustředili na zpracování dat a jejich vizualizaci a když už jsme zavadili o nějakou tu statistiku, řešili jsme ji převážně intuicí. Takový přístup funguje vcelku dobře, dokud je naše analýza jen povrchovým zkoumáním a nepotřebujeme své výsledky někde oficiálně publikovat nebo o ně opřít nějaká závažná rozhodnutí.\n",
    "\n",
    "Když už se ale rozhodneme podrobit naše domněnky důkladnějšímu zkoumání, nevyhneme se statistickým testům.\n",
    "\n",
    "## Statistické testy\n",
    "\n",
    "Statistických testů existuje obrovská spousta a každý je dobrý na něco jiného. Situace je ještě složitější v tom, že na ověření jedné skutečnosti je možné použít hned několik testů, které se mezi sebou liší jen málo, a vybrat ten správný je samo o sobě celkem komplikované.\n",
    "\n",
    "Vzpomínáš ještě na normální rozdělení pravděpodobnosti z minulých lekcí? Že ho nějaká proměnná může mít tě napadne hned, když uvidíš histogram tvaru zvonu. Jenže to je pouhá intuice a podpořit či vyvrátit tento pocit lze mnoha různými statistickými testy. Testy se navíc neomezují jen na složitý vzorec s číselným výsledkem. Pojďme si vzít test normality jako ukázkový příklad.\n",
    "\n",
    "### Jen trošku lepší intuice\n",
    "\n",
    "Chceme-li naši intuici jen trošku vylepšit a podpořit, můžeme využít pro přibližný test normality pár jednoduchých pravidel:\n",
    "\n",
    "* Průměr a medián by se neměli lišit o více jak 10 %\n",
    "* Mělo by platit [pravidlo 68-95-99.7](https://en.wikipedia.org/wiki/68%E2%80%9395%E2%80%9399.7_rule)\n",
    "* … a další\n",
    "\n",
    "Je to stále ale jen lepší intuice.\n",
    "\n",
    "### Grafické testy\n",
    "\n",
    "Nejsnáze představitelný grafický test normality spočívá v proložení histogramu křivkou obkreslující ideální normální rozložení (Gaussova křivka). Pokud zkoumaný histogram perfektně kopíruje ideální stav, není dále nad čím přemýšlet.\n",
    "\n",
    "Krabicový graf také pomůže. Pokud má zkoumaná proměnná normální rozložení pravděpodobnosti, bude její vyjádření v krabicovém grafu symetrické, průměr a medián budou stejné a uprostřed grafu a bude zde minimum odlehlých měření.\n",
    "\n",
    "Drobet složitější grafickou metodou mohou být [Q-Q](https://en.wikipedia.org/wiki/Q%E2%80%93Q_plot) nebo [P-P](https://en.wikipedia.org/wiki/P%E2%80%93P_plot) grafy, kde rovná diagonální čára znamená perfektní shodu ideálního rozdělení s tím zkoumaným.\n",
    "\n",
    "### Početní testy\n",
    "\n",
    "No a nakonec je tady samozřejmě řada početních testů, které k ověření normality přistupují po svém. A není jich málo. Tak například:\n",
    "\n",
    "* D'Agostino's K-squared test,\n",
    "* Jarque–Bera test,\n",
    "* Anderson–Darling test,\n",
    "* Cramér–von Mises criterion,\n",
    "* Kolmogorov–Smirnov,\n",
    "* Lilliefors test,\n",
    "* Shapiro–Wilk test a\n",
    "* Pearson's chi-squared test.\n",
    "\n",
    "Často se ale používá jen omezená množina testů a další se hledají, až když se jedná o nějaký velmi specifický případ.\n",
    "\n",
    "Vypočíst statistický test není s pomocí mocných knihoven problém. Je ale třeba na začátku stanovit několik věcí, nastavit to správné očekávání, vybrat ten správný test a umět interpretovat jeho výsledky. Jednou ze základních věcí jsou nulová a alternativní hypotéza.\n",
    "\n",
    "## Nulová a alternativní hypotéza\n",
    "\n",
    "Statistická hypotéza je určitá domněnka (předpoklad) o jakékoli vlastnosti základního souboru. Pokud řekneme „základní soubor má normální rozdělení“, je to jen naše domněnka, protože neznáme všechny prvky základního souboru. Proto každé tvrzení (hypotézu) o ZS musíme testovat. Teprve na základě testu, který vychází z naměřených (výběrových) dat můžeme rozhodnout, zda tuto domněnku (hypotézu) můžeme považovat za platnou nebo za neplatnou. Pro každý test musíme formulovat nulovou a alternativní hypotézu. Testovaná hypotéza se nazývá nulová hypotéza (H0). Předpokládáme, že platí, pokud nemáme k dispozici dostatečný statistický důkaz její neplatnosti. Pokud zamítneme platnost nulové hypotézy, předpokládáme, že platí alternativní hypotéza (HA). H0 a HA musí být formulovány tak, aby nebyla možná žádná „třetí možnost“. Buď platí H0 nebo HA, nic dalšího není možné.\n",
    "\n",
    "> Není třeba si s tím lámat hlavu. Na internetu je spousta návodů na tvorbu nulových hypotéz a každý statistický test má nějakou svou standardní nulovou hypotézu.\n",
    "\n",
    "Pro náš test normality tedy nulová hypotéza bude:\n",
    "\n",
    "H0: *Zkoumané rozdělení pravděpodobnosti má normálního rozdělení*\n",
    "\n",
    "K nulové hypotéze existuje hypotéza alternativní, která nejčastěji říká v podstatě opak. V našem případě tedy bude:\n",
    "\n",
    "HA: *Zkoumané rozdělení pravděpodobnosti je odlišné od normálního rozdělení*\n",
    "\n",
    "## p-value\n",
    "\n",
    "Samotný výsledek statistického testu není dostačující. Vezměme například korelaci. Pokud budeme mít jen 10 záznamů, bude pravděpodobnost, že se vysoká korelace objeví jen náhodou, daleko větší, než když budeme mít záznamů 1000. Menší datová sada je i v tomto případě více náchylná na výskyt náhodných jevů a vztahů. A s tímto nám pomůže právě p-value, která nám výsledek statistického testu doplní o informaci, zda a jak moc je možné mu věřit.\n",
    "\n",
    "Čím menší je p-value, tím menší je pravděpodobnost, že se zkoumaný jev (H0) v dané míře objeví jen náhodou. p-value u předchozího příkladu bude tedy daleko větší u datové sady s deseti záznamy, protože tam se vysoká korelace může daleko snáze objevit jen náhodou, zatímco u tisíce záznamů je pravděpodobnost takové náhody daleko menší.\n",
    "\n",
    "p-value nám hlavně pomůže rozhodnout, zda zamítneme nulovou hypotézu, či nikoli. K tomu si ale musíme pro p-value stanovit nějakou hranici a to ještě před provedením testu samotného. Této hranici se říká hladina významnosti a označuje se řeckým písmenem α. Nejběžněji používanou hladinou významnosti pro p-value je 0,05. Pokud bude výsledná p-value menší, efekt se v datech nevyskytuje náhodou a my můžeme zamítnout nulovou hypotézu a podpořit hypotézu alternativní. Pokud bude p-value naopak větší, je pravděpodobnější, že data daný jev opravdu reprezentují a nulová hypotéza zůstane platná.\n",
    "\n",
    "Pozor na to, že zde není žádná šedá zóna. Jakmile si hladinu významnosti stanovíme, je výsledek buď černý nebo bíly, buď ano nebo ne. Nic mezi tím. Ani kdyby p-value vyšla jen o 0,01 vyšší než je naše α.\n",
    "\n",
    "Hladina významnosti pro p-value se samozřejmě dá nastavit i jinak. Pokud je pravděpodobnost výskytu zkoumaného jevu velmi malá, hladina významnosti se často snižuje. Například v CERNu při hledání velmi vzácného Higgsova bosonu měli hladinu významnosti nastavenu na 3×10⁻⁷. Naopak, pokud je pravděpodobnost, že se zkoumaný jen objeví náhodou, vysoká, může se hladina významnosti vyšplhat až na 0,1.\n",
    "\n",
    "Pro naši potřebu testu normality s náhodnými daty si necháme α = 0,05.\n",
    "\n",
    "Teď už víme vše potřebné a můžeme se pustit do testování.\n",
    "\n",
    "## Test normality\n",
    "\n",
    "V prvním pokusu si vygenerujeme náhodná data přibližně odpovídající normálnímu rozložení a zkusíme je otestovat Shapiro–Wilk testem."
   ]
  },
  {
   "cell_type": "code",
   "execution_count": 1,
   "metadata": {},
   "outputs": [],
   "source": [
    "from matplotlib import pyplot as plt\n",
    "import numpy as np\n",
    "from scipy.stats import shapiro, kstest\n",
    "\n",
    "%matplotlib inline"
   ]
  },
  {
   "cell_type": "markdown",
   "metadata": {},
   "source": [
    "S pomocí numpy vygenerujeme seznam tisíce čísel s normálním rozdělením pravděpodobnosti, průměrem 10 a směrodatnou odchylkou 2."
   ]
  },
  {
   "cell_type": "code",
   "execution_count": 2,
   "metadata": {},
   "outputs": [],
   "source": [
    "tisic_cisel = np.random.normal(10, 2, 1000)"
   ]
  },
  {
   "cell_type": "markdown",
   "metadata": {},
   "source": [
    "Pro zobrazení jednoduchého histogramu můžeme použít matplotlib přímo a obejít se bez pandasu."
   ]
  },
  {
   "cell_type": "code",
   "execution_count": 3,
   "metadata": {},
   "outputs": [
    {
     "data": {
      "image/png": "[encoded data removed]",
      "text/plain": [
       "<Figure size 432x288 with 1 Axes>"
      ]
     },
     "metadata": {
      "needs_background": "light"
     },
     "output_type": "display_data"
    }
   ],
   "source": [
    "plt.hist(tisic_cisel);"
   ]
  },
  {
   "cell_type": "code",
   "execution_count": 4,
   "metadata": {},
   "outputs": [
    {
     "data": {
      "text/plain": [
       "(0.9978026151657104, 0.20951364934444427)"
      ]
     },
     "execution_count": 4,
     "metadata": {},
     "output_type": "execute_result"
    }
   ],
   "source": [
    "shapiro(tisic_cisel)"
   ]
  },
  {
   "cell_type": "markdown",
   "metadata": {},
   "source": [
    "První číslo je výsledek samotného testu. Hodnota velmi blízko jedné naznačuje, že distribuce našich náhodně generovaných čísel je velmi podobná normálnímu rozdělení.\n",
    "\n",
    "Druhé číslo je p-value. p-value je daleko vyšší než naše α = 0,05 a tak nemůžeme zamítnout nulovou hypotézu, že se rozdělení našich dat neliší od normálního rozdělení. H0 je tedy přijata a můžeme prohlásit, že náše data pocházejí z normálního rozdělení."
   ]
  },
  {
   "cell_type": "markdown",
   "metadata": {},
   "source": [
    "## Pearsonův korelační koeficient\n",
    "\n",
    "V druhém statistickém testu se vrátíme k datům o výdělku a zdravém stravování zaměstnanců a pokusíme se znovu ověřit korelaci mezi výší výdělku a délkou praxe.\n",
    "\n",
    "Nulová hypotéza v tomto případě bude: *Neexistuje statisticky významný vztah mezi mzdou a délkou praxe v oboru.*\n",
    "Alternativní hypotéza bude přesný opak: *Existuje statisticky významný vztah mezi mzdou a délkou praxe v oboru.*\n",
    "\n",
    "Protože nemáme žádné další vodítka pro určení správné hladiny významnosti k zamítnutí nulové hypotézy, ponecháme si ji na hodnotě 0,05."
   ]
  },
  {
   "cell_type": "code",
   "execution_count": 5,
   "metadata": {},
   "outputs": [],
   "source": [
    "import pandas as pd\n",
    "from scipy.stats import pearsonr"
   ]
  },
  {
   "cell_type": "code",
   "execution_count": 6,
   "metadata": {},
   "outputs": [],
   "source": [
    "data = pd.read_csv(\"../multivariate/static/salary.csv\")"
   ]
  },
  {
   "cell_type": "code",
   "execution_count": 7,
   "metadata": {},
   "outputs": [
    {
     "data": {
      "text/html": [
       "<div>\n",
       "<style scoped>\n",
       "    .dataframe tbody tr th:only-of-type {\n",
       "        vertical-align: middle;\n",
       "    }\n",
       "\n",
       "    .dataframe tbody tr th {\n",
       "        vertical-align: top;\n",
       "    }\n",
       "\n",
       "    .dataframe thead th {\n",
       "        text-align: right;\n",
       "    }\n",
       "</style>\n",
       "<table border=\"1\" class=\"dataframe\">\n",
       "  <thead>\n",
       "    <tr style=\"text-align: right;\">\n",
       "      <th></th>\n",
       "      <th>id</th>\n",
       "      <th>age</th>\n",
       "      <th>healthy_eating</th>\n",
       "      <th>active_lifestyle</th>\n",
       "      <th>salary</th>\n",
       "      <th>months_of_exp</th>\n",
       "    </tr>\n",
       "  </thead>\n",
       "  <tbody>\n",
       "    <tr>\n",
       "      <td>count</td>\n",
       "      <td>1000.000000</td>\n",
       "      <td>1000.000000</td>\n",
       "      <td>1000.000000</td>\n",
       "      <td>1000.000000</td>\n",
       "      <td>1000.00000</td>\n",
       "      <td>1000.000000</td>\n",
       "    </tr>\n",
       "    <tr>\n",
       "      <td>mean</td>\n",
       "      <td>499.500000</td>\n",
       "      <td>41.155000</td>\n",
       "      <td>4.944000</td>\n",
       "      <td>5.683000</td>\n",
       "      <td>2227.46100</td>\n",
       "      <td>175.388000</td>\n",
       "    </tr>\n",
       "    <tr>\n",
       "      <td>std</td>\n",
       "      <td>288.819436</td>\n",
       "      <td>13.462995</td>\n",
       "      <td>2.013186</td>\n",
       "      <td>2.048587</td>\n",
       "      <td>1080.20976</td>\n",
       "      <td>96.778311</td>\n",
       "    </tr>\n",
       "    <tr>\n",
       "      <td>min</td>\n",
       "      <td>0.000000</td>\n",
       "      <td>18.000000</td>\n",
       "      <td>0.000000</td>\n",
       "      <td>0.000000</td>\n",
       "      <td>553.00000</td>\n",
       "      <td>3.000000</td>\n",
       "    </tr>\n",
       "    <tr>\n",
       "      <td>25%</td>\n",
       "      <td>249.750000</td>\n",
       "      <td>30.000000</td>\n",
       "      <td>4.000000</td>\n",
       "      <td>4.000000</td>\n",
       "      <td>1360.00000</td>\n",
       "      <td>101.000000</td>\n",
       "    </tr>\n",
       "    <tr>\n",
       "      <td>50%</td>\n",
       "      <td>499.500000</td>\n",
       "      <td>41.000000</td>\n",
       "      <td>5.000000</td>\n",
       "      <td>6.000000</td>\n",
       "      <td>2174.00000</td>\n",
       "      <td>173.000000</td>\n",
       "    </tr>\n",
       "    <tr>\n",
       "      <td>75%</td>\n",
       "      <td>749.250000</td>\n",
       "      <td>53.000000</td>\n",
       "      <td>6.000000</td>\n",
       "      <td>7.000000</td>\n",
       "      <td>2993.75000</td>\n",
       "      <td>248.000000</td>\n",
       "    </tr>\n",
       "    <tr>\n",
       "      <td>max</td>\n",
       "      <td>999.000000</td>\n",
       "      <td>64.000000</td>\n",
       "      <td>10.000000</td>\n",
       "      <td>10.000000</td>\n",
       "      <td>5550.00000</td>\n",
       "      <td>360.000000</td>\n",
       "    </tr>\n",
       "  </tbody>\n",
       "</table>\n",
       "</div>"
      ],
      "text/plain": [
       "                id          age  healthy_eating  active_lifestyle      salary  \\\n",
       "count  1000.000000  1000.000000     1000.000000       1000.000000  1000.00000   \n",
       "mean    499.500000    41.155000        4.944000          5.683000  2227.46100   \n",
       "std     288.819436    13.462995        2.013186          2.048587  1080.20976   \n",
       "min       0.000000    18.000000        0.000000          0.000000   553.00000   \n",
       "25%     249.750000    30.000000        4.000000          4.000000  1360.00000   \n",
       "50%     499.500000    41.000000        5.000000          6.000000  2174.00000   \n",
       "75%     749.250000    53.000000        6.000000          7.000000  2993.75000   \n",
       "max     999.000000    64.000000       10.000000         10.000000  5550.00000   \n",
       "\n",
       "       months_of_exp  \n",
       "count    1000.000000  \n",
       "mean      175.388000  \n",
       "std        96.778311  \n",
       "min         3.000000  \n",
       "25%       101.000000  \n",
       "50%       173.000000  \n",
       "75%       248.000000  \n",
       "max       360.000000  "
      ]
     },
     "execution_count": 7,
     "metadata": {},
     "output_type": "execute_result"
    }
   ],
   "source": [
    "data.describe()"
   ]
  },
  {
   "cell_type": "code",
   "execution_count": 8,
   "metadata": {},
   "outputs": [
    {
     "data": {
      "text/html": [
       "<div>\n",
       "<style scoped>\n",
       "    .dataframe tbody tr th:only-of-type {\n",
       "        vertical-align: middle;\n",
       "    }\n",
       "\n",
       "    .dataframe tbody tr th {\n",
       "        vertical-align: top;\n",
       "    }\n",
       "\n",
       "    .dataframe thead th {\n",
       "        text-align: right;\n",
       "    }\n",
       "</style>\n",
       "<table border=\"1\" class=\"dataframe\">\n",
       "  <thead>\n",
       "    <tr style=\"text-align: right;\">\n",
       "      <th></th>\n",
       "      <th>id</th>\n",
       "      <th>age</th>\n",
       "      <th>healthy_eating</th>\n",
       "      <th>active_lifestyle</th>\n",
       "      <th>salary</th>\n",
       "      <th>months_of_exp</th>\n",
       "    </tr>\n",
       "  </thead>\n",
       "  <tbody>\n",
       "    <tr>\n",
       "      <td>id</td>\n",
       "      <td>1.000000</td>\n",
       "      <td>-0.033595</td>\n",
       "      <td>-0.004993</td>\n",
       "      <td>0.028897</td>\n",
       "      <td>-0.012048</td>\n",
       "      <td>0.000071</td>\n",
       "    </tr>\n",
       "    <tr>\n",
       "      <td>age</td>\n",
       "      <td>-0.033595</td>\n",
       "      <td>1.000000</td>\n",
       "      <td>-0.014969</td>\n",
       "      <td>0.148267</td>\n",
       "      <td>-0.072231</td>\n",
       "      <td>-0.058026</td>\n",
       "    </tr>\n",
       "    <tr>\n",
       "      <td>healthy_eating</td>\n",
       "      <td>-0.004993</td>\n",
       "      <td>-0.014969</td>\n",
       "      <td>1.000000</td>\n",
       "      <td>0.031613</td>\n",
       "      <td>0.858405</td>\n",
       "      <td>0.700612</td>\n",
       "    </tr>\n",
       "    <tr>\n",
       "      <td>active_lifestyle</td>\n",
       "      <td>0.028897</td>\n",
       "      <td>0.148267</td>\n",
       "      <td>0.031613</td>\n",
       "      <td>1.000000</td>\n",
       "      <td>-0.323575</td>\n",
       "      <td>-0.225714</td>\n",
       "    </tr>\n",
       "    <tr>\n",
       "      <td>salary</td>\n",
       "      <td>-0.012048</td>\n",
       "      <td>-0.072231</td>\n",
       "      <td>0.858405</td>\n",
       "      <td>-0.323575</td>\n",
       "      <td>1.000000</td>\n",
       "      <td>0.799953</td>\n",
       "    </tr>\n",
       "    <tr>\n",
       "      <td>months_of_exp</td>\n",
       "      <td>0.000071</td>\n",
       "      <td>-0.058026</td>\n",
       "      <td>0.700612</td>\n",
       "      <td>-0.225714</td>\n",
       "      <td>0.799953</td>\n",
       "      <td>1.000000</td>\n",
       "    </tr>\n",
       "  </tbody>\n",
       "</table>\n",
       "</div>"
      ],
      "text/plain": [
       "                        id       age  healthy_eating  active_lifestyle  \\\n",
       "id                1.000000 -0.033595       -0.004993          0.028897   \n",
       "age              -0.033595  1.000000       -0.014969          0.148267   \n",
       "healthy_eating   -0.004993 -0.014969        1.000000          0.031613   \n",
       "active_lifestyle  0.028897  0.148267        0.031613          1.000000   \n",
       "salary           -0.012048 -0.072231        0.858405         -0.323575   \n",
       "months_of_exp     0.000071 -0.058026        0.700612         -0.225714   \n",
       "\n",
       "                    salary  months_of_exp  \n",
       "id               -0.012048       0.000071  \n",
       "age              -0.072231      -0.058026  \n",
       "healthy_eating    0.858405       0.700612  \n",
       "active_lifestyle -0.323575      -0.225714  \n",
       "salary            1.000000       0.799953  \n",
       "months_of_exp     0.799953       1.000000  "
      ]
     },
     "execution_count": 8,
     "metadata": {},
     "output_type": "execute_result"
    }
   ],
   "source": [
    "data.corr()"
   ]
  },
  {
   "cell_type": "code",
   "execution_count": 9,
   "metadata": {},
   "outputs": [
    {
     "data": {
      "text/plain": [
       "(0.7999528408949278, 1.37822950311405e-223)"
      ]
     },
     "execution_count": 9,
     "metadata": {},
     "output_type": "execute_result"
    }
   ],
   "source": [
    "pearsonr(data.salary, data.months_of_exp)"
   ]
  },
  {
   "cell_type": "markdown",
   "metadata": {},
   "source": [
    "Výsledek testu obsahuje jako první číslo samotný korelační koeficient, který je shodný s tím, co nám nabídnul pandas v přehledové tabulce. Druhé číslo je p-value, která je v tomto případě o hodně menší než námi stanovená α = 0,05 a tak můžeme zamítnout nulovou hypotézu a podpořit hypotézu alternativní. Mezi mzdou a délkou praxe v oboru tedy existuje statisticky významná korelace.\n",
    "\n",
    "## Rady na závěr\n",
    "\n",
    "Důležité je nenechat se odradit zdánlivou složitostí a brát statistické testy jako dobrou pomůcku pro ověřování hypotéz, které při analýze vyvstanou. Skoro každý statistický test má také svou stránku na Wikipedii, kde je vše podrobně vysvětleno a není tak ani třeba si lámat hlavu s vymýšlením nulové a alternativní hypotézy. Při použití je také dobré si ověřit, zda test klade nějaké podmínky na testovaná data (velikost populace, rozdělení pravděpodobnosti atp.).\n",
    "\n",
    "## Čas na hraní\n",
    "\n",
    "Pokud stále ještě analyzuješ vlastní data, může být dobré se v analýze vrátit k některým zajímavým výsledkům a zkusit je podpořit vhodným statistickým testem."
   ]
  }
 ],
 "metadata": {
  "kernelspec": {
   "display_name": "Python 3",
   "language": "python",
   "name": "python3"
  },
  "language_info": {
   "codemirror_mode": {
    "name": "ipython",
    "version": 3
   },
   "file_extension": ".py",
   "mimetype": "text/x-python",
   "name": "python",
   "nbconvert_exporter": "python",
   "pygments_lexer": "ipython3",
   "version": "3.7.6"
  }
 },
 "nbformat": 4,
 "nbformat_minor": 4
}
