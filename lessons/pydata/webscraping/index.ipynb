{
 "cells": [
  {
   "cell_type": "markdown",
   "metadata": {},
   "source": [
    "# Web scraping"
   ]
  },
  {
   "cell_type": "markdown",
   "metadata": {},
   "source": [
    "## Co je web scraping?\n",
    "- Strojové čtení nestrukturovaných dat z webových stránek"
   ]
  },
  {
   "cell_type": "markdown",
   "metadata": {},
   "source": [
    "## Co není web scraping?\n",
    "- Stahování dat přes API\n",
    "- Stahování strukturovaných dat (JSON, CSV,...)\n",
    "- Crawling - procházení a indexování celé webové stránky pomocí jejích vnitřních hypertextových odkazů\n"
   ]
  },
  {
   "cell_type": "markdown",
   "metadata": {},
   "source": [
    "## Příklady web scrapingu"
   ]
  },
  {
   "cell_type": "markdown",
   "metadata": {
    "heading_collapsed": true
   },
   "source": [
    "### Analýza cen na českých e-shopech\n",
    "\n",
    "\n",
    "<div>\n",
    "    <img src=\"static/hlidacshopu.png\", width=\"50%\"/>\n",
    "</div>\n",
    "\n",
    "https://medium.com/@jakubbalada/black-friday-2019-s-hl%C3%ADda%C4%8Dem-shop%C5%AF-9a3ddd352a8c"
   ]
  },
  {
   "cell_type": "markdown",
   "metadata": {},
   "source": [
    "### Jak hodnotila filmy Mirka Spáčilová\n",
    "\n",
    "\n",
    "<div>\n",
    "<img src=\"static/spacilova.png\", width=\"50%\"/>\n",
    "</div>\n",
    "\n",
    "https://www.michalblaha.cz/2017/10/filmova-kriticka-mirka-spacilova-v-cislech/"
   ]
  },
  {
   "cell_type": "markdown",
   "metadata": {},
   "source": [
    "## Etika web scrapingu\n",
    "\n",
    "- Než začneš s web scrapingem, podívej se, jestli stránka nenabízí strukturovaná data ke stažení nebo neposkytuje API. \n",
    "    - **Příklady:** \n",
    "    - https://data.gov.cz/datov%C3%A9-sady?poskytovatel=%C4%8Cesk%C3%BD%20statistick%C3%BD%20%C3%BA%C5%99ad\n",
    "    - https://www.ncdc.noaa.gov/data-access\n",
    "    - https://www.mapakriminality.cz/data/\n",
    "    - http://opendata.praha.eu/dataset/meteostanice-chmi-api\n",
    "- Zjisti si, jaká máš práva k datům, nepublikuj získaná data nelegálně\n",
    "- Přistupuj ke stránce k rozumné míře, nesnažíš se stránku shodit, ale získat data :-) "
   ]
  },
  {
   "cell_type": "markdown",
   "metadata": {},
   "source": [
    "## Z čeho se skládá webová stránka\n",
    "- **HTML** (HyperText Markup Language): strukturovaný obsah stránky (text a obrázky)\n",
    "- **CSS** (Cascading Style Sheets): úprava vzhledu stránky\n",
    "- **JavaScript**: interaktivita obsahu a vzhledu stránky"
   ]
  },
  {
   "cell_type": "markdown",
   "metadata": {},
   "source": [
    "### HTML \n",
    "<div>\n",
    "    <img src=\"static/html.png\", width=\"80%\">\n",
    "</div>"
   ]
  },
  {
   "cell_type": "markdown",
   "metadata": {},
   "source": [
    "- Je tvořen HTML značkami / tagy, např.  ``<img>``\n",
    "- Většina HTML tagů je párová, např. ``<h2>`` a ``</h2>``\n",
    "- Tagy mohou mít atributy, které dále specifikují, co a jak bude tag zobrazovat\n",
    "- Atribut class se obvykle používá k stylování stránky a často podle něj můžeme při webscrapingu odlišit různé části stránky"
   ]
  },
  {
   "cell_type": "markdown",
   "metadata": {},
   "source": [
    "### CSS\n",
    "\n",
    "- Popisuje způsob zobrazení html elementů\n",
    "- Obsahuje 2 části: selektor elementu a blok deklarace:\n",
    "\n",
    "```\n",
    "p.error {\n",
    "  color: red;\n",
    "}\n",
    "```\n"
   ]
  },
  {
   "cell_type": "markdown",
   "metadata": {},
   "source": [
    "## Pandas: read_html()"
   ]
  },
  {
   "cell_type": "markdown",
   "metadata": {},
   "source": [
    "Pokud nám stačí stáhnout tabulky z html dokumentu, můžeme použít knihovnu Pandas:"
   ]
  },
  {
   "cell_type": "code",
   "execution_count": 1,
   "metadata": {},
   "outputs": [],
   "source": [
    "import pandas as pd"
   ]
  },
  {
   "cell_type": "code",
   "execution_count": 2,
   "metadata": {},
   "outputs": [],
   "source": [
    "tables = pd.read_html('https://cs.wikipedia.org/wiki/Seznam_st%C3%A1t%C5%AF_sv%C4%9Bta_podle_spot%C5%99eby_alkoholu')"
   ]
  },
  {
   "cell_type": "code",
   "execution_count": 3,
   "metadata": {},
   "outputs": [
    {
     "data": {
      "text/plain": [
       "2"
      ]
     },
     "execution_count": 3,
     "metadata": {},
     "output_type": "execute_result"
    }
   ],
   "source": [
    "len(tables)"
   ]
  },
  {
   "cell_type": "code",
   "execution_count": 4,
   "metadata": {},
   "outputs": [
    {
     "data": {
      "text/html": [
       "<div>\n",
       "<style scoped>\n",
       "    .dataframe tbody tr th:only-of-type {\n",
       "        vertical-align: middle;\n",
       "    }\n",
       "\n",
       "    .dataframe tbody tr th {\n",
       "        vertical-align: top;\n",
       "    }\n",
       "\n",
       "    .dataframe thead th {\n",
       "        text-align: right;\n",
       "    }\n",
       "</style>\n",
       "<table border=\"1\" class=\"dataframe\">\n",
       "  <thead>\n",
       "    <tr style=\"text-align: right;\">\n",
       "      <th></th>\n",
       "      <th>stát</th>\n",
       "      <th>evidováno</th>\n",
       "      <th>neevidováno</th>\n",
       "      <th>celkem</th>\n",
       "      <th>pivo</th>\n",
       "      <th>víno</th>\n",
       "      <th>destiláty</th>\n",
       "      <th>ostatní</th>\n",
       "    </tr>\n",
       "  </thead>\n",
       "  <tbody>\n",
       "    <tr>\n",
       "      <th>0</th>\n",
       "      <td>Česko</td>\n",
       "      <td>14.97</td>\n",
       "      <td>1.48</td>\n",
       "      <td>16.45</td>\n",
       "      <td>8.51</td>\n",
       "      <td>2.33</td>\n",
       "      <td>3.59</td>\n",
       "      <td>0.39</td>\n",
       "    </tr>\n",
       "    <tr>\n",
       "      <th>1</th>\n",
       "      <td>Maďarsko</td>\n",
       "      <td>12.27</td>\n",
       "      <td>4.00</td>\n",
       "      <td>16.27</td>\n",
       "      <td>4.42</td>\n",
       "      <td>4.94</td>\n",
       "      <td>3.02</td>\n",
       "      <td>0.14</td>\n",
       "    </tr>\n",
       "    <tr>\n",
       "      <th>2</th>\n",
       "      <td>Rusko</td>\n",
       "      <td>11.03</td>\n",
       "      <td>4.73</td>\n",
       "      <td>15.76</td>\n",
       "      <td>3.65</td>\n",
       "      <td>0.10</td>\n",
       "      <td>6.88</td>\n",
       "      <td>0.34</td>\n",
       "    </tr>\n",
       "    <tr>\n",
       "      <th>3</th>\n",
       "      <td>Ukrajina</td>\n",
       "      <td>8.10</td>\n",
       "      <td>7.50</td>\n",
       "      <td>15.60</td>\n",
       "      <td>2.69</td>\n",
       "      <td>0.58</td>\n",
       "      <td>5.21</td>\n",
       "      <td>0.02</td>\n",
       "    </tr>\n",
       "    <tr>\n",
       "      <th>4</th>\n",
       "      <td>Estonsko</td>\n",
       "      <td>13.77</td>\n",
       "      <td>1.80</td>\n",
       "      <td>15.57</td>\n",
       "      <td>5.53</td>\n",
       "      <td>1.09</td>\n",
       "      <td>9.19</td>\n",
       "      <td>0.43</td>\n",
       "    </tr>\n",
       "  </tbody>\n",
       "</table>\n",
       "</div>"
      ],
      "text/plain": [
       "       stát  evidováno  neevidováno  celkem  pivo  víno  destiláty  ostatní\n",
       "0     Česko      14.97         1.48   16.45  8.51  2.33       3.59     0.39\n",
       "1  Maďarsko      12.27         4.00   16.27  4.42  4.94       3.02     0.14\n",
       "2     Rusko      11.03         4.73   15.76  3.65  0.10       6.88     0.34\n",
       "3  Ukrajina       8.10         7.50   15.60  2.69  0.58       5.21     0.02\n",
       "4  Estonsko      13.77         1.80   15.57  5.53  1.09       9.19     0.43"
      ]
     },
     "execution_count": 4,
     "metadata": {},
     "output_type": "execute_result"
    }
   ],
   "source": [
    "tables[0].head()"
   ]
  },
  {
   "cell_type": "code",
   "execution_count": 5,
   "metadata": {},
   "outputs": [
    {
     "data": {
      "text/html": [
       "<div>\n",
       "<style scoped>\n",
       "    .dataframe tbody tr th:only-of-type {\n",
       "        vertical-align: middle;\n",
       "    }\n",
       "\n",
       "    .dataframe tbody tr th {\n",
       "        vertical-align: top;\n",
       "    }\n",
       "\n",
       "    .dataframe thead th {\n",
       "        text-align: right;\n",
       "    }\n",
       "</style>\n",
       "<table border=\"1\" class=\"dataframe\">\n",
       "  <thead>\n",
       "    <tr style=\"text-align: right;\">\n",
       "      <th></th>\n",
       "      <th>Pořadí</th>\n",
       "      <th>Stát</th>\n",
       "      <th>Spotřeba v litrech</th>\n",
       "      <th>Rok</th>\n",
       "    </tr>\n",
       "  </thead>\n",
       "  <tbody>\n",
       "    <tr>\n",
       "      <th>0</th>\n",
       "      <td>1</td>\n",
       "      <td>Francie</td>\n",
       "      <td>12.6</td>\n",
       "      <td>2011</td>\n",
       "    </tr>\n",
       "    <tr>\n",
       "      <th>1</th>\n",
       "      <td>2</td>\n",
       "      <td>Rakousko</td>\n",
       "      <td>12.2</td>\n",
       "      <td>2009</td>\n",
       "    </tr>\n",
       "    <tr>\n",
       "      <th>2</th>\n",
       "      <td>3</td>\n",
       "      <td>Estonsko</td>\n",
       "      <td>12.0</td>\n",
       "      <td>2011</td>\n",
       "    </tr>\n",
       "    <tr>\n",
       "      <th>3</th>\n",
       "      <td>4</td>\n",
       "      <td>Německo</td>\n",
       "      <td>11.7</td>\n",
       "      <td>2009</td>\n",
       "    </tr>\n",
       "    <tr>\n",
       "      <th>4</th>\n",
       "      <td>5</td>\n",
       "      <td>Irsko</td>\n",
       "      <td>11.6</td>\n",
       "      <td>2011</td>\n",
       "    </tr>\n",
       "  </tbody>\n",
       "</table>\n",
       "</div>"
      ],
      "text/plain": [
       "   Pořadí      Stát  Spotřeba v litrech   Rok\n",
       "0       1   Francie                12.6  2011\n",
       "1       2  Rakousko                12.2  2009\n",
       "2       3  Estonsko                12.0  2011\n",
       "3       4   Německo                11.7  2009\n",
       "4       5     Irsko                11.6  2011"
      ]
     },
     "execution_count": 5,
     "metadata": {},
     "output_type": "execute_result"
    }
   ],
   "source": [
    "tables[1].head()"
   ]
  },
  {
   "cell_type": "markdown",
   "metadata": {},
   "source": [
    "## Co když chceme tabulku z pdf?"
   ]
  },
  {
   "cell_type": "markdown",
   "metadata": {},
   "source": [
    "## BeautifulSoup"
   ]
  },
  {
   "cell_type": "markdown",
   "metadata": {},
   "source": [
    "Knihovna [BeautifulSoup](https://www.crummy.com/software/BeautifulSoup/) se používá k získávání dat z HTML a XML souborů. Pracuje s různými parsery, které analyzují HTML soubory, a umožnuje vybrat požadované HTML elementy a pracovat s nimi.\n"
   ]
  },
  {
   "cell_type": "code",
   "execution_count": 6,
   "metadata": {},
   "outputs": [],
   "source": [
    "from bs4 import BeautifulSoup"
   ]
  },
  {
   "cell_type": "code",
   "execution_count": 7,
   "metadata": {},
   "outputs": [],
   "source": [
    "# vzorový html\n",
    "html_doc = '''\n",
    "<html lang=\"en-US\">\n",
    "<head>\n",
    "<meta charset=\"UTF-8\">\n",
    "<title>PyData Prague | pydata.cz</title>\n",
    "<link rel=\"stylesheet\" href=\"/assets/css/style.css?v=3e86527de11985ac075350329bdb8666892c0b1f\">\n",
    "</head>\n",
    "<body>\n",
    "<div class=\"container-lg px-3 my-5 markdown-body\"> \n",
    "<h1><a href=\"https://pydata.cz/\">pydata.cz</a></h1>\n",
    "<h1 id=\"pydata-prague\">PyData Prague</h1>\n",
    "<p id=\"description\">PyData Prague is a community of data scientists, engineers, analysts, and various other developers \n",
    "in the area of scientific computing and data analysis. The term <a class=\"pydata\" href=\"https://pydata.org/\">PyData</a> \n",
    "refers to an educational program of <a href=\"https://numfocus.org/\">NumFOCUS</a>, an american non-profit \n",
    "helping open source software in terms of governance, financial support, and operations.</p>\n",
    "<p>The PyData network hosts meetups in hundreds of cities around the world and several conferences each \n",
    "year. The Prague chapter started in 2018 with the aim of spreading the word of open source scientific \n",
    "computing in the Czech Republic. And while the chapter is based in Prague, we operate and \n",
    "collaborate countrywide.</p>\n",
    "<h2 id=\"code-of-conduct\">Code of Conduct</h2>\n",
    "<p>We adhere to PyData’s code of conduct, here’s its short version:</p>\n",
    "<blockquote>\n",
    "<p>Be kind to others. Do not insult or put down others. Behave professionally. \n",
    "Remember that harassment and sexist, racist, or exclusionary jokes and language are not \n",
    "appropriate for PyData.</p>\n",
    "<p>All communication should be appropriate for a professional audience including \n",
    "people of many different backgrounds. Sexual language and imagery is not appropriate.</p>\n",
    "<p>PyData is dedicated to providing a harassment-free event experience for everyone, regardless of \n",
    "gender, sexual orientation, gender identity, and expression, disability, physical appearance, \n",
    "body size, race, or religion. We do not tolerate harassment of participants in any form.</p>\n",
    "<p>Thank you for helping make this a welcoming, friendly community for all.</p>\n",
    "</blockquote>\n",
    "<p>You can find more information at \n",
    "<a class=\"pydata\" href=\"https://pydata.org/code-of-conduct/\">pydata.org/code-of-conduct/</a></p \n",
    "</div>  \n",
    "</body>\n",
    "</html>\n",
    "'''"
   ]
  },
  {
   "cell_type": "code",
   "execution_count": 8,
   "metadata": {},
   "outputs": [
    {
     "name": "stdout",
     "output_type": "stream",
     "text": [
      "<html lang=\"en-US\">\n",
      " <head>\n",
      "  <meta charset=\"utf-8\"/>\n",
      "  <title>\n",
      "   PyData Prague | pydata.cz\n",
      "  </title>\n",
      "  <link href=\"/assets/css/style.css?v=3e86527de11985ac075350329bdb8666892c0b1f\" rel=\"stylesheet\"/>\n",
      " </head>\n",
      " <body>\n",
      "  <div class=\"container-lg px-3 my-5 markdown-body\">\n",
      "   <h1>\n",
      "    <a href=\"https://pydata.cz/\">\n",
      "     pydata.cz\n",
      "    </a>\n",
      "   </h1>\n",
      "   <h1 id=\"pydata-prague\">\n",
      "    PyData Prague\n",
      "   </h1>\n",
      "   <p id=\"description\">\n",
      "    PyData Prague is a community of data scientists, engineers, analysts, and various other developers \n",
      "in the area of scientific computing and data analysis. The term\n",
      "    <a class=\"pydata\" href=\"https://pydata.org/\">\n",
      "     PyData\n",
      "    </a>\n",
      "    refers to an educational program of\n",
      "    <a href=\"https://numfocus.org/\">\n",
      "     NumFOCUS\n",
      "    </a>\n",
      "    , an american non-profit \n",
      "helping open source software in terms of governance, financial support, and operations.\n",
      "   </p>\n",
      "   <p>\n",
      "    The PyData network hosts meetups in hundreds of cities around the world and several conferences each \n",
      "year. The Prague chapter started in 2018 with the aim of spreading the word of open source scientific \n",
      "computing in the Czech Republic. And while the chapter is based in Prague, we operate and \n",
      "collaborate countrywide.\n",
      "   </p>\n",
      "   <h2 id=\"code-of-conduct\">\n",
      "    Code of Conduct\n",
      "   </h2>\n",
      "   <p>\n",
      "    We adhere to PyData’s code of conduct, here’s its short version:\n",
      "   </p>\n",
      "   <blockquote>\n",
      "    <p>\n",
      "     Be kind to others. Do not insult or put down others. Behave professionally. \n",
      "Remember that harassment and sexist, racist, or exclusionary jokes and language are not \n",
      "appropriate for PyData.\n",
      "    </p>\n",
      "    <p>\n",
      "     All communication should be appropriate for a professional audience including \n",
      "people of many different backgrounds. Sexual language and imagery is not appropriate.\n",
      "    </p>\n",
      "    <p>\n",
      "     PyData is dedicated to providing a harassment-free event experience for everyone, regardless of \n",
      "gender, sexual orientation, gender identity, and expression, disability, physical appearance, \n",
      "body size, race, or religion. We do not tolerate harassment of participants in any form.\n",
      "    </p>\n",
      "    <p>\n",
      "     Thank you for helping make this a welcoming, friendly community for all.\n",
      "    </p>\n",
      "   </blockquote>\n",
      "   <p>\n",
      "    You can find more information at\n",
      "    <a class=\"pydata\" href=\"https://pydata.org/code-of-conduct/\">\n",
      "     pydata.org/code-of-conduct/\n",
      "    </a>\n",
      "   </p>\n",
      "  </div>\n",
      " </body>\n",
      "</html>\n",
      "\n"
     ]
    }
   ],
   "source": [
    "soup = BeautifulSoup(html_doc, 'html.parser')\n",
    "# Vytiskneme hezky zformatované HTML\n",
    "print(soup.prettify())"
   ]
  },
  {
   "cell_type": "code",
   "execution_count": 9,
   "metadata": {},
   "outputs": [
    {
     "data": {
      "text/plain": [
       "<title>PyData Prague | pydata.cz</title>"
      ]
     },
     "execution_count": 9,
     "metadata": {},
     "output_type": "execute_result"
    }
   ],
   "source": [
    "soup.title"
   ]
  },
  {
   "cell_type": "code",
   "execution_count": 10,
   "metadata": {},
   "outputs": [
    {
     "data": {
      "text/plain": [
       "<h1><a href=\"https://pydata.cz/\">pydata.cz</a></h1>"
      ]
     },
     "execution_count": 10,
     "metadata": {},
     "output_type": "execute_result"
    }
   ],
   "source": [
    "# ukáže první element typu h1 \n",
    "soup.h1"
   ]
  },
  {
   "cell_type": "code",
   "execution_count": 11,
   "metadata": {},
   "outputs": [
    {
     "data": {
      "text/plain": [
       "'h1'"
      ]
     },
     "execution_count": 11,
     "metadata": {},
     "output_type": "execute_result"
    }
   ],
   "source": [
    "soup.h1.name"
   ]
  },
  {
   "cell_type": "code",
   "execution_count": 12,
   "metadata": {},
   "outputs": [
    {
     "data": {
      "text/plain": [
       "'div'"
      ]
     },
     "execution_count": 12,
     "metadata": {},
     "output_type": "execute_result"
    }
   ],
   "source": [
    "soup.h1.parent.name"
   ]
  },
  {
   "cell_type": "code",
   "execution_count": 13,
   "metadata": {},
   "outputs": [
    {
     "data": {
      "text/plain": [
       "'pydata.cz'"
      ]
     },
     "execution_count": 13,
     "metadata": {},
     "output_type": "execute_result"
    }
   ],
   "source": [
    "soup.h1.string"
   ]
  },
  {
   "cell_type": "code",
   "execution_count": 14,
   "metadata": {},
   "outputs": [
    {
     "data": {
      "text/plain": [
       "<h2 id=\"code-of-conduct\">Code of Conduct</h2>"
      ]
     },
     "execution_count": 14,
     "metadata": {},
     "output_type": "execute_result"
    }
   ],
   "source": [
    "soup.h2"
   ]
  },
  {
   "cell_type": "code",
   "execution_count": 15,
   "metadata": {},
   "outputs": [
    {
     "data": {
      "text/plain": [
       "'code-of-conduct'"
      ]
     },
     "execution_count": 15,
     "metadata": {},
     "output_type": "execute_result"
    }
   ],
   "source": [
    "soup.h2['id']"
   ]
  },
  {
   "cell_type": "code",
   "execution_count": 16,
   "metadata": {},
   "outputs": [
    {
     "data": {
      "text/plain": [
       "[<a href=\"https://pydata.cz/\">pydata.cz</a>,\n",
       " <a class=\"pydata\" href=\"https://pydata.org/\">PyData</a>,\n",
       " <a href=\"https://numfocus.org/\">NumFOCUS</a>,\n",
       " <a class=\"pydata\" href=\"https://pydata.org/code-of-conduct/\">pydata.org/code-of-conduct/</a>]"
      ]
     },
     "execution_count": 16,
     "metadata": {},
     "output_type": "execute_result"
    }
   ],
   "source": [
    "# najde všechny odkazy\n",
    "links = soup.find_all('a')\n",
    "links"
   ]
  },
  {
   "cell_type": "code",
   "execution_count": 17,
   "metadata": {},
   "outputs": [
    {
     "data": {
      "text/plain": [
       "'https://pydata.cz/'"
      ]
     },
     "execution_count": 17,
     "metadata": {},
     "output_type": "execute_result"
    }
   ],
   "source": [
    "links[0]['href']"
   ]
  },
  {
   "cell_type": "code",
   "execution_count": 18,
   "metadata": {},
   "outputs": [
    {
     "data": {
      "text/plain": [
       "'pydata.cz'"
      ]
     },
     "execution_count": 18,
     "metadata": {},
     "output_type": "execute_result"
    }
   ],
   "source": [
    "links[0].text"
   ]
  },
  {
   "cell_type": "code",
   "execution_count": 19,
   "metadata": {},
   "outputs": [
    {
     "data": {
      "text/plain": [
       "<h1 id=\"pydata-prague\">PyData Prague</h1>"
      ]
     },
     "execution_count": 19,
     "metadata": {},
     "output_type": "execute_result"
    }
   ],
   "source": [
    "soup.find(id=\"pydata-prague\")"
   ]
  },
  {
   "cell_type": "markdown",
   "metadata": {},
   "source": [
    "Pokud hledáme podle třídy, memůžeme použít ``soup.find(class=\"pydata\")``, protože ``class`` je v Pythonu klíčové slovo. Musíme použít ``class_``"
   ]
  },
  {
   "cell_type": "code",
   "execution_count": 20,
   "metadata": {},
   "outputs": [
    {
     "data": {
      "text/plain": [
       "<a class=\"pydata\" href=\"https://pydata.org/\">PyData</a>"
      ]
     },
     "execution_count": 20,
     "metadata": {},
     "output_type": "execute_result"
    }
   ],
   "source": [
    "soup.find(class_=\"pydata\")"
   ]
  },
  {
   "cell_type": "markdown",
   "metadata": {},
   "source": [
    "``class`` můžeme taky napsat jako klíč v parametru ``attrs``:"
   ]
  },
  {
   "cell_type": "code",
   "execution_count": 21,
   "metadata": {},
   "outputs": [
    {
     "data": {
      "text/plain": [
       "<a class=\"pydata\" href=\"https://pydata.org/\">PyData</a>"
      ]
     },
     "execution_count": 21,
     "metadata": {},
     "output_type": "execute_result"
    }
   ],
   "source": [
    "soup.find(attrs={'class':'pydata'})"
   ]
  },
  {
   "cell_type": "markdown",
   "metadata": {},
   "source": [
    "### Cvičení\n"
   ]
  },
  {
   "cell_type": "markdown",
   "metadata": {},
   "source": [
    "Vyberte odstavec s id ``description``."
   ]
  },
  {
   "cell_type": "code",
   "execution_count": null,
   "metadata": {},
   "outputs": [],
   "source": []
  },
  {
   "cell_type": "markdown",
   "metadata": {},
   "source": [
    "Vyberte všechny odkazy s třídou ``pydata``"
   ]
  },
  {
   "cell_type": "code",
   "execution_count": null,
   "metadata": {},
   "outputs": [],
   "source": []
  },
  {
   "cell_type": "markdown",
   "metadata": {},
   "source": [
    "## Nástroje v prohlížeči ?"
   ]
  },
  {
   "cell_type": "markdown",
   "metadata": {},
   "source": [
    "## Requests/urllib2 ?"
   ]
  },
  {
   "cell_type": "markdown",
   "metadata": {},
   "source": [
    "## Příklad"
   ]
  },
  {
   "cell_type": "markdown",
   "metadata": {},
   "source": [
    "## Jak na JavaScript"
   ]
  },
  {
   "cell_type": "code",
   "execution_count": null,
   "metadata": {},
   "outputs": [],
   "source": []
  }
 ],
 "metadata": {
  "kernelspec": {
   "display_name": "Python 3",
   "language": "python",
   "name": "python3"
  },
  "language_info": {
   "codemirror_mode": {
    "name": "ipython",
    "version": 3
   },
   "file_extension": ".py",
   "mimetype": "text/x-python",
   "name": "python",
   "nbconvert_exporter": "python",
   "pygments_lexer": "ipython3",
   "version": "3.7.3"
  }
 },
 "nbformat": 4,
 "nbformat_minor": 2
}
