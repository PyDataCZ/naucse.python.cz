{
 "cells": [
  {
   "cell_type": "code",
   "execution_count": 4,
   "metadata": {},
   "outputs": [],
   "source": [
    "from IPython.display import Image"
   ]
  },
  {
   "cell_type": "markdown",
   "metadata": {},
   "source": [
    "# Co je API?"
   ]
  },
  {
   "cell_type": "markdown",
   "metadata": {},
   "source": [
    "## Klient a server"
   ]
  },
  {
   "cell_type": "markdown",
   "metadata": {},
   "source": [
    "API je dohoda mezi dvěma stranami o tom, jak si mezi sebou budou povídat. Těmto stranám se říká klient a server.\n",
    "\n",
    "**Server** je ta strana, která má zajímavé informace, nebo něco zajímavého umí, a umožňuje ostatním na internetu, aby toho využili. Server je program, který donekonečna běží na nějakém počítači a je připraven všem ostatním na internetu odpovídat na požadavky.\n",
    "\n",
    "**Klient** je program, který posílá požadavky na server a z odpovědí se snaží poskládat něco užitečného. Klient je tedy mobilní aplikace s mráčky a sluníčky nebo náš prohlížeč, v němž si můžeme otevřít kurzovní lístek ČNB. Je to ale i Heureka robot, který za Heureku načítá informace o zboží v e-shopech."
   ]
  },
  {
   "cell_type": "markdown",
   "metadata": {},
   "source": [
    "![title](giphy.gif)"
   ]
  },
  {
   "cell_type": "markdown",
   "metadata": {},
   "source": [
    "# Základní pojmy"
   ]
  },
  {
   "cell_type": "markdown",
   "metadata": {},
   "source": [
    "Než se pustíme do tvorby klienta, projdeme si některé základní pojmy kolem API."
   ]
  },
  {
   "cell_type": "markdown",
   "metadata": {},
   "source": [
    "## Protokol"
   ]
  },
  {
   "cell_type": "markdown",
   "metadata": {},
   "source": [
    "Celé dorozumívání mezi klientem a serverem se odehrává přes tzv. protokol. To není nic jiného, než smluvený způsob, co bude kdo komu posílat a jakou strukturu to bude mít. Protokolů je v počítačovém světě spousta, ale nás bude zajímat jen HTTP, protože ten využívají webová API a ostatně i web samotný. Není to náhoda, že adresa internetových stránek v prohlížeči zpravidla začíná http:// (nebo https://)."
   ]
  },
  {
   "cell_type": "markdown",
   "metadata": {},
   "source": [
    "### HTTP"
   ]
  },
  {
   "cell_type": "markdown",
   "metadata": {},
   "source": [
    "Dorozumívání mezi klientem a serverem probíhá formou požadavku (HTTP request), jenž posílá klient na server, a odpovědi (HTTP response), kterou server posílá zpět. Každá z těchto zpráv má své náležitosti."
   ]
  },
  {
   "cell_type": "markdown",
   "metadata": {},
   "source": [
    "### Požadavek"
   ]
  },
  {
   "cell_type": "markdown",
   "metadata": {},
   "source": [
    "+ **metoda** (HTTP method): Například metoda GET má tu vlastnost, že provádí pouze čtení a nemůžeme s ní tedy přes API něco změnit - je tzv. bezpečná. Další metody PUT, POST a DELETE\n",
    "+ **adresa s parametry** (URL s query parameters):  Na konci běžné URL adresy otazník a za ním parametry. Pokud je parametrů víc, oddělují se znakem &.\n",
    "        http://api.example.com/movies/\n",
    "        http://api.example.com/movies?genre=drama&duration=150 \n",
    "+ **hlavičky** (headers): Hlavičky jsou vlastně jen další parametry. Liší se v tom, že je neposíláme jako součást adresy a na rozdíl od URL parametrů podléhají nějaké standardizaci a konvencím.\n",
    "+ **tělo** (body): Tělo zprávy je krabice, kterou s požadavkem posíláme, a do které můžeme vložit, co chceme. Tedy nejlépe něco, čemu bude API na druhé straně rozumět. Tělo může být prázdné. V těle můžeme poslat obyčejný text, data v nějakém formátu, ale klidně i obrázek. Aby API na druhé straně vědělo, co v krabici je a jak ji má rozbalovat, je potřeba s tělem zpravidla posílat hlavičku Content-Type.\n",
    "\n",
    "Musíme vyčíst z dokumentace konkrétního API, jak požadavek správně poskládat."
   ]
  },
  {
   "cell_type": "code",
   "execution_count": null,
   "metadata": {},
   "outputs": [],
   "source": [
    "### Odpověď"
   ]
  },
  {
   "cell_type": "markdown",
   "metadata": {},
   "source": [
    "+ **status kód** (status code): Číselný kód, kterým API dává najevo, jak požadavek zpracovalo. Podle první číslice kódu se kódy dělí na různé kategorie:\n",
    "        1xx - informativní odpověď (požadavek byl přijat, ale jeho zpracování pokračuje)\n",
    "        2xx - požadavek byl v pořádku přijat a zpracován\n",
    "        3xx - přesměrování, klient potřebuje poslat další požadavek jinam, aby se dobral odpovědi\n",
    "        4xx - chyba na straně klienta (špatně jsme poskládali dotaz)\n",
    "        5xx - chyba na straně serveru (API nezvládlo odpovědět)\n",
    "+ **hlavičky** (headers): Informace o požadavku jako např. datum zpracování, formát odpovědi...\n",
    "+ **tělo** (body): Tělo odpovědi - to, co nás zajímá většinou nejvíc"
   ]
  },
  {
   "cell_type": "markdown",
   "metadata": {},
   "source": [
    "### Formáty"
   ]
  },
  {
   "cell_type": "code",
   "execution_count": null,
   "metadata": {},
   "outputs": [],
   "source": [
    "Tělo může být v libovolném formátu. Může to být text, HTML, obrázek, PDF soubor, nebo cokoliv jiného.\n",
    "Hodnotě hlavičky Content-Type se dávají různé názvy: content type, media type, MIME type. \n",
    "Nejčastěji se skládá jen z typu a podtypu, které se oddělí lomítkem. Několik příkladů:\n",
    "+ text/plain - obyčejný text\n",
    "+ text/html - HTML\n",
    "+ text/csv - CSV\n",
    "+ image/gif - GIF obrázek\n",
    "+ image/jpeg - JPEG obrázek\n",
    "+ image/png - PNG obrázek\n",
    "+ application/json - JSON\n",
    "+ application/xml nebo text/xml - XML\n"
   ]
  },
  {
   "cell_type": "markdown",
   "metadata": {},
   "source": [
    "### Formát JSON"
   ]
  },
  {
   "cell_type": "markdown",
   "metadata": {},
   "source": [
    "JSON vznikl kolem roku 2000 a brzy se uchytil jako stručnější náhrada za XML, především na webu a ve webových API. Dnes je to **nejspíš nejoblíbenější formát pro obecná strukturovaná data vůbec**. Jeho autorem je Douglas Crockford, jeden z lidí podílejících se na vývoji jazyka JavaScript."
   ]
  },
  {
   "cell_type": "markdown",
   "metadata": {},
   "source": [
    "#### JSON je datový formát NE datový typ!"
   ]
  },
  {
   "cell_type": "markdown",
   "metadata": {},
   "source": [
    "Vstupem je libovolná datová struktura:\n",
    "+ číslo\n",
    "+ řetězec\n",
    "+ boolean\n",
    "+ pole\n",
    "+ objekt\n",
    "+ null"
   ]
  },
  {
   "cell_type": "markdown",
   "metadata": {},
   "source": [
    "![title](null.jpg)"
   ]
  },
  {
   "cell_type": "markdown",
   "metadata": {},
   "source": [
    "Jazyk Python (a mnoho dalších) má podporu pro práci s JSON v základní instalaci. JSON je navržený tak, aby připomínal objekt jazyka JavaScript. Začátečníkům se pak snadno stane, že neví, co je co.\n",
    "\n",
    "V případě jazyka Python si lze JSON splést především se slovníkem(dictionary). Je ale potřeba si uvědomit, že JSON je text, který může být uložený do souboru nebo odeslaný přes HTTP, ale nelze jej přímo použít při programování. Musíme jej vždy nejdříve zpracovat na slovníky a seznamy."
   ]
  },
  {
   "cell_type": "code",
   "execution_count": 15,
   "metadata": {},
   "outputs": [],
   "source": [
    "import json"
   ]
  },
  {
   "cell_type": "code",
   "execution_count": 16,
   "metadata": {},
   "outputs": [],
   "source": [
    "#klíč \"people\" s polem objektů, které má vlastní klíče\n",
    "people_info = '''\n",
    "{\n",
    "    \"people\": [\n",
    "    {\n",
    "        \"name\": \"John Smith\",\n",
    "        \"phone\": \"555-246-999\",\n",
    "        \"email\": [\"johns@gmail.com\", \"jsmith@gmail.com\"],\n",
    "        \"is_employee\": false\n",
    "    },\n",
    "    {\n",
    "        \"name\": \"Jane Doe\",\n",
    "        \"phone\": \"665-296-659\",\n",
    "        \"email\": [\"janed@gmail.com\", \"djane@gmail.com\"],\n",
    "        \"is_employee\": true\n",
    "    }\n",
    "  ]\n",
    "}\n",
    "'''"
   ]
  },
  {
   "cell_type": "code",
   "execution_count": 17,
   "metadata": {},
   "outputs": [],
   "source": [
    "#json.loads převede řetězec na objekt\n",
    "data = json.loads(people_info)"
   ]
  },
  {
   "cell_type": "code",
   "execution_count": 18,
   "metadata": {},
   "outputs": [
    {
     "name": "stdout",
     "output_type": "stream",
     "text": [
      "{'people': [{'name': 'John Smith', 'phone': '555-246-999', 'email': ['johns@gmail.com', 'jsmith@gmail.com'], 'is_employee': False}, {'name': 'Jane Doe', 'phone': '665-296-659', 'email': ['janed@gmail.com', 'djane@gmail.com'], 'is_employee': True}]}\n"
     ]
    }
   ],
   "source": [
    "print(data)"
   ]
  },
  {
   "cell_type": "code",
   "execution_count": 19,
   "metadata": {},
   "outputs": [
    {
     "name": "stdout",
     "output_type": "stream",
     "text": [
      "<class 'dict'>\n"
     ]
    }
   ],
   "source": [
    "print(type(data))"
   ]
  },
  {
   "cell_type": "code",
   "execution_count": 20,
   "metadata": {},
   "outputs": [
    {
     "name": "stdout",
     "output_type": "stream",
     "text": [
      "<class 'list'>\n"
     ]
    }
   ],
   "source": [
    "print(type(data['people']))"
   ]
  },
  {
   "cell_type": "code",
   "execution_count": 21,
   "metadata": {},
   "outputs": [
    {
     "name": "stdout",
     "output_type": "stream",
     "text": [
      "<class 'dict'>\n"
     ]
    }
   ],
   "source": [
    "print(type(data['people'][0]))"
   ]
  },
  {
   "cell_type": "code",
   "execution_count": 22,
   "metadata": {},
   "outputs": [
    {
     "name": "stdout",
     "output_type": "stream",
     "text": [
      "[{'name': 'John Smith', 'phone': '555-246-999', 'email': ['johns@gmail.com', 'jsmith@gmail.com'], 'is_employee': False}, {'name': 'Jane Doe', 'phone': '665-296-659', 'email': ['janed@gmail.com', 'djane@gmail.com'], 'is_employee': True}]\n"
     ]
    }
   ],
   "source": [
    "print(data['people'])"
   ]
  },
  {
   "cell_type": "code",
   "execution_count": 23,
   "metadata": {},
   "outputs": [
    {
     "name": "stdout",
     "output_type": "stream",
     "text": [
      "{'name': 'John Smith', 'phone': '555-246-999', 'email': ['johns@gmail.com', 'jsmith@gmail.com'], 'is_employee': False}\n"
     ]
    }
   ],
   "source": [
    "print(data['people'][0])"
   ]
  },
  {
   "cell_type": "code",
   "execution_count": 24,
   "metadata": {},
   "outputs": [
    {
     "name": "stdout",
     "output_type": "stream",
     "text": [
      "John Smith\n"
     ]
    }
   ],
   "source": [
    "print(data['people'][0]['name'])"
   ]
  },
  {
   "cell_type": "markdown",
   "metadata": {},
   "source": [
    "# Práce s API klienty"
   ]
  },
  {
   "cell_type": "markdown",
   "metadata": {},
   "source": [
    "## Obecný klient"
   ]
  },
  {
   "cell_type": "markdown",
   "metadata": {},
   "source": [
    "Mobilní aplikace na počasí je klient, který někdo vytvořil pro jeden konkrétní úkol a pracovat umí jen s jedním konkrétním API. Takový klient je užitečný, pokud chceme akorát vědět jaké je počasí, ale už méně, pokud si chceme zkoušet práci s více API zároveň. Proto existují obecní klienti."
   ]
  },
  {
   "cell_type": "markdown",
   "metadata": {},
   "source": [
    "### Prohlížeč jako obecný klient"
   ]
  },
  {
   "cell_type": "markdown",
   "metadata": {},
   "source": [
    "Pokud z API chceme pouze číst a API nevyžaduje žádné přihlašování, můžeme jej vyzkoušet i v prohlížeči, jako by to byla webová stránka. Pokud v prohlížeči přejdeme na odkaz Stažení v textovém formátu, uvidíme odpověď z API serveru."
   ]
  },
  {
   "cell_type": "markdown",
   "metadata": {},
   "source": [
    "https://www.cnb.cz/cs/financni_trhy/devizovy_trh/kurzy_devizoveho_trhu/denni_kurz.txt"
   ]
  },
  {
   "cell_type": "markdown",
   "metadata": {},
   "source": [
    "### Obecný klient v příkazové řádce: curl"
   ]
  },
  {
   "cell_type": "markdown",
   "metadata": {},
   "source": [
    "Pokud se k API budeme potřebovat přihlásit nebo s ním zkoušet dělat složitější věci než jen čtení, nebude nám prohlížeč stačit.\n",
    "\n",
    "Proto je dobré se naučit používat program curl. Spouští se v příkazové řádce a je to švýcarský nůž všech, kteří se pohybují kolem webových API."
   ]
  },
  {
   "cell_type": "markdown",
   "metadata": {},
   "source": [
    "#### Příklady s curl"
   ]
  },
  {
   "cell_type": "markdown",
   "metadata": {},
   "source": [
    "![title](curl.jpg)"
   ]
  },
  {
   "cell_type": "markdown",
   "metadata": {},
   "source": [
    "Když příkaz zadáme a spustíme, říkáme tím programu curl, že má poslat požadavek na uvedenou adresu a vypsat to, co mu ČNB pošle zpět."
   ]
  },
  {
   "cell_type": "markdown",
   "metadata": {},
   "source": [
    "![title](curl-return.jpg)"
   ]
  },
  {
   "cell_type": "markdown",
   "metadata": {},
   "source": [
    "## Vlastní klient"
   ]
  },
  {
   "cell_type": "markdown",
   "metadata": {},
   "source": [
    "Obecného klienta musí ovládat člověk (ruční nastavování parametrů, pravidelné spuštění na základě podmínek či času atd.). To je přesně to, co potřebujeme, když si chceme nějaké API vyzkoušet, ale celý smysl API je v tom, aby je programy mohly využívat automaticky.\n",
    "Pokud chceme naprogramovat klienta pro konkrétní úkol, můžeme ve většině jazyků použít buď vestavěnou, nebo doinstalovanou knihovnu. V případě jazyka Python použijeme knihovnu Requests."
   ]
  },
  {
   "cell_type": "markdown",
   "metadata": {},
   "source": [
    "## Práce s veřejným API\n",
    "Vyzkoušíme si dotazy na API s daty zločinnosti v UK, která jsou dostupná na měsiční bázi dle přibližné lokace (viz https://data.police.uk/docs/method/stops-at-location/)"
   ]
  },
  {
   "cell_type": "code",
   "execution_count": 25,
   "metadata": {},
   "outputs": [],
   "source": [
    "import requests"
   ]
  },
  {
   "cell_type": "code",
   "execution_count": 26,
   "metadata": {},
   "outputs": [],
   "source": [
    "api_url = \"https://data.police.uk/api/stops-street\""
   ]
  },
  {
   "cell_type": "code",
   "execution_count": 213,
   "metadata": {},
   "outputs": [],
   "source": [
    "# nastavení parametrů volání API dle dokumentace https://data.police.uk/docs/method/stops-at-location/\n",
    "# jako lokaci jsem vybral nechvalně proslulý obvod Hackney v Londýně :)\n",
    "\n",
    "params = {\"lat\" : \"51.5487158\",\n",
    "          \"lng\" : \"-0.0613842\",\n",
    "          \"date\" : \"2018-06\"\n",
    "    \n",
    "}"
   ]
  },
  {
   "cell_type": "code",
   "execution_count": 214,
   "metadata": {},
   "outputs": [],
   "source": [
    "#pomocí get vytvoříme objekt response\n",
    "response = requests.get(api_url,\n",
    "                        params = params\n",
    ")"
   ]
  },
  {
   "cell_type": "code",
   "execution_count": 215,
   "metadata": {},
   "outputs": [
    {
     "name": "stdout",
     "output_type": "stream",
     "text": [
      "First 100 characters of data are\n",
      "[{\"age_range\":\"18-24\",\"outcome\":\"Community resolution\",\"involved_person\":true,\"self_defined_ethnicit\n"
     ]
    }
   ],
   "source": [
    "# pokud je status kód jiný, než 200 (success), vyhodí skript chybu a chybový status code\n",
    "if response.status_code != 200:\n",
    "    print('Failed to get data:', response.status_code)\n",
    "else:\n",
    "    print('First 100 characters of data are')\n",
    "    print(response.text[:100])"
   ]
  },
  {
   "cell_type": "code",
   "execution_count": 79,
   "metadata": {},
   "outputs": [
    {
     "data": {
      "text/plain": [
       "{'Date': 'Tue, 31 Dec 2019 09:15:32 GMT', 'Content-Type': 'application/json', 'Content-Length': '5687', 'Connection': 'keep-alive', 'Vary': 'Accept-Encoding', 'Access-Control-Allow-Origin': '*', 'Content-Encoding': 'gzip', 'Strict-Transport-Security': 'max-age=31536000;', 'X-XSS-Protection': '1; mode=block', 'X-Content-Type-Options': 'nosniff', 'X-Frame-Options': 'DENY', 'Content-Security-Policy': \"default-src 'self' 'unsafe-inline' ; script-src 'self' data: www.google-analytics.com ajax.googleapis.com 'unsafe-inline';\", 'Referer-Policy': 'strict-origin-when-cross-origin'}"
      ]
     },
     "execution_count": 79,
     "metadata": {},
     "output_type": "execute_result"
    }
   ],
   "source": [
    "# hlavička s doplňujícími informacemi o opdovědi\n",
    "response.headers"
   ]
  },
  {
   "cell_type": "code",
   "execution_count": 83,
   "metadata": {},
   "outputs": [
    {
     "data": {
      "text/plain": [
       "'application/json'"
      ]
     },
     "execution_count": 83,
     "metadata": {},
     "output_type": "execute_result"
    }
   ],
   "source": [
    "response.headers['content-type']"
   ]
  },
  {
   "cell_type": "code",
   "execution_count": 96,
   "metadata": {},
   "outputs": [
    {
     "data": {
      "text/plain": [
       "b'[{\"age_range\":\"18-24\",\"outcome\":\"Community resolution\",\"involved_person\":true,\"self_defined_ethnicity\":\"Black\\\\/African\\\\/Caribbean\\\\/Black British - Any other Black\\\\/African\\\\/Caribbean background\",\"gend'"
      ]
     },
     "execution_count": 96,
     "metadata": {},
     "output_type": "execute_result"
    }
   ],
   "source": [
    "# obsah odpovědi je řetězec bytů\n",
    "response.content[:200]"
   ]
  },
  {
   "cell_type": "code",
   "execution_count": 90,
   "metadata": {},
   "outputs": [
    {
     "ename": "TypeError",
     "evalue": "'Response' object does not support indexing",
     "output_type": "error",
     "traceback": [
      "\u001b[1;31m---------------------------------------------------------------------------\u001b[0m",
      "\u001b[1;31mTypeError\u001b[0m                                 Traceback (most recent call last)",
      "\u001b[1;32m<ipython-input-90-ec7ac01c28cf>\u001b[0m in \u001b[0;36m<module>\u001b[1;34m()\u001b[0m\n\u001b[1;32m----> 1\u001b[1;33m \u001b[0mresponse\u001b[0m\u001b[1;33m[\u001b[0m\u001b[1;36m0\u001b[0m\u001b[1;33m]\u001b[0m\u001b[1;33m[\u001b[0m\u001b[1;34m\"age_range\"\u001b[0m\u001b[1;33m]\u001b[0m\u001b[1;33m\u001b[0m\u001b[0m\n\u001b[0m",
      "\u001b[1;31mTypeError\u001b[0m: 'Response' object does not support indexing"
     ]
    }
   ],
   "source": [
    "# vypadá jako seznam(list) nebo slovník(dictionary), ale nechová se tak\n",
    "response[0][\"age_range\"]"
   ]
  },
  {
   "cell_type": "code",
   "execution_count": 103,
   "metadata": {},
   "outputs": [],
   "source": [
    "# převedeme řetězec bytů metodou .json() z knihovny requests\n",
    "data = response.json()"
   ]
  },
  {
   "cell_type": "code",
   "execution_count": 104,
   "metadata": {},
   "outputs": [
    {
     "data": {
      "text/plain": [
       "list"
      ]
     },
     "execution_count": 104,
     "metadata": {},
     "output_type": "execute_result"
    }
   ],
   "source": [
    "# ověříme datový typ\n",
    "type(data)"
   ]
  },
  {
   "cell_type": "code",
   "execution_count": 105,
   "metadata": {},
   "outputs": [
    {
     "data": {
      "text/plain": [
       "'18-24'"
      ]
     },
     "execution_count": 105,
     "metadata": {},
     "output_type": "execute_result"
    }
   ],
   "source": [
    "# nyní můžeme přistupovat k \"data\" jako ke klasickému seznamu (list)\n",
    "data[0][\"age_range\"]"
   ]
  },
  {
   "cell_type": "code",
   "execution_count": 31,
   "metadata": {},
   "outputs": [],
   "source": [
    "# převední seznamu(list) na řetězec s parametry pro zobrazení struktury v čitelné podobě\n",
    "datas = json.dumps(data, sort_keys=True, indent=4)"
   ]
  },
  {
   "cell_type": "code",
   "execution_count": 111,
   "metadata": {},
   "outputs": [
    {
     "name": "stdout",
     "output_type": "stream",
     "text": [
      "[\n",
      "    {\n",
      "        \"age_range\": \"18-24\",\n",
      "        \"datetime\": \"2018-06-01T09:45:00+00:00\",\n",
      "        \"gender\": \"Male\",\n",
      "        \"involved_person\": true,\n",
      "        \"legislation\": \"Misuse of Drugs Act 1971 (section 23)\",\n",
      "        \"location\": {\n",
      "            \"latitude\": \"51.551330\",\n",
      "            \"longitude\": \"-0.068037\",\n",
      "            \"street\": {\n",
      "                \"id\": 968551,\n",
      "                \"name\": \"On or near Downs Park Road\"\n",
      "            }\n",
      "        },\n",
      "        \"object_of_search\": \"Controlled drugs\",\n",
      "        \"officer_defined_ethnicity\": \"Black\",\n",
      "        \"operation\": false,\n",
      "        \"operation_name\": null,\n",
      "        \"outcome\": \"Community resolution\",\n",
      "        \"outcome_linked_to_object_of_search\": null,\n",
      "        \"outcome_object\": {\n",
      "            \"id\": \"bu-community-resolution\",\n",
      "            \"name\": \"Community resolution\"\n",
      "        },\n",
      "        \"removal_of_more_than_outer_clothing\": null,\n",
      "        \"self_defined_ethnicity\": \"Black/African/Caribbean/Black British - Any other Black/African/Caribbean background\",\n",
      "        \"type\": \"Person search\"\n",
      "    },\n",
      "    {\n",
      "        \"age_range\": \"18-24\",\n",
      "        \"datetime\": \"2018-06-02T02:37:00+00:00\",\n",
      "        \"gender\": \"Male\",\n",
      "        \"involved_person\": true,\n",
      "        \"legislation\": \"Misuse of Drugs Act 1971 (section 23)\",\n",
      "        \"location\": {\n",
      "            \"latitude\": \"51.549626\",\n",
      "            \"longitude\": \"-0.054738\",\n",
      "            \"street\": {\n",
      "                \"id\": 968830,\n",
      "                \"name\": \"On or near Dalston Lane\"\n",
      "            }\n",
      "        },\n",
      "        \"object_of_search\": \"Controlled drugs\",\n",
      "        \"officer_defined_ethnicity\": \"Black\",\n",
      "        \"operation\": false,\n",
      "        \"operat\n"
     ]
    }
   ],
   "source": [
    "print(datas[:1600])"
   ]
  },
  {
   "cell_type": "code",
   "execution_count": 145,
   "metadata": {},
   "outputs": [],
   "source": [
    "# cyklus, kterým přistupujeme k věkovému rozpětí lidí lustrovaných policií\n",
    "age_range = []\n",
    "\n",
    "for i in data:\n",
    "    age = i[\"age_range\"]\n",
    "    #print('{}'.format(age))\n",
    "    age_range.append(age)"
   ]
  },
  {
   "cell_type": "code",
   "execution_count": 144,
   "metadata": {},
   "outputs": [],
   "source": [
    "#type(data[0])"
   ]
  },
  {
   "cell_type": "code",
   "execution_count": 141,
   "metadata": {},
   "outputs": [],
   "source": [
    "# cyklus, kterým přistupujeme k id ulice, kde došlo lustraci podezřelé(ho)\n",
    "street_id = []\n",
    "\n",
    "for i in data:\n",
    "    street = i[\"location\"][\"street\"][\"id\"]\n",
    "    #print('{}'.format(street))\n",
    "    street_id.append(street)\n",
    "    "
   ]
  },
  {
   "cell_type": "code",
   "execution_count": 149,
   "metadata": {},
   "outputs": [],
   "source": [
    "import pandas as pd"
   ]
  },
  {
   "cell_type": "code",
   "execution_count": 150,
   "metadata": {},
   "outputs": [],
   "source": [
    "# spojíme seznamy(lists) do dataframe\n",
    "df_from_lists = pd.DataFrame(list(zip(age_range, street_id)), \n",
    "               columns =['age_range', 'street_id'])"
   ]
  },
  {
   "cell_type": "code",
   "execution_count": 151,
   "metadata": {},
   "outputs": [
    {
     "data": {
      "text/html": [
       "<div>\n",
       "<style scoped>\n",
       "    .dataframe tbody tr th:only-of-type {\n",
       "        vertical-align: middle;\n",
       "    }\n",
       "\n",
       "    .dataframe tbody tr th {\n",
       "        vertical-align: top;\n",
       "    }\n",
       "\n",
       "    .dataframe thead th {\n",
       "        text-align: right;\n",
       "    }\n",
       "</style>\n",
       "<table border=\"1\" class=\"dataframe\">\n",
       "  <thead>\n",
       "    <tr style=\"text-align: right;\">\n",
       "      <th></th>\n",
       "      <th>age_range</th>\n",
       "      <th>street_id</th>\n",
       "    </tr>\n",
       "  </thead>\n",
       "  <tbody>\n",
       "    <tr>\n",
       "      <th>0</th>\n",
       "      <td>18-24</td>\n",
       "      <td>968551</td>\n",
       "    </tr>\n",
       "    <tr>\n",
       "      <th>1</th>\n",
       "      <td>18-24</td>\n",
       "      <td>968830</td>\n",
       "    </tr>\n",
       "    <tr>\n",
       "      <th>2</th>\n",
       "      <td>over 34</td>\n",
       "      <td>968830</td>\n",
       "    </tr>\n",
       "    <tr>\n",
       "      <th>3</th>\n",
       "      <td>18-24</td>\n",
       "      <td>968740</td>\n",
       "    </tr>\n",
       "    <tr>\n",
       "      <th>4</th>\n",
       "      <td>10-17</td>\n",
       "      <td>964026</td>\n",
       "    </tr>\n",
       "  </tbody>\n",
       "</table>\n",
       "</div>"
      ],
      "text/plain": [
       "  age_range  street_id\n",
       "0     18-24     968551\n",
       "1     18-24     968830\n",
       "2   over 34     968830\n",
       "3     18-24     968740\n",
       "4     10-17     964026"
      ]
     },
     "execution_count": 151,
     "metadata": {},
     "output_type": "execute_result"
    }
   ],
   "source": [
    "df_from_lists.head()"
   ]
  },
  {
   "cell_type": "code",
   "execution_count": 152,
   "metadata": {},
   "outputs": [
    {
     "data": {
      "text/plain": [
       "<matplotlib.axes._subplots.AxesSubplot at 0x22ceceffe48>"
      ]
     },
     "execution_count": 152,
     "metadata": {},
     "output_type": "execute_result"
    },
    {
     "data": {
      "image/png": "[encoded data removed]",
      "text/plain": [
       "<Figure size 432x288 with 1 Axes>"
      ]
     },
     "metadata": {},
     "output_type": "display_data"
    }
   ],
   "source": [
    "# jakou věkovou skupinu lustrovala policie nejčastěji?\n",
    "df_from_lists[\"age_range\"].value_counts().plot.bar()"
   ]
  },
  {
   "cell_type": "markdown",
   "metadata": {},
   "source": [
    "### Json_normalize\n",
    "aneb jak obejít custom funkce "
   ]
  },
  {
   "cell_type": "code",
   "execution_count": 36,
   "metadata": {},
   "outputs": [],
   "source": [
    "# naimportování json_normalize z knihovny pandas\n",
    "from pandas.io.json import json_normalize"
   ]
  },
  {
   "cell_type": "code",
   "execution_count": 37,
   "metadata": {},
   "outputs": [],
   "source": [
    "#vytvoření dataframe pomocí json_normalize z knihovny pandas\n",
    "norm_data = json_normalize(data)"
   ]
  },
  {
   "cell_type": "code",
   "execution_count": 41,
   "metadata": {},
   "outputs": [
    {
     "data": {
      "text/html": [
       "<div>\n",
       "<style scoped>\n",
       "    .dataframe tbody tr th:only-of-type {\n",
       "        vertical-align: middle;\n",
       "    }\n",
       "\n",
       "    .dataframe tbody tr th {\n",
       "        vertical-align: top;\n",
       "    }\n",
       "\n",
       "    .dataframe thead th {\n",
       "        text-align: right;\n",
       "    }\n",
       "</style>\n",
       "<table border=\"1\" class=\"dataframe\">\n",
       "  <thead>\n",
       "    <tr style=\"text-align: right;\">\n",
       "      <th></th>\n",
       "      <th>age_range</th>\n",
       "      <th>datetime</th>\n",
       "      <th>gender</th>\n",
       "      <th>involved_person</th>\n",
       "      <th>legislation</th>\n",
       "      <th>location.latitude</th>\n",
       "      <th>location.longitude</th>\n",
       "      <th>location.street.id</th>\n",
       "      <th>location.street.name</th>\n",
       "      <th>object_of_search</th>\n",
       "      <th>officer_defined_ethnicity</th>\n",
       "      <th>operation</th>\n",
       "      <th>operation_name</th>\n",
       "      <th>outcome</th>\n",
       "      <th>outcome_linked_to_object_of_search</th>\n",
       "      <th>outcome_object.id</th>\n",
       "      <th>outcome_object.name</th>\n",
       "      <th>removal_of_more_than_outer_clothing</th>\n",
       "      <th>self_defined_ethnicity</th>\n",
       "      <th>type</th>\n",
       "    </tr>\n",
       "  </thead>\n",
       "  <tbody>\n",
       "    <tr>\n",
       "      <th>0</th>\n",
       "      <td>18-24</td>\n",
       "      <td>2018-06-01T09:45:00+00:00</td>\n",
       "      <td>Male</td>\n",
       "      <td>True</td>\n",
       "      <td>Misuse of Drugs Act 1971 (section 23)</td>\n",
       "      <td>51.551330</td>\n",
       "      <td>-0.068037</td>\n",
       "      <td>968551</td>\n",
       "      <td>On or near Downs Park Road</td>\n",
       "      <td>Controlled drugs</td>\n",
       "      <td>Black</td>\n",
       "      <td>False</td>\n",
       "      <td>None</td>\n",
       "      <td>Community resolution</td>\n",
       "      <td>None</td>\n",
       "      <td>bu-community-resolution</td>\n",
       "      <td>Community resolution</td>\n",
       "      <td>None</td>\n",
       "      <td>Black/African/Caribbean/Black British - Any ot...</td>\n",
       "      <td>Person search</td>\n",
       "    </tr>\n",
       "    <tr>\n",
       "      <th>1</th>\n",
       "      <td>18-24</td>\n",
       "      <td>2018-06-02T02:37:00+00:00</td>\n",
       "      <td>Male</td>\n",
       "      <td>True</td>\n",
       "      <td>Misuse of Drugs Act 1971 (section 23)</td>\n",
       "      <td>51.549626</td>\n",
       "      <td>-0.054738</td>\n",
       "      <td>968830</td>\n",
       "      <td>On or near Dalston Lane</td>\n",
       "      <td>Controlled drugs</td>\n",
       "      <td>Black</td>\n",
       "      <td>False</td>\n",
       "      <td>None</td>\n",
       "      <td>A no further action disposal</td>\n",
       "      <td>None</td>\n",
       "      <td>bu-no-further-action</td>\n",
       "      <td>A no further action disposal</td>\n",
       "      <td>None</td>\n",
       "      <td>Black/African/Caribbean/Black British - Any ot...</td>\n",
       "      <td>Person search</td>\n",
       "    </tr>\n",
       "    <tr>\n",
       "      <th>2</th>\n",
       "      <td>over 34</td>\n",
       "      <td>2018-06-02T09:45:00+00:00</td>\n",
       "      <td>Male</td>\n",
       "      <td>True</td>\n",
       "      <td>Misuse of Drugs Act 1971 (section 23)</td>\n",
       "      <td>51.549626</td>\n",
       "      <td>-0.054738</td>\n",
       "      <td>968830</td>\n",
       "      <td>On or near Dalston Lane</td>\n",
       "      <td>Controlled drugs</td>\n",
       "      <td>White</td>\n",
       "      <td>False</td>\n",
       "      <td>None</td>\n",
       "      <td>Arrest</td>\n",
       "      <td>None</td>\n",
       "      <td>bu-arrest</td>\n",
       "      <td>Arrest</td>\n",
       "      <td>None</td>\n",
       "      <td>White - Any other White background</td>\n",
       "      <td>Person search</td>\n",
       "    </tr>\n",
       "    <tr>\n",
       "      <th>3</th>\n",
       "      <td>18-24</td>\n",
       "      <td>2018-06-02T10:50:00+00:00</td>\n",
       "      <td>Male</td>\n",
       "      <td>True</td>\n",
       "      <td>Misuse of Drugs Act 1971 (section 23)</td>\n",
       "      <td>51.550209</td>\n",
       "      <td>-0.051944</td>\n",
       "      <td>968740</td>\n",
       "      <td>On or near Rowe Lane</td>\n",
       "      <td>Controlled drugs</td>\n",
       "      <td>Black</td>\n",
       "      <td>False</td>\n",
       "      <td>None</td>\n",
       "      <td>A no further action disposal</td>\n",
       "      <td>None</td>\n",
       "      <td>bu-no-further-action</td>\n",
       "      <td>A no further action disposal</td>\n",
       "      <td>None</td>\n",
       "      <td>Black/African/Caribbean/Black British - African</td>\n",
       "      <td>Person and Vehicle search</td>\n",
       "    </tr>\n",
       "    <tr>\n",
       "      <th>4</th>\n",
       "      <td>10-17</td>\n",
       "      <td>2018-06-02T19:30:00+00:00</td>\n",
       "      <td>Female</td>\n",
       "      <td>True</td>\n",
       "      <td>Police and Criminal Evidence Act 1984 (section 1)</td>\n",
       "      <td>51.542304</td>\n",
       "      <td>-0.054589</td>\n",
       "      <td>964026</td>\n",
       "      <td>On or near St Thomas'S Square</td>\n",
       "      <td>Offensive weapons</td>\n",
       "      <td>Black</td>\n",
       "      <td>False</td>\n",
       "      <td>None</td>\n",
       "      <td>A no further action disposal</td>\n",
       "      <td>None</td>\n",
       "      <td>bu-no-further-action</td>\n",
       "      <td>A no further action disposal</td>\n",
       "      <td>None</td>\n",
       "      <td>Black/African/Caribbean/Black British - Caribbean</td>\n",
       "      <td>Person search</td>\n",
       "    </tr>\n",
       "  </tbody>\n",
       "</table>\n",
       "</div>"
      ],
      "text/plain": [
       "  age_range                   datetime  gender  involved_person  \\\n",
       "0     18-24  2018-06-01T09:45:00+00:00    Male             True   \n",
       "1     18-24  2018-06-02T02:37:00+00:00    Male             True   \n",
       "2   over 34  2018-06-02T09:45:00+00:00    Male             True   \n",
       "3     18-24  2018-06-02T10:50:00+00:00    Male             True   \n",
       "4     10-17  2018-06-02T19:30:00+00:00  Female             True   \n",
       "\n",
       "                                         legislation location.latitude  \\\n",
       "0              Misuse of Drugs Act 1971 (section 23)         51.551330   \n",
       "1              Misuse of Drugs Act 1971 (section 23)         51.549626   \n",
       "2              Misuse of Drugs Act 1971 (section 23)         51.549626   \n",
       "3              Misuse of Drugs Act 1971 (section 23)         51.550209   \n",
       "4  Police and Criminal Evidence Act 1984 (section 1)         51.542304   \n",
       "\n",
       "  location.longitude  location.street.id           location.street.name  \\\n",
       "0          -0.068037              968551     On or near Downs Park Road   \n",
       "1          -0.054738              968830        On or near Dalston Lane   \n",
       "2          -0.054738              968830        On or near Dalston Lane   \n",
       "3          -0.051944              968740           On or near Rowe Lane   \n",
       "4          -0.054589              964026  On or near St Thomas'S Square   \n",
       "\n",
       "    object_of_search officer_defined_ethnicity  operation operation_name  \\\n",
       "0   Controlled drugs                     Black      False           None   \n",
       "1   Controlled drugs                     Black      False           None   \n",
       "2   Controlled drugs                     White      False           None   \n",
       "3   Controlled drugs                     Black      False           None   \n",
       "4  Offensive weapons                     Black      False           None   \n",
       "\n",
       "                        outcome outcome_linked_to_object_of_search  \\\n",
       "0          Community resolution                               None   \n",
       "1  A no further action disposal                               None   \n",
       "2                        Arrest                               None   \n",
       "3  A no further action disposal                               None   \n",
       "4  A no further action disposal                               None   \n",
       "\n",
       "         outcome_object.id           outcome_object.name  \\\n",
       "0  bu-community-resolution          Community resolution   \n",
       "1     bu-no-further-action  A no further action disposal   \n",
       "2                bu-arrest                        Arrest   \n",
       "3     bu-no-further-action  A no further action disposal   \n",
       "4     bu-no-further-action  A no further action disposal   \n",
       "\n",
       "  removal_of_more_than_outer_clothing  \\\n",
       "0                                None   \n",
       "1                                None   \n",
       "2                                None   \n",
       "3                                None   \n",
       "4                                None   \n",
       "\n",
       "                              self_defined_ethnicity  \\\n",
       "0  Black/African/Caribbean/Black British - Any ot...   \n",
       "1  Black/African/Caribbean/Black British - Any ot...   \n",
       "2                 White - Any other White background   \n",
       "3    Black/African/Caribbean/Black British - African   \n",
       "4  Black/African/Caribbean/Black British - Caribbean   \n",
       "\n",
       "                        type  \n",
       "0              Person search  \n",
       "1              Person search  \n",
       "2              Person search  \n",
       "3  Person and Vehicle search  \n",
       "4              Person search  "
      ]
     },
     "execution_count": 41,
     "metadata": {},
     "output_type": "execute_result"
    }
   ],
   "source": [
    "norm_data.head()"
   ]
  },
  {
   "cell_type": "code",
   "execution_count": 54,
   "metadata": {},
   "outputs": [
    {
     "data": {
      "text/plain": [
       "Male      170\n",
       "Female      9\n",
       "Name: gender, dtype: int64"
      ]
     },
     "execution_count": 54,
     "metadata": {},
     "output_type": "execute_result"
    }
   ],
   "source": [
    "norm_data[\"gender\"].value_counts()"
   ]
  },
  {
   "cell_type": "code",
   "execution_count": 59,
   "metadata": {},
   "outputs": [
    {
     "data": {
      "text/plain": [
       "<matplotlib.axes._subplots.AxesSubplot at 0x22ceccdb5f8>"
      ]
     },
     "execution_count": 59,
     "metadata": {},
     "output_type": "execute_result"
    },
    {
     "data": {
      "image/png": "[encoded data removed]",
      "text/plain": [
       "<Figure size 432x288 with 1 Axes>"
      ]
     },
     "metadata": {},
     "output_type": "display_data"
    }
   ],
   "source": [
    "norm_data[\"gender\"].value_counts().plot.bar()"
   ]
  },
  {
   "cell_type": "code",
   "execution_count": 153,
   "metadata": {},
   "outputs": [
    {
     "data": {
      "text/plain": [
       "<matplotlib.axes._subplots.AxesSubplot at 0x22cecf4b278>"
      ]
     },
     "execution_count": 153,
     "metadata": {},
     "output_type": "execute_result"
    },
    {
     "data": {
      "image/png": "[encoded data removed]",
      "text/plain": [
       "<Figure size 432x288 with 1 Axes>"
      ]
     },
     "metadata": {},
     "output_type": "display_data"
    }
   ],
   "source": [
    "norm_data[\"age_range\"].value_counts().plot.bar()"
   ]
  },
  {
   "cell_type": "markdown",
   "metadata": {},
   "source": [
    "## Tvoříme klienta pro práci s veřejným API"
   ]
  },
  {
   "cell_type": "markdown",
   "metadata": {},
   "source": [
    "V následujícím bloku si vytvoříme klienta, který nám stáhne data za dva měsíce (místo jednoho) a uloží je do seznamu seznamů(list of lists)"
   ]
  },
  {
   "cell_type": "code",
   "execution_count": 200,
   "metadata": {},
   "outputs": [],
   "source": [
    "dates_list = [\"2018-06\", \"2018-07\"]\n",
    "data_list = []\n",
    "\n",
    "def more_data():\n",
    "    for i in dates_list:\n",
    "        api_url = \"https://data.police.uk/api/stops-street\"\n",
    "        params = {\"lat\" : \"51.5487158\",\n",
    "                  \"lng\" : \"-0.0613842\",\n",
    "                  \"date\" : i\n",
    "                 }\n",
    "        response = requests.get(api_url,\n",
    "                                params = params\n",
    "                               )\n",
    "        data_foo = response.json()\n",
    "        data_list.append(data_foo)"
   ]
  },
  {
   "cell_type": "code",
   "execution_count": 216,
   "metadata": {},
   "outputs": [
    {
     "data": {
      "text/plain": [
       "2"
      ]
     },
     "execution_count": 216,
     "metadata": {},
     "output_type": "execute_result"
    }
   ],
   "source": [
    "# funkcí len ověříme počet seznamů(list) v seznamu seznamů(list of lists) \n",
    "len(data_list)"
   ]
  },
  {
   "cell_type": "code",
   "execution_count": 217,
   "metadata": {},
   "outputs": [
    {
     "name": "stdout",
     "output_type": "stream",
     "text": [
      "18-24\n",
      "18-24\n",
      "over 34\n",
      "18-24\n",
      "10-17\n",
      "10-17\n",
      "over 34\n",
      "25-34\n",
      "over 34\n",
      "25-34\n",
      "None\n",
      "25-34\n",
      "18-24\n",
      "10-17\n",
      "None\n",
      "18-24\n",
      "None\n",
      "18-24\n",
      "10-17\n",
      "over 34\n",
      "18-24\n",
      "18-24\n",
      "18-24\n",
      "18-24\n",
      "18-24\n",
      "18-24\n",
      "18-24\n",
      "18-24\n",
      "18-24\n",
      "25-34\n",
      "18-24\n",
      "18-24\n",
      "18-24\n",
      "over 34\n",
      "10-17\n",
      "10-17\n",
      "25-34\n",
      "18-24\n",
      "18-24\n",
      "25-34\n",
      "25-34\n",
      "25-34\n",
      "over 34\n",
      "over 34\n",
      "18-24\n",
      "18-24\n",
      "18-24\n",
      "18-24\n",
      "18-24\n",
      "25-34\n",
      "25-34\n",
      "over 34\n",
      "25-34\n",
      "over 34\n",
      "18-24\n",
      "25-34\n",
      "25-34\n",
      "over 34\n",
      "18-24\n",
      "None\n",
      "18-24\n",
      "18-24\n",
      "None\n",
      "18-24\n",
      "18-24\n",
      "25-34\n",
      "10-17\n",
      "25-34\n",
      "18-24\n",
      "25-34\n",
      "18-24\n",
      "None\n",
      "18-24\n",
      "25-34\n",
      "25-34\n",
      "25-34\n",
      "18-24\n",
      "25-34\n",
      "25-34\n",
      "18-24\n",
      "18-24\n",
      "10-17\n",
      "over 34\n",
      "over 34\n",
      "18-24\n",
      "18-24\n",
      "25-34\n",
      "10-17\n",
      "18-24\n",
      "over 34\n",
      "10-17\n",
      "25-34\n",
      "over 34\n",
      "18-24\n",
      "25-34\n",
      "over 34\n",
      "25-34\n",
      "18-24\n",
      "18-24\n",
      "18-24\n",
      "18-24\n",
      "10-17\n",
      "10-17\n",
      "18-24\n",
      "25-34\n",
      "18-24\n",
      "25-34\n",
      "18-24\n",
      "18-24\n",
      "10-17\n",
      "25-34\n",
      "18-24\n",
      "over 34\n",
      "10-17\n",
      "18-24\n",
      "over 34\n",
      "18-24\n",
      "10-17\n",
      "10-17\n",
      "over 34\n",
      "25-34\n",
      "10-17\n",
      "10-17\n",
      "25-34\n",
      "10-17\n",
      "10-17\n",
      "10-17\n",
      "10-17\n",
      "18-24\n",
      "10-17\n",
      "10-17\n",
      "None\n",
      "over 34\n",
      "10-17\n",
      "10-17\n",
      "25-34\n",
      "10-17\n",
      "18-24\n",
      "10-17\n",
      "None\n",
      "10-17\n",
      "10-17\n",
      "25-34\n",
      "18-24\n",
      "18-24\n",
      "25-34\n",
      "10-17\n",
      "10-17\n",
      "25-34\n",
      "10-17\n",
      "None\n",
      "25-34\n",
      "25-34\n",
      "18-24\n",
      "10-17\n",
      "25-34\n",
      "18-24\n",
      "10-17\n",
      "10-17\n",
      "25-34\n",
      "None\n",
      "18-24\n",
      "25-34\n",
      "25-34\n",
      "10-17\n",
      "10-17\n",
      "18-24\n",
      "over 34\n",
      "18-24\n",
      "18-24\n",
      "10-17\n",
      "10-17\n",
      "25-34\n",
      "over 34\n",
      "over 34\n",
      "18-24\n",
      "18-24\n",
      "25-34\n",
      "10-17\n",
      "None\n",
      "10-17\n",
      "None\n",
      "25-34\n",
      "over 34\n",
      "25-34\n",
      "10-17\n",
      "25-34\n",
      "25-34\n",
      "18-24\n",
      "18-24\n",
      "18-24\n",
      "over 34\n",
      "18-24\n",
      "18-24\n",
      "18-24\n",
      "18-24\n",
      "18-24\n",
      "18-24\n",
      "18-24\n",
      "18-24\n",
      "over 34\n",
      "over 34\n",
      "over 34\n",
      "None\n",
      "over 34\n",
      "over 34\n",
      "25-34\n",
      "over 34\n",
      "10-17\n",
      "18-24\n",
      "18-24\n",
      "None\n",
      "18-24\n",
      "18-24\n",
      "None\n",
      "None\n",
      "18-24\n",
      "25-34\n",
      "25-34\n",
      "25-34\n",
      "25-34\n",
      "18-24\n",
      "18-24\n",
      "18-24\n",
      "25-34\n",
      "18-24\n",
      "25-34\n",
      "18-24\n",
      "10-17\n",
      "25-34\n",
      "over 34\n",
      "over 34\n",
      "18-24\n",
      "over 34\n",
      "18-24\n",
      "25-34\n",
      "25-34\n",
      "25-34\n",
      "None\n",
      "over 34\n",
      "18-24\n",
      "18-24\n",
      "18-24\n",
      "25-34\n",
      "10-17\n",
      "25-34\n",
      "25-34\n",
      "18-24\n",
      "18-24\n",
      "18-24\n",
      "10-17\n",
      "25-34\n",
      "None\n",
      "18-24\n",
      "25-34\n",
      "25-34\n",
      "18-24\n",
      "25-34\n",
      "18-24\n",
      "10-17\n",
      "10-17\n",
      "over 34\n",
      "18-24\n",
      "10-17\n",
      "25-34\n",
      "10-17\n",
      "10-17\n",
      "25-34\n",
      "25-34\n",
      "25-34\n",
      "25-34\n",
      "18-24\n",
      "25-34\n",
      "over 34\n",
      "10-17\n",
      "18-24\n",
      "18-24\n",
      "None\n",
      "25-34\n",
      "18-24\n",
      "10-17\n",
      "10-17\n",
      "18-24\n",
      "over 34\n",
      "18-24\n",
      "10-17\n",
      "10-17\n",
      "10-17\n",
      "25-34\n",
      "10-17\n",
      "10-17\n",
      "10-17\n",
      "18-24\n",
      "18-24\n",
      "over 34\n",
      "None\n",
      "18-24\n",
      "over 34\n",
      "18-24\n",
      "over 34\n",
      "25-34\n",
      "None\n",
      "18-24\n",
      "18-24\n",
      "10-17\n",
      "18-24\n",
      "18-24\n",
      "None\n",
      "18-24\n",
      "None\n",
      "None\n",
      "None\n",
      "10-17\n",
      "18-24\n",
      "25-34\n",
      "10-17\n",
      "over 34\n",
      "10-17\n",
      "10-17\n",
      "18-24\n",
      "18-24\n",
      "10-17\n",
      "25-34\n",
      "10-17\n",
      "10-17\n",
      "10-17\n",
      "18-24\n",
      "10-17\n"
     ]
    }
   ],
   "source": [
    "# zanořeným cyklem(nested loop) si vytáhneme věkové rozmezí všech lustrovaných za dva měsíce\n",
    "for x in data_list:\n",
    "    for y in x:\n",
    "        print(y['age_range'])"
   ]
  },
  {
   "cell_type": "code",
   "execution_count": null,
   "metadata": {},
   "outputs": [],
   "source": []
  }
 ],
 "metadata": {
  "kernelspec": {
   "display_name": "Python 3",
   "language": "python",
   "name": "python3"
  },
  "language_info": {
   "codemirror_mode": {
    "name": "ipython",
    "version": 3
   },
   "file_extension": ".py",
   "mimetype": "text/x-python",
   "name": "python",
   "nbconvert_exporter": "python",
   "pygments_lexer": "ipython3",
   "version": "3.6.5"
  }
 },
 "nbformat": 4,
 "nbformat_minor": 2
}
