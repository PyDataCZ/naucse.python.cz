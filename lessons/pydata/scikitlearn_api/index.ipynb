{
 "cells": [
  {
   "cell_type": "markdown",
   "metadata": {},
   "source": [
    "# Knihovna Scikit-learn, přehled užitečných funkcí\n",
    "\n",
    "V předešlé hodině jsme se vyhýbali programování, jak jen se to dalo. Teď už si ale chceš také sama vše vyzkoušet.\n",
    "Abys mohla úlohu rozmyšlenou v domácím úkolu naprogramovat, projdeme si nejdůležitější funkce, které budeš potřebovat. \n",
    "\n",
    "Především budeme používat knihovnu [Sciki-learn](https://scikit-learn.org) a samozrejmě také pandas. \n",
    "Potřebné věci projdeme na příkladu. "
   ]
  },
  {
   "cell_type": "code",
   "execution_count": 1,
   "metadata": {},
   "outputs": [],
   "source": [
    "import pandas as pd"
   ]
  },
  {
   "cell_type": "markdown",
   "metadata": {},
   "source": [
    "## Načtení a příprava dat \n",
    "\n",
    "<table> \n",
    "    <tr><td>\n",
    "        \n",
    "☑ výběr vstupních proměnných \n",
    "        \n",
    "        \n",
    "☑ chybějící hodnoty \n",
    "\n",
    "☑ kategorické hodnoty \n",
    "\n",
    "☑ přeškálování / normování hodnot  \n",
    " </td></tr>\n",
    "</table> \n",
    "\n",
    "Na začátku vždy bude potřeba připravit data. Čištění dat a použití knihovny pandas už bys měla ovládat, \n",
    "zaměříme se jen na věci, které jsou specifické pro strojové učení.\n",
    "\n",
    "Načíst data tedy umíš."
   ]
  },
  {
   "cell_type": "code",
   "execution_count": 2,
   "metadata": {},
   "outputs": [
    {
     "data": {
      "text/html": [
       "<div>\n",
       "<style scoped>\n",
       "    .dataframe tbody tr th:only-of-type {\n",
       "        vertical-align: middle;\n",
       "    }\n",
       "\n",
       "    .dataframe tbody tr th {\n",
       "        vertical-align: top;\n",
       "    }\n",
       "\n",
       "    .dataframe thead th {\n",
       "        text-align: right;\n",
       "    }\n",
       "</style>\n",
       "<table border=\"1\" class=\"dataframe\">\n",
       "  <thead>\n",
       "    <tr style=\"text-align: right;\">\n",
       "      <th></th>\n",
       "      <th>rank</th>\n",
       "      <th>discipline</th>\n",
       "      <th>yrs.since.phd</th>\n",
       "      <th>yrs.service</th>\n",
       "      <th>sex</th>\n",
       "      <th>salary</th>\n",
       "    </tr>\n",
       "  </thead>\n",
       "  <tbody>\n",
       "    <tr>\n",
       "      <th>61</th>\n",
       "      <td>AssocProf</td>\n",
       "      <td>B</td>\n",
       "      <td>9</td>\n",
       "      <td>8</td>\n",
       "      <td>Male</td>\n",
       "      <td>90304</td>\n",
       "    </tr>\n",
       "    <tr>\n",
       "      <th>124</th>\n",
       "      <td>AssocProf</td>\n",
       "      <td>A</td>\n",
       "      <td>25</td>\n",
       "      <td>22</td>\n",
       "      <td>Female</td>\n",
       "      <td>62884</td>\n",
       "    </tr>\n",
       "    <tr>\n",
       "      <th>151</th>\n",
       "      <td>Prof</td>\n",
       "      <td>B</td>\n",
       "      <td>14</td>\n",
       "      <td>12</td>\n",
       "      <td>Male</td>\n",
       "      <td>128148</td>\n",
       "    </tr>\n",
       "    <tr>\n",
       "      <th>64</th>\n",
       "      <td>AssocProf</td>\n",
       "      <td>B</td>\n",
       "      <td>11</td>\n",
       "      <td>11</td>\n",
       "      <td>Female</td>\n",
       "      <td>103613</td>\n",
       "    </tr>\n",
       "    <tr>\n",
       "      <th>129</th>\n",
       "      <td>Prof</td>\n",
       "      <td>A</td>\n",
       "      <td>32</td>\n",
       "      <td>30</td>\n",
       "      <td>Male</td>\n",
       "      <td>113278</td>\n",
       "    </tr>\n",
       "    <tr>\n",
       "      <th>194</th>\n",
       "      <td>AssocProf</td>\n",
       "      <td>B</td>\n",
       "      <td>19</td>\n",
       "      <td>19</td>\n",
       "      <td>Male</td>\n",
       "      <td>86250</td>\n",
       "    </tr>\n",
       "    <tr>\n",
       "      <th>78</th>\n",
       "      <td>Prof</td>\n",
       "      <td>B</td>\n",
       "      <td>26</td>\n",
       "      <td>19</td>\n",
       "      <td>Male</td>\n",
       "      <td>193000</td>\n",
       "    </tr>\n",
       "    <tr>\n",
       "      <th>82</th>\n",
       "      <td>Prof</td>\n",
       "      <td>B</td>\n",
       "      <td>17</td>\n",
       "      <td>16</td>\n",
       "      <td>Male</td>\n",
       "      <td>135585</td>\n",
       "    </tr>\n",
       "    <tr>\n",
       "      <th>114</th>\n",
       "      <td>Prof</td>\n",
       "      <td>A</td>\n",
       "      <td>37</td>\n",
       "      <td>37</td>\n",
       "      <td>Male</td>\n",
       "      <td>104279</td>\n",
       "    </tr>\n",
       "    <tr>\n",
       "      <th>164</th>\n",
       "      <td>AsstProf</td>\n",
       "      <td>B</td>\n",
       "      <td>3</td>\n",
       "      <td>3</td>\n",
       "      <td>Male</td>\n",
       "      <td>89942</td>\n",
       "    </tr>\n",
       "  </tbody>\n",
       "</table>\n",
       "</div>"
      ],
      "text/plain": [
       "          rank discipline  yrs.since.phd  yrs.service     sex  salary\n",
       "61   AssocProf          B              9            8    Male   90304\n",
       "124  AssocProf          A             25           22  Female   62884\n",
       "151       Prof          B             14           12    Male  128148\n",
       "64   AssocProf          B             11           11  Female  103613\n",
       "129       Prof          A             32           30    Male  113278\n",
       "194  AssocProf          B             19           19    Male   86250\n",
       "78        Prof          B             26           19    Male  193000\n",
       "82        Prof          B             17           16    Male  135585\n",
       "114       Prof          A             37           37    Male  104279\n",
       "164   AsstProf          B              3            3    Male   89942"
      ]
     },
     "execution_count": 2,
     "metadata": {},
     "output_type": "execute_result"
    }
   ],
   "source": [
    "df_platy = pd.read_csv(\"static/salaries.csv\", index_col=0)\n",
    "df_platy.sample(10)"
   ]
  },
  {
   "cell_type": "markdown",
   "metadata": {},
   "source": [
    "Pro predikci použijeme jako příznaky `rank`, `discipline`, `yrs.since.phd`, `yrs.service` a `sex`, \n",
    "predikovat budeme hodnotu `salary`.  \n",
    "\n",
    "Pro učení potřebujeme všechny hondoty převést na čísla (`float`). Pokud by data obsahovala chybějící\n",
    "hodnoty, nejjednodušší řešení je takové řádky zahodit. (Bonus: pokud bys měla data s větším množstvím\n",
    "chybějících hodnot, podívej se na možnosti [sklearn.impute](https://scikit-learn.org/stable/modules/classes.html#module-sklearn.impute))\n",
    "\n",
    "Důležité je vypořádat se s kategorickými hodnotami. Sloupce obsahující hodnoty typu Boolean nebo dvě hodnoty (např. muž/žena), lze snadno převést na hodnoty $[0,1]$. "
   ]
  },
  {
   "cell_type": "code",
   "execution_count": 3,
   "metadata": {},
   "outputs": [
    {
     "data": {
      "text/html": [
       "<div>\n",
       "<style scoped>\n",
       "    .dataframe tbody tr th:only-of-type {\n",
       "        vertical-align: middle;\n",
       "    }\n",
       "\n",
       "    .dataframe tbody tr th {\n",
       "        vertical-align: top;\n",
       "    }\n",
       "\n",
       "    .dataframe thead th {\n",
       "        text-align: right;\n",
       "    }\n",
       "</style>\n",
       "<table border=\"1\" class=\"dataframe\">\n",
       "  <thead>\n",
       "    <tr style=\"text-align: right;\">\n",
       "      <th></th>\n",
       "      <th>rank</th>\n",
       "      <th>discipline</th>\n",
       "      <th>yrs.since.phd</th>\n",
       "      <th>yrs.service</th>\n",
       "      <th>sex</th>\n",
       "      <th>salary</th>\n",
       "    </tr>\n",
       "  </thead>\n",
       "  <tbody>\n",
       "    <tr>\n",
       "      <th>21</th>\n",
       "      <td>Prof</td>\n",
       "      <td>A</td>\n",
       "      <td>31</td>\n",
       "      <td>26</td>\n",
       "      <td>0</td>\n",
       "      <td>89565</td>\n",
       "    </tr>\n",
       "    <tr>\n",
       "      <th>46</th>\n",
       "      <td>Prof</td>\n",
       "      <td>B</td>\n",
       "      <td>25</td>\n",
       "      <td>15</td>\n",
       "      <td>0</td>\n",
       "      <td>114778</td>\n",
       "    </tr>\n",
       "    <tr>\n",
       "      <th>58</th>\n",
       "      <td>AssocProf</td>\n",
       "      <td>B</td>\n",
       "      <td>9</td>\n",
       "      <td>8</td>\n",
       "      <td>0</td>\n",
       "      <td>90215</td>\n",
       "    </tr>\n",
       "    <tr>\n",
       "      <th>69</th>\n",
       "      <td>Prof</td>\n",
       "      <td>B</td>\n",
       "      <td>17</td>\n",
       "      <td>17</td>\n",
       "      <td>1</td>\n",
       "      <td>111512</td>\n",
       "    </tr>\n",
       "    <tr>\n",
       "      <th>65</th>\n",
       "      <td>AsstProf</td>\n",
       "      <td>B</td>\n",
       "      <td>4</td>\n",
       "      <td>3</td>\n",
       "      <td>0</td>\n",
       "      <td>68404</td>\n",
       "    </tr>\n",
       "    <tr>\n",
       "      <th>132</th>\n",
       "      <td>Prof</td>\n",
       "      <td>A</td>\n",
       "      <td>56</td>\n",
       "      <td>57</td>\n",
       "      <td>0</td>\n",
       "      <td>76840</td>\n",
       "    </tr>\n",
       "    <tr>\n",
       "      <th>173</th>\n",
       "      <td>Prof</td>\n",
       "      <td>B</td>\n",
       "      <td>37</td>\n",
       "      <td>24</td>\n",
       "      <td>0</td>\n",
       "      <td>93164</td>\n",
       "    </tr>\n",
       "    <tr>\n",
       "      <th>42</th>\n",
       "      <td>AssocProf</td>\n",
       "      <td>B</td>\n",
       "      <td>23</td>\n",
       "      <td>23</td>\n",
       "      <td>0</td>\n",
       "      <td>93418</td>\n",
       "    </tr>\n",
       "    <tr>\n",
       "      <th>148</th>\n",
       "      <td>Prof</td>\n",
       "      <td>B</td>\n",
       "      <td>27</td>\n",
       "      <td>27</td>\n",
       "      <td>0</td>\n",
       "      <td>156938</td>\n",
       "    </tr>\n",
       "    <tr>\n",
       "      <th>196</th>\n",
       "      <td>AssocProf</td>\n",
       "      <td>B</td>\n",
       "      <td>9</td>\n",
       "      <td>7</td>\n",
       "      <td>0</td>\n",
       "      <td>113600</td>\n",
       "    </tr>\n",
       "  </tbody>\n",
       "</table>\n",
       "</div>"
      ],
      "text/plain": [
       "          rank discipline  yrs.since.phd  yrs.service  sex  salary\n",
       "21        Prof          A             31           26    0   89565\n",
       "46        Prof          B             25           15    0  114778\n",
       "58   AssocProf          B              9            8    0   90215\n",
       "69        Prof          B             17           17    1  111512\n",
       "65    AsstProf          B              4            3    0   68404\n",
       "132       Prof          A             56           57    0   76840\n",
       "173       Prof          B             37           24    0   93164\n",
       "42   AssocProf          B             23           23    0   93418\n",
       "148       Prof          B             27           27    0  156938\n",
       "196  AssocProf          B              9            7    0  113600"
      ]
     },
     "execution_count": 3,
     "metadata": {},
     "output_type": "execute_result"
    }
   ],
   "source": [
    "df_platy = df_platy.replace({\"Male\": 0, \"Female\": 1})\n",
    "df_platy.sample(10)"
   ]
  },
  {
   "cell_type": "markdown",
   "metadata": {},
   "source": [
    "Pro kategorické proměnné s více možnostmi použijeme tzv. *onehot encoding*. \n",
    "\n",
    "Např. sloupec `rank` obsahuje hodnoty `Prof`, `AsstProf` a `AssocProf`. K zakódování pomocí onehot encoding potřebujeme tři sloupce: \n",
    "\n",
    "Původní hodnota | Kód \n",
    "--- | --- \n",
    "Prof      | 1 0 0\n",
    "AsstProf  | 0 1 0 \n",
    "AssocProf | 0 0 1  \n",
    "\n",
    "\n",
    "Knihovna Scikitlearn nabízí [sklearn.preprocessing.OneHotEncoder](https://scikit-learn.org/stable/modules/generated/sklearn.preprocessing.OneHotEncoder.html#sklearn.preprocessing.OneHotEncoder), při práci s pandas však můžeme použít rovnou metodu [get_dummies](https://pandas.pydata.org/pandas-docs/stable/reference/api/pandas.get_dummies.html). (Pozn. *dummies* proto, že nám přibudou pomocné proměnné (sloupce), které se označují jako *dummy variables*.)"
   ]
  },
  {
   "cell_type": "code",
   "execution_count": 4,
   "metadata": {},
   "outputs": [
    {
     "data": {
      "text/html": [
       "<div>\n",
       "<style scoped>\n",
       "    .dataframe tbody tr th:only-of-type {\n",
       "        vertical-align: middle;\n",
       "    }\n",
       "\n",
       "    .dataframe tbody tr th {\n",
       "        vertical-align: top;\n",
       "    }\n",
       "\n",
       "    .dataframe thead th {\n",
       "        text-align: right;\n",
       "    }\n",
       "</style>\n",
       "<table border=\"1\" class=\"dataframe\">\n",
       "  <thead>\n",
       "    <tr style=\"text-align: right;\">\n",
       "      <th></th>\n",
       "      <th>yrs.since.phd</th>\n",
       "      <th>yrs.service</th>\n",
       "      <th>sex</th>\n",
       "      <th>salary</th>\n",
       "      <th>rank_AssocProf</th>\n",
       "      <th>rank_AsstProf</th>\n",
       "      <th>rank_Prof</th>\n",
       "      <th>discipline_A</th>\n",
       "      <th>discipline_B</th>\n",
       "    </tr>\n",
       "  </thead>\n",
       "  <tbody>\n",
       "    <tr>\n",
       "      <th>1</th>\n",
       "      <td>19</td>\n",
       "      <td>18</td>\n",
       "      <td>0</td>\n",
       "      <td>139750</td>\n",
       "      <td>0</td>\n",
       "      <td>0</td>\n",
       "      <td>1</td>\n",
       "      <td>0</td>\n",
       "      <td>1</td>\n",
       "    </tr>\n",
       "    <tr>\n",
       "      <th>2</th>\n",
       "      <td>20</td>\n",
       "      <td>16</td>\n",
       "      <td>0</td>\n",
       "      <td>173200</td>\n",
       "      <td>0</td>\n",
       "      <td>0</td>\n",
       "      <td>1</td>\n",
       "      <td>0</td>\n",
       "      <td>1</td>\n",
       "    </tr>\n",
       "    <tr>\n",
       "      <th>3</th>\n",
       "      <td>4</td>\n",
       "      <td>3</td>\n",
       "      <td>0</td>\n",
       "      <td>79750</td>\n",
       "      <td>0</td>\n",
       "      <td>1</td>\n",
       "      <td>0</td>\n",
       "      <td>0</td>\n",
       "      <td>1</td>\n",
       "    </tr>\n",
       "    <tr>\n",
       "      <th>4</th>\n",
       "      <td>45</td>\n",
       "      <td>39</td>\n",
       "      <td>0</td>\n",
       "      <td>115000</td>\n",
       "      <td>0</td>\n",
       "      <td>0</td>\n",
       "      <td>1</td>\n",
       "      <td>0</td>\n",
       "      <td>1</td>\n",
       "    </tr>\n",
       "    <tr>\n",
       "      <th>5</th>\n",
       "      <td>40</td>\n",
       "      <td>41</td>\n",
       "      <td>0</td>\n",
       "      <td>141500</td>\n",
       "      <td>0</td>\n",
       "      <td>0</td>\n",
       "      <td>1</td>\n",
       "      <td>0</td>\n",
       "      <td>1</td>\n",
       "    </tr>\n",
       "    <tr>\n",
       "      <th>...</th>\n",
       "      <td>...</td>\n",
       "      <td>...</td>\n",
       "      <td>...</td>\n",
       "      <td>...</td>\n",
       "      <td>...</td>\n",
       "      <td>...</td>\n",
       "      <td>...</td>\n",
       "      <td>...</td>\n",
       "      <td>...</td>\n",
       "    </tr>\n",
       "    <tr>\n",
       "      <th>194</th>\n",
       "      <td>19</td>\n",
       "      <td>19</td>\n",
       "      <td>0</td>\n",
       "      <td>86250</td>\n",
       "      <td>1</td>\n",
       "      <td>0</td>\n",
       "      <td>0</td>\n",
       "      <td>0</td>\n",
       "      <td>1</td>\n",
       "    </tr>\n",
       "    <tr>\n",
       "      <th>195</th>\n",
       "      <td>48</td>\n",
       "      <td>53</td>\n",
       "      <td>0</td>\n",
       "      <td>90000</td>\n",
       "      <td>1</td>\n",
       "      <td>0</td>\n",
       "      <td>0</td>\n",
       "      <td>0</td>\n",
       "      <td>1</td>\n",
       "    </tr>\n",
       "    <tr>\n",
       "      <th>196</th>\n",
       "      <td>9</td>\n",
       "      <td>7</td>\n",
       "      <td>0</td>\n",
       "      <td>113600</td>\n",
       "      <td>1</td>\n",
       "      <td>0</td>\n",
       "      <td>0</td>\n",
       "      <td>0</td>\n",
       "      <td>1</td>\n",
       "    </tr>\n",
       "    <tr>\n",
       "      <th>197</th>\n",
       "      <td>4</td>\n",
       "      <td>4</td>\n",
       "      <td>0</td>\n",
       "      <td>92700</td>\n",
       "      <td>0</td>\n",
       "      <td>1</td>\n",
       "      <td>0</td>\n",
       "      <td>0</td>\n",
       "      <td>1</td>\n",
       "    </tr>\n",
       "    <tr>\n",
       "      <th>198</th>\n",
       "      <td>4</td>\n",
       "      <td>4</td>\n",
       "      <td>0</td>\n",
       "      <td>92000</td>\n",
       "      <td>0</td>\n",
       "      <td>1</td>\n",
       "      <td>0</td>\n",
       "      <td>0</td>\n",
       "      <td>1</td>\n",
       "    </tr>\n",
       "  </tbody>\n",
       "</table>\n",
       "<p>198 rows × 9 columns</p>\n",
       "</div>"
      ],
      "text/plain": [
       "     yrs.since.phd  yrs.service  sex  salary  rank_AssocProf  rank_AsstProf  \\\n",
       "1               19           18    0  139750               0              0   \n",
       "2               20           16    0  173200               0              0   \n",
       "3                4            3    0   79750               0              1   \n",
       "4               45           39    0  115000               0              0   \n",
       "5               40           41    0  141500               0              0   \n",
       "..             ...          ...  ...     ...             ...            ...   \n",
       "194             19           19    0   86250               1              0   \n",
       "195             48           53    0   90000               1              0   \n",
       "196              9            7    0  113600               1              0   \n",
       "197              4            4    0   92700               0              1   \n",
       "198              4            4    0   92000               0              1   \n",
       "\n",
       "     rank_Prof  discipline_A  discipline_B  \n",
       "1            1             0             1  \n",
       "2            1             0             1  \n",
       "3            0             0             1  \n",
       "4            1             0             1  \n",
       "5            1             0             1  \n",
       "..         ...           ...           ...  \n",
       "194          0             0             1  \n",
       "195          0             0             1  \n",
       "196          0             0             1  \n",
       "197          0             0             1  \n",
       "198          0             0             1  \n",
       "\n",
       "[198 rows x 9 columns]"
      ]
     },
     "execution_count": 4,
     "metadata": {},
     "output_type": "execute_result"
    }
   ],
   "source": [
    "df_platy = pd.get_dummies(df_platy)\n",
    "df_platy"
   ]
  },
  {
   "cell_type": "markdown",
   "metadata": {},
   "source": [
    "Poslední krok předzpracování bývá přeškálování hodnot. Není to vždy nutné, ale některým modelům to může pomoci.\n",
    "Využijeme [StandardScaler](https://scikit-learn.org/stable/modules/generated/sklearn.preprocessing.StandardScaler.html#sklearn.preprocessing.StandardScaler).\n",
    "\n",
    "StandardScaler nám hodnoty přeškáluje, aby zhruba odpovídaly normálnímu rozdělení. Některé algoritmy to předpokládají. Může se pak např. stát, že příznak (sloupeček), která má výrazně větší rozptyl než ostatní, je brán jako významnější. \n",
    "\n",
    "\n",
    "(Pozn.: vytvoříme zvlášť objekt na transformaci odezvy. Ten se nám bude později hodit, až budeme chtít z odezvy modelu vidět, jaká je opravdová hodnota platu. Tedy zkonvertovat predikované hodnoty zpět na hodnotu platu.). "
   ]
  },
  {
   "cell_type": "code",
   "execution_count": 5,
   "metadata": {},
   "outputs": [
    {
     "data": {
      "text/html": [
       "<div>\n",
       "<style scoped>\n",
       "    .dataframe tbody tr th:only-of-type {\n",
       "        vertical-align: middle;\n",
       "    }\n",
       "\n",
       "    .dataframe tbody tr th {\n",
       "        vertical-align: top;\n",
       "    }\n",
       "\n",
       "    .dataframe thead th {\n",
       "        text-align: right;\n",
       "    }\n",
       "</style>\n",
       "<table border=\"1\" class=\"dataframe\">\n",
       "  <thead>\n",
       "    <tr style=\"text-align: right;\">\n",
       "      <th></th>\n",
       "      <th>yrs.since.phd</th>\n",
       "      <th>yrs.service</th>\n",
       "      <th>sex</th>\n",
       "      <th>salary</th>\n",
       "      <th>rank_AssocProf</th>\n",
       "      <th>rank_AsstProf</th>\n",
       "      <th>rank_Prof</th>\n",
       "      <th>discipline_A</th>\n",
       "      <th>discipline_B</th>\n",
       "    </tr>\n",
       "  </thead>\n",
       "  <tbody>\n",
       "    <tr>\n",
       "      <th>197</th>\n",
       "      <td>-1.238251</td>\n",
       "      <td>-0.940387</td>\n",
       "      <td>0</td>\n",
       "      <td>-0.644604</td>\n",
       "      <td>0</td>\n",
       "      <td>1</td>\n",
       "      <td>0</td>\n",
       "      <td>0</td>\n",
       "      <td>1</td>\n",
       "    </tr>\n",
       "    <tr>\n",
       "      <th>187</th>\n",
       "      <td>-0.504442</td>\n",
       "      <td>-0.436017</td>\n",
       "      <td>1</td>\n",
       "      <td>-0.257489</td>\n",
       "      <td>1</td>\n",
       "      <td>0</td>\n",
       "      <td>0</td>\n",
       "      <td>0</td>\n",
       "      <td>1</td>\n",
       "    </tr>\n",
       "    <tr>\n",
       "      <th>53</th>\n",
       "      <td>-0.667511</td>\n",
       "      <td>-1.024448</td>\n",
       "      <td>1</td>\n",
       "      <td>-1.275480</td>\n",
       "      <td>0</td>\n",
       "      <td>1</td>\n",
       "      <td>0</td>\n",
       "      <td>0</td>\n",
       "      <td>1</td>\n",
       "    </tr>\n",
       "    <tr>\n",
       "      <th>117</th>\n",
       "      <td>0.881641</td>\n",
       "      <td>1.161154</td>\n",
       "      <td>0</td>\n",
       "      <td>1.310241</td>\n",
       "      <td>0</td>\n",
       "      <td>0</td>\n",
       "      <td>1</td>\n",
       "      <td>1</td>\n",
       "      <td>0</td>\n",
       "    </tr>\n",
       "    <tr>\n",
       "      <th>97</th>\n",
       "      <td>-0.178305</td>\n",
       "      <td>-0.267893</td>\n",
       "      <td>0</td>\n",
       "      <td>-0.542623</td>\n",
       "      <td>1</td>\n",
       "      <td>0</td>\n",
       "      <td>0</td>\n",
       "      <td>0</td>\n",
       "      <td>1</td>\n",
       "    </tr>\n",
       "    <tr>\n",
       "      <th>168</th>\n",
       "      <td>-0.096771</td>\n",
       "      <td>0.320538</td>\n",
       "      <td>0</td>\n",
       "      <td>0.685391</td>\n",
       "      <td>0</td>\n",
       "      <td>0</td>\n",
       "      <td>1</td>\n",
       "      <td>0</td>\n",
       "      <td>1</td>\n",
       "    </tr>\n",
       "    <tr>\n",
       "      <th>43</th>\n",
       "      <td>1.696985</td>\n",
       "      <td>0.993031</td>\n",
       "      <td>0</td>\n",
       "      <td>-0.343355</td>\n",
       "      <td>0</td>\n",
       "      <td>0</td>\n",
       "      <td>1</td>\n",
       "      <td>0</td>\n",
       "      <td>1</td>\n",
       "    </tr>\n",
       "    <tr>\n",
       "      <th>115</th>\n",
       "      <td>-0.585976</td>\n",
       "      <td>-1.276633</td>\n",
       "      <td>1</td>\n",
       "      <td>-0.213698</td>\n",
       "      <td>0</td>\n",
       "      <td>0</td>\n",
       "      <td>1</td>\n",
       "      <td>1</td>\n",
       "      <td>0</td>\n",
       "    </tr>\n",
       "    <tr>\n",
       "      <th>190</th>\n",
       "      <td>0.473970</td>\n",
       "      <td>0.320538</td>\n",
       "      <td>0</td>\n",
       "      <td>1.494164</td>\n",
       "      <td>0</td>\n",
       "      <td>0</td>\n",
       "      <td>1</td>\n",
       "      <td>0</td>\n",
       "      <td>1</td>\n",
       "    </tr>\n",
       "    <tr>\n",
       "      <th>34</th>\n",
       "      <td>-1.238251</td>\n",
       "      <td>-1.108510</td>\n",
       "      <td>0</td>\n",
       "      <td>-1.081642</td>\n",
       "      <td>0</td>\n",
       "      <td>1</td>\n",
       "      <td>0</td>\n",
       "      <td>0</td>\n",
       "      <td>1</td>\n",
       "    </tr>\n",
       "  </tbody>\n",
       "</table>\n",
       "</div>"
      ],
      "text/plain": [
       "     yrs.since.phd  yrs.service  sex    salary  rank_AssocProf  rank_AsstProf  \\\n",
       "197      -1.238251    -0.940387    0 -0.644604               0              1   \n",
       "187      -0.504442    -0.436017    1 -0.257489               1              0   \n",
       "53       -0.667511    -1.024448    1 -1.275480               0              1   \n",
       "117       0.881641     1.161154    0  1.310241               0              0   \n",
       "97       -0.178305    -0.267893    0 -0.542623               1              0   \n",
       "168      -0.096771     0.320538    0  0.685391               0              0   \n",
       "43        1.696985     0.993031    0 -0.343355               0              0   \n",
       "115      -0.585976    -1.276633    1 -0.213698               0              0   \n",
       "190       0.473970     0.320538    0  1.494164               0              0   \n",
       "34       -1.238251    -1.108510    0 -1.081642               0              1   \n",
       "\n",
       "     rank_Prof  discipline_A  discipline_B  \n",
       "197          0             0             1  \n",
       "187          0             0             1  \n",
       "53           0             0             1  \n",
       "117          1             1             0  \n",
       "97           0             0             1  \n",
       "168          1             0             1  \n",
       "43           1             0             1  \n",
       "115          1             1             0  \n",
       "190          1             0             1  \n",
       "34           0             0             1  "
      ]
     },
     "execution_count": 5,
     "metadata": {},
     "output_type": "execute_result"
    }
   ],
   "source": [
    "from sklearn.preprocessing import StandardScaler \n",
    "\n",
    "priznaky_ke_konverzi = [\"yrs.since.phd\", \"yrs.service\"]\n",
    "odezva = [\"salary\"]\n",
    "\n",
    "transformace = StandardScaler()\n",
    "df_platy[priznaky_ke_konverzi] = transformace.fit_transform(df_platy[priznaky_ke_konverzi])\n",
    "\n",
    "transformace_odezva = StandardScaler()\n",
    "df_platy[odezva] = transformace_odezva.fit_transform(df_platy[odezva])\n",
    "\n",
    "df_platy.sample(10)\n"
   ]
  },
  {
   "cell_type": "markdown",
   "metadata": {},
   "source": [
    "## Vytvoření trénovací a testovací množiny"
   ]
  },
  {
   "cell_type": "markdown",
   "metadata": {},
   "source": [
    "V teorii strojového učení se vstupy modelu (příznaky, vstupní proměnné) typicky označují písmenem `X` a výstupy písmenem `y`. Řada programátorů toto používá i k označování proměnných v kódu. \n",
    "`X` představuje *matici* (neboli tabulku), kde každý řádek odpovídá jednomu datovému vzorku a každý sloupec jednomu příznaku (vstupní proměnné). `y` je vektor, neboli jeden sloupec s odezvou. \n",
    "\n",
    "Na vyzobnutí odezvy se výborně hodí metoda [pop](https://pandas.pydata.org/pandas-docs/stable/reference/api/pandas.DataFrame.pop.html)."
   ]
  },
  {
   "cell_type": "code",
   "execution_count": 6,
   "metadata": {},
   "outputs": [
    {
     "name": "stdout",
     "output_type": "stream",
     "text": [
      "Index(['yrs.since.phd', 'yrs.service', 'sex', 'rank_AssocProf',\n",
      "       'rank_AsstProf', 'rank_Prof', 'discipline_A', 'discipline_B'],\n",
      "      dtype='object')\n",
      "salary\n"
     ]
    }
   ],
   "source": [
    "y = df_platy.pop(\"salary\")\n",
    "X = df_platy \n",
    "\n",
    "print(X.columns)\n",
    "print(y.name)"
   ]
  },
  {
   "cell_type": "markdown",
   "metadata": {},
   "source": [
    "Zbývá data rozdělit na trénovací a testovací. K tomu slouží metoda [train_test_split](https://scikit-learn.org/stable/modules/generated/sklearn.model_selection.train_test_split.html?highlight=train%20test%20split#sklearn.model_selection.train_test_split). \n",
    "Data nám rozdělí náhodně na trénovací a testovací sadu. Velikost testovací množiny můžeme specifikovat parametrem `test_size`, jeho defaultní hodnota je `0.25`, t. j. 25%."
   ]
  },
  {
   "cell_type": "code",
   "execution_count": 7,
   "metadata": {},
   "outputs": [],
   "source": [
    "from sklearn.model_selection import train_test_split \n",
    "\n",
    "X_train, X_test, y_train, y_test = train_test_split(X, y)\n",
    "X_train, X_test, y_train, y_test = train_test_split(X, y, test_size=0.3)"
   ]
  },
  {
   "cell_type": "markdown",
   "metadata": {},
   "source": [
    "## Modely "
   ]
  },
  {
   "cell_type": "markdown",
   "metadata": {},
   "source": [
    "Můžeme přejít k samotnému učení. Vybereme si model. Přehled modelů najdeš v sekci [Supervised learnig](https://scikit-learn.org/stable/supervised_learning.html#supervised-learning).\n",
    "                                                                                                       \n",
    "                                        \n",
    "Na regresi můžeš použít:\n",
    "- [LinearRegression](https://scikit-learn.org/stable/modules/generated/sklearn.linear_model.LinearRegression.html) \n",
    " \n",
    "- [Lasso](https://scikit-learn.org/stable/modules/generated/sklearn.linear_model.Lasso.html#sklearn.linear_model.Lasso)\n",
    "     + hyperparametry: \n",
    "          * alpha, float, default=1.0 \n",
    " \n",
    "- [SVR](https://scikit-learn.org/stable/modules/generated/sklearn.svm.SVR.html#sklearn.svm.SVR)        \n",
    "     + hyperparametry:\n",
    "          * kernel, default rbf, one of ‘linear’, ‘poly’, ‘rbf’, ‘sigmoid’\n",
    "          * C, float, optional (default=1.0)\n",
    "          \n",
    "Na klasifikační úlohy (ke kterým se dostaneme v příští hodině) využiješ: \n",
    " \n",
    "- [DecisionTreeClassifier](https://scikit-learn.org/stable/modules/generated/sklearn.tree.DecisionTreeClassifier.html#sklearn.tree.DecisionTreeClassifier)\n",
    "    \n",
    "- [RandomForestClassifier](https://scikit-learn.org/stable/modules/generated/sklearn.ensemble.RandomForestClassifier.html#sklearn.ensemble.RandomForestClassifier)\n",
    "  + hyperparametry:\n",
    "    * n_estimators, integer, optional (default=100)\n",
    "   \n",
    "- [SVC](https://scikit-learn.org/stable/modules/generated/sklearn.svm.SVC.html#sklearn.svm.SVC)\n",
    "  + hyperparametry:\n",
    "     * C, float, optional (default=1.0)\n",
    "     * kernelstring, optional (default=’rbf’)\n",
    "  \n"
   ]
  },
  {
   "cell_type": "markdown",
   "metadata": {},
   "source": [
    "Vytvoříme instanci vybraného modelu (jde nám teď jen o způsob použití knihovny, vezmeme nejjednodušší lineární regresi):"
   ]
  },
  {
   "cell_type": "code",
   "execution_count": 8,
   "metadata": {},
   "outputs": [],
   "source": [
    "from sklearn.linear_model import LinearRegression\n",
    "\n",
    "model = LinearRegression()"
   ]
  },
  {
   "cell_type": "markdown",
   "metadata": {},
   "source": [
    "## Trénování"
   ]
  },
  {
   "cell_type": "markdown",
   "metadata": {},
   "source": [
    "Model natrénujeme na trénovací množině:"
   ]
  },
  {
   "cell_type": "code",
   "execution_count": 9,
   "metadata": {},
   "outputs": [
    {
     "data": {
      "text/plain": [
       "LinearRegression(copy_X=True, fit_intercept=True, n_jobs=None, normalize=False)"
      ]
     },
     "execution_count": 9,
     "metadata": {},
     "output_type": "execute_result"
    }
   ],
   "source": [
    "model.fit(X_train, y_train)"
   ]
  },
  {
   "cell_type": "markdown",
   "metadata": {},
   "source": [
    "## Predikce "
   ]
  },
  {
   "cell_type": "markdown",
   "metadata": {},
   "source": [
    "Natrénovaný model typicky chceme použít k ohodnocení nějakých nových datových vzorků, k tomu máme metodu `predict`. Zavolejme ji jak na trénovací, tak na testovací data."
   ]
  },
  {
   "cell_type": "code",
   "execution_count": 10,
   "metadata": {},
   "outputs": [],
   "source": [
    "train_predikce = model.predict(X_train)\n",
    "test_predikce = model.predict(X_test)"
   ]
  },
  {
   "cell_type": "markdown",
   "metadata": {},
   "source": [
    "Pozor, k učení jsme použili transformované hodnoty odezvy. Zajímají-li nás skutečné hodnoty platů, \n",
    "musíme i predikované hodnoty transformovat zpět."
   ]
  },
  {
   "cell_type": "code",
   "execution_count": 11,
   "metadata": {},
   "outputs": [
    {
     "name": "stdout",
     "output_type": "stream",
     "text": [
      "odezva modelu    predicke platu     \n",
      "      0.78          133224.89\n",
      "      0.79          133551.89\n",
      "      0.78          133463.79\n",
      "     -0.91           85069.13\n",
      "     -0.92           84715.12\n"
     ]
    }
   ],
   "source": [
    "# vypišme prvních deset tetovacích vzorků a jejich predikce\n",
    "odezva = transformace_odezva.inverse_transform(test_predikce)\n",
    "print(f\"odezva modelu    predicke platu     \")\n",
    "for i in range(5):\n",
    "    print(f\"{test_predikce[i]:>10.2f}         {odezva[i]:>10.2f}\")\n"
   ]
  },
  {
   "cell_type": "markdown",
   "metadata": {},
   "source": [
    "## Evaluace modelu"
   ]
  },
  {
   "cell_type": "markdown",
   "metadata": {},
   "source": [
    "Můžeme využít funkci `score`, která nám vrátí hodnotu $R^2$ metriky:   "
   ]
  },
  {
   "cell_type": "code",
   "execution_count": 12,
   "metadata": {},
   "outputs": [
    {
     "name": "stdout",
     "output_type": "stream",
     "text": [
      "R2 na trénovací množině:  0.5061452088432405\n",
      "R2 na testovací množině:  0.5972945031380011\n"
     ]
    }
   ],
   "source": [
    "print(\"R2 na trénovací množině: \", model.score(X_train, y_train))\n",
    "print(\"R2 na testovací množině: \", model.score(X_test, y_test))"
   ]
  },
  {
   "cell_type": "markdown",
   "metadata": {},
   "source": [
    "Funkce pro všechny možné metriky najdeš v [sklearn.metrics](https://scikit-learn.org/stable/modules/classes.html?highlight=sklearn%20metrics#module-sklearn.metrics).\n",
    "                                                            (nyní nás zajímají [regresní metriky](https://scikit-learn.org/stable/modules/classes.html?highlight=sklearn%20metrics#module-sklearn.metrics))          "
   ]
  },
  {
   "cell_type": "code",
   "execution_count": 13,
   "metadata": {},
   "outputs": [
    {
     "name": "stdout",
     "output_type": "stream",
     "text": [
      "Trénovací data  Testovací data\n",
      "MSE      0.539      0.312\n",
      "MAE      0.525      0.417\n",
      "R2       0.506      0.597\n"
     ]
    }
   ],
   "source": [
    "from sklearn.metrics import mean_absolute_error, mean_squared_error, r2_score\n",
    "\n",
    "MAE_train = mean_absolute_error(y_train, train_predikce)\n",
    "MAE_test  = mean_absolute_error(y_test, test_predikce)\n",
    "MSE_train = mean_squared_error(y_train, train_predikce) \n",
    "MSE_test = mean_squared_error(y_test, test_predikce)\n",
    "R2_train = r2_score(y_train, train_predikce)\n",
    "R2_test = r2_score(y_test, test_predikce)\n",
    "\n",
    "print(\"Trénovací data  Testovací data\")\n",
    "print(f\"MSE {MSE_train:>10.3f} {MSE_test:>10.3f}\")\n",
    "print(f\"MAE {MAE_train:>10.3f} {MAE_test:>10.3f}\")\n",
    "print(f\"R2  {R2_train:>10.3f} {R2_test:>10.3f}\")"
   ]
  },
  {
   "cell_type": "markdown",
   "metadata": {},
   "source": [
    "## Uložení modelu "
   ]
  },
  {
   "cell_type": "markdown",
   "metadata": {},
   "source": [
    "Někdy si potřebujeme naučený model uchovat na další použití. Model lze uložit do souboru a zase načíst pomocí `pickle`.\n",
    "Kujme pikle:"
   ]
  },
  {
   "cell_type": "code",
   "execution_count": 14,
   "metadata": {},
   "outputs": [
    {
     "data": {
      "text/plain": [
       "0.5972945031380011"
      ]
     },
     "execution_count": 14,
     "metadata": {},
     "output_type": "execute_result"
    }
   ],
   "source": [
    "import pickle \n",
    "\n",
    "with open(\"model.pickle\", \"wb\") as soubor:\n",
    "    pickle.dump(model, soubor)\n",
    "\n",
    "\n",
    "with open(\"model.pickle\", \"rb\") as soubor:\n",
    "    staronovy_model = pickle.load(soubor)\n",
    "\n",
    "staronovy_model.score(X_test, y_test)"
   ]
  },
  {
   "cell_type": "markdown",
   "metadata": {},
   "source": [
    "Pozn.: Bohužel mám poměrně bohaté špatné zkušenosti z načítáním modelů uložených před delším časem\n",
    "(bývá problém načíst model uložený ve starší verzi Scikit-learn ve verzi novější). "
   ]
  },
  {
   "cell_type": "markdown",
   "metadata": {},
   "source": [
    "### Bonusy:\n",
    "\n",
    " - volba vhodného modelu a jeho hyper-parametrů se skrývá pod klíčovým slovem **model selection**. Knihovna Scikit-learn obsahuje různé pomůcky k ulehčení toho výběru. Přesahuje to ale rámec tohoto kurzu, narazíš-li na to toho téma při samostudiu, pročti si [sklear.model_selection](https://scikit-learn.org/stable/modules/classes.html?highlight=model%20selection#module-sklearn.model_selection). \n",
    " \n",
    " - v příkladu výše jsme použili různé transformace nad daty a pak teprve tvorbu modelu. Až budeš v těchto věcech zběhlejší, bude se ti hodit propojit tyto věci dohromady. K tomu slouží tzv. [pipeline](https://scikit-learn.org/stable/modules/classes.html?highlight=pipeline#module-sklearn.pipeline).  "
   ]
  }
 ],
 "metadata": {
  "kernelspec": {
   "display_name": "Python 3",
   "language": "python",
   "name": "python3"
  },
  "language_info": {
   "codemirror_mode": {
    "name": "ipython",
    "version": 3
   },
   "file_extension": ".py",
   "mimetype": "text/x-python",
   "name": "python",
   "nbconvert_exporter": "python",
   "pygments_lexer": "ipython3",
   "version": "3.6.8"
  }
 },
 "nbformat": 4,
 "nbformat_minor": 2
}
